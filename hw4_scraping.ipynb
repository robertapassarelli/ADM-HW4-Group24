{
 "cells": [
  {
   "cell_type": "markdown",
   "metadata": {},
   "source": [
    "# Homework 4 - Group #24\n",
    "## 1) Does basic house information reflect house's description?\n",
    "\n",
    "Our goal is to implement two clustering and compare the results. We create two datasets and each of them will be filled by data that we scraped.\n",
    "\n",
    "First of all, we import the following libraries."
   ]
  },
  {
   "cell_type": "code",
   "execution_count": 155,
   "metadata": {},
   "outputs": [],
   "source": [
    "import time # For time sleep() Method\n",
    "import pandas as pd\n",
    "import numpy as np\n",
    "import requests #requests.get\n",
    "from urllib.request import urlopen\n",
    "from bs4 import BeautifulSoup\n",
    "from nltk.corpus import stopwords\n",
    "from nltk.tokenize import word_tokenize\n",
    "from nltk.tokenize import RegexpTokenizer\n",
    "from nltk.stem import PorterStemmer\n",
    "import io\n",
    "import json\n"
   ]
  },
  {
   "cell_type": "markdown",
   "metadata": {},
   "source": [
    "### Scraping\n",
    "Web scraping using **Beautiful Soup** library."
   ]
  },
  {
   "cell_type": "code",
   "execution_count": 44,
   "metadata": {},
   "outputs": [
    {
     "name": "stdout",
     "output_type": "stream",
     "text": [
      "Start : Sun Dec  2 20:58:09 2018\n",
      "['225.000', '2', '50', '1', '1']\n",
      "['375.000', '3', '120', '1', '3']\n",
      "['68.000', '2', '20', '1', '0']\n",
      "['450.000', '5', '150', '2', '3']\n",
      "['315.000', '3', '92', '2', '5']\n",
      "['269.000', '4', '131', '2', 'A']\n",
      "['1.599.000', '5', '270', '3', 'R']\n",
      "['579.000', '5', '160', '2', '2']\n",
      "['385.000', '3', '100', '3', '2']\n",
      "['940.000', '5', '200', '3', 'A']\n",
      "End : Sun Dec  2 20:58:16 2018\n"
     ]
    }
   ],
   "source": [
    "print (\"Start : %s\" % time.ctime())\n",
    "numb_ann = 10\n",
    "df1 = pd.DataFrame(columns=['Price', 'Locali', 'Superficie', 'Bagni', 'Piano'] )\n",
    "count = 1\n",
    "i = 1\n",
    "while count < numb_ann:\n",
    "    url = \"https://www.immobiliare.it/vendita-case/roma/?criterio=rilevanza&pag=\"+str(i)\n",
    "    html = urlopen(url)\n",
    "    soup = BeautifulSoup(html, 'lxml')\n",
    "    mydivs = soup.find_all(\"div\", {\"class\": \"listing-item_body--content\"})\n",
    "    i +=1\n",
    "    for a in mydivs:\n",
    "        ann = \"announcement_\"+ str(count)\n",
    "        data = a.find_all(\"li\", {\"class\":\"lif__item\"})\n",
    "        #while len(data) == 6 and count <= numb_ann:\n",
    "        if len(data) == 6 and count <= numb_ann:\n",
    "            pr = price(data)\n",
    "            loc = locali(data)\n",
    "            mq = superficie(data)\n",
    "            bath = bagni(data) \n",
    "            floor = piano(data)\n",
    "            l = [pr, loc, mq, bath, floor]\n",
    "            print(l)\n",
    "            df = pd.DataFrame([l], columns=['Price', 'Locali', 'Superficie', 'Bagni', 'Piano'])\n",
    "            count +=1\n",
    "            df1 = pd.concat([df1, df], ignore_index=True) \n",
    "    # time.sleep(720)\n",
    "print (\"End : %s\" % time.ctime())"
   ]
  },
  {
   "cell_type": "code",
   "execution_count": 68,
   "metadata": {
    "scrolled": true
   },
   "outputs": [],
   "source": [
    "all_links = soup.find_all('a')\n",
    "links = []\n",
    "for link in all_links:\n",
    "    if link.get('href')!= None:\n",
    "        links.append(link.get(\"href\"))\n",
    "\n",
    "need_links = []\n",
    "for i in links:\n",
    "    if i[-4:] == 'html':\n",
    "        need_links.append(i)\n",
    "    "
   ]
  },
  {
   "cell_type": "code",
   "execution_count": 162,
   "metadata": {
    "scrolled": true
   },
   "outputs": [
    {
     "name": "stdout",
     "output_type": "stream",
     "text": [
      "[['div', 'aria', 'expand', 'fals', 'class', 'col', 'xs', '12', 'descript', 'text', 'text', 'compress', 'role', 'contentinfo', 'div', 'papillo', 'eur', 'elegant', 'complesso', 'residenzial', 'rifinitissimo', 'bilocal', 'composto', 'soggiorno', 'angolo', 'cottura', 'stanza', 'letto', 'bagno', 'ampio', 'balcon', 'rifinitur', 'pregio', 'pavimenti', 'parquet', 'gree', 'infissi', 'legno', 'vetro', 'camera', 'port', 'noce', 'grate', 'salon', 'riscaldamento', 'termoautonomo', 'caldaia', 'centralizzata', 'aria', 'condizionata', 'videocitofono', 'porta', 'blindata', 'serramenti', 'elettrici', 'chiusura', 'centralizzata', 'antenna', 'satellitar', 'isolamento', 'termo', 'acustico', 'pannelli', 'solari', 'fotovoltaici', 'rilevatori', 'elettronici', 'ga', 'tutt', 'camer', 'fornit', 'impianto', 'antifurto', 'presa', 'antenna', 'satellitar', 'presa', 'telefonica', 'br', 'br', 'orari', 'lunedi', 'chiusi', 'br', 'martedi', '10', '00', '17', '00', 'br', 'mercoledi', '10', '00', '17', '00', 'br', 'hr', 'giovedi', '10', '00', '17', '00', 'br', 'hr', 'venrdi', '10', '00', '17', '00', 'br', 'hr', 'sabato', '10', '00', '17', '00', 'br', 'domenica', '10', '00', '13', '00', 'div', 'div'], ['div', 'aria', 'expand', 'fals', 'class', 'col', 'xs', '12', 'descript', 'text', 'text', 'compress', 'role', 'contentinfo', 'div', 'pigneto', 'appartamento', 'vendita', 'libero', 'luminoso', 'piano', 'alto', 'ristrutturato', 'ingresso', 'salon', 'due', 'camer', 'possibilità', 'terza', 'camera', 'cucina', 'abitabil', 'doppi', 'servizi', 'dilazioni', 'permut', 'rif', '969', 'tel', '06', '69353612', 'br', 'br', 'apart', 'for', 'sale', 'free', 'bright', 'high', 'floor', 'renov', 'entranc', 'hall', 'two', 'bedroom', 'possibl', 'third', 'bedroom', 'kitchen', 'two', 'bathroom', 'br', 'br', 'appart', 'à', 'vendr', 'étage', 'élevé', 'lumineux', 'gratuit', 'hall', 'd', 'entré', 'rénové', 'deux', 'chambr', 'possibilité', 'troisièm', 'chambr', 'cuisin', 'deux', 'sall', 'de', 'bain', 'br', 'br', 'apartamento', 'en', 'venta', 'alto', 'piso', 'libr', 'brillant', 'hall', 'de', 'entrada', 'renovado', 'do', 'dormitorio', 'posibilidad', 'de', 'tercer', 'dormitorio', 'cocina', 'do', 'baño', 'div', 'div'], ['div', 'aria', 'expand', 'fals', 'class', 'col', 'xs', '12', 'descript', 'text', 'text', 'compress', 'role', 'contentinfo', 'div', 'rif', '18066', 'triest', 'via', 'fontana', 'nell', 'immedi', 'vicinanz', 'villa', 'paganini', 'prestigioso', 'quartier', 'triest', 'proponiamo', 'all', 'interno', 'palazzo', 'signoril', 'buono', 'stato', 'ascensor', 'vendita', 'delizioso', 'loft', 'buono', 'stato', 'manutentivo', 'doppi', 'ingressi', 'composto', 'open', 'space', 'cucinotto', 'vista', 'servizio', 'un', 'ampia', 'zona', 'nott', 'soppalcata', 'ottimo', 'investimento', 'possibilità', 'alta', 'rendita', 'I', 'dati', 'intendono', 'corretti', 'garant', 'La', 'present', 'costituisc', 'nessun', 'caso', 'documento', 'contrattual', 'br', 'inserisci', 'via', 'cap', 'ricever', 'valutazion', 'immediata', 'tua', 'casa', 'entra', 'sito', 'web', 'http', 'www', 'angeliniproperti', 'it', 'valuta', 'la', 'tua', 'casa', 'br', 'br', 'tutt', 'novità', 'trovi', 'canali', 'social', 'br', 'like', 'facebook', 'http', 'www', 'facebook', 'com', 'angeliniproperti', 'ref', 'bookmark', 'br', 'iscriv', 'youtub', 'http', 'www', 'youtub', 'com', 'channel', 'uckylafeitvles6emft9l', 'rA', 'div', 'div'], ['div', 'aria', 'expand', 'fals', 'class', 'col', 'xs', '12', 'descript', 'text', 'text', 'compress', 'role', 'contentinfo', 'div', 'zona', 'eur', 'vial', 'cesar', 'paves', 'via', 'salvator', 'quasimodo', '113', 'circolo', 'ferratella', 'br', 'br', 'viver', 'appartamento', 'significa', 'regalar', 'te', 'famiglia', 'possibilità', 'vita', 'serena', 'tranquilla', 'chiudi', 'occhi', 'immagina', 'quiet', 'riposo', 'senti', 'pell', 'raggi', 'sole', 'illuminano', 'casa', 'pensa', 'aperitivi', 'amici', 'terrazzo', 'tramonto', 'dolc', 'musica', 'sottofondo', 'davanti', 'verd', 'alberi', 'giardino', 'condominial', 'senza', 'stress', 'impegno', 'manutenzion', 'pensa', 'giardinier', 'condominio', 'br', 'br', 'zona', 'eur', 'paves', 'centro', 'sportivo', 'ferratella', 'quasimodo', 'consiglia', 'collegarsi', 'sito', 'www', 'maxdirocco', 'it', 'video', 'foto', 'virtual', 'tour', 'planimetri', '3', 'ipotesi', 'progetto', 'possibilità', 'estrarr', 'copia', 'L', 'abitazion', 'sita', 'terzo', 'piano', 'immobil', 'vuoto', 'libero', 'doppia', 'esposizion', 'est', 'ovest', 'attualment', 'composto', 'ingresso', 'salon', 'doppio', 'accesso', 'primo', 'terrazzo', 'tre', 'camer', 'ripostiglio', 'cucina', 'porta', 'finestra', 'secondo', 'terrazzo', 'due', 'bagni', 'vasca', 'altro', 'doccia', 'entrambi', 'finestra', 'box', 'auto', 'cantina', 'superfici', 'commercial', 'total', 'ragguagliata', 'mq', '150', '25', 'ristrutturar', 'abitabil', 'piccoli', 'interventi', 'disponibili', 'tre', 'ipotesi', 'ristrutturazion', 'due', 'rilievi', 'metrici', 'redatti', 'architetto', 'br', 'br', 'con', 'ristrutturazion', 'possibil', 'ricavar', 'appartamento', 'adatto', 'studio', 'abitazion', 'oppur', 'crear', 'due', 'appartamenti', 'autonomi', 'adiacenti', 'alternativa', 'appartamento', 'unico', 'salon', 'sala', 'pranzo', 'camera', 'letto', 'cabina', 'armadio', 'bagno', 'privato', 'due', 'camer', 'due', 'bagni', 'cucina', 'due', 'terrazzi', 'altra', 'possibilità', 'salon', 'cucina', 'vista', 'sala', 'pranzo', 'camera', 'matrimonial', 'cabina', 'armadio', 'camera', 'doppia', 'due', 'camer', 'singol', 'due', 'bagni', 'due', 'terrazzi', 'br', 'br', 'È', 'disponibil', 'relazion', 'notaio', 'certifica', 'inesistenza', 'gravami', 'libera', 'commerciabilità', 'immobili', 'br', 'br', 'possibilità', 'finanziamenti', 'tassi', 'agevolati', 'acquisto', 'ristrutturazion', 'attestato', 'prestazion', 'energetica', 'class', 'E', 'epgl', 'nren', '59', '5660', 'kwh', 'm²anno', 'L', 'appartamento', 'part', 'fabbricato', 'edificato', 'virtù', 'licenza', 'edilizia', 'n', '240', 'rilasciata', '24', '03', '1975', 'variant', 'n', '2432', 'C', '22', '04', '1979', 'dichiarato', 'abitabil', 'certificato', 'n', '271', '23', '11', '1981', 'L', 'edificio', 'stato', 'costruito', 'struttura', 'cemento', 'armato', 'solai', 'laterocemento', 'tamponatur', 'estern', 'pannelli', 'cemento', 'armato', 'precompresso', 'condominio', 'composto', 'scala', 'total', '9', 'appartamenti', 'struttura', 'sviluppa', 'piano', 'interrato', 'adibito', 'box', 'posti', 'auto', 'cantin', 'piano', 'terra', 'piloti', 'ampio', 'local', 'condominial', 'scala', '5', 'piani', 'due', 'appartamenti', 'piano', 'unico', 'appartamento', 'quinto', 'copertura', 'piana', 'terrazzo', 'Il', 'fabbricato', 'stato', 'ristrutturato', 'esternament', 'due', 'anni', 'br', 'L', 'appartamento', 'vendita', 'superfici', 'total', 'commercial', 'ragguagliata', 'mq', '150', '25', 'per', 'ulteriori', 'informazioni', 'collegarsi', 'www', 'maxdirocco', 'it', 'div', 'div'], ['div', 'aria', 'expand', 'fals', 'class', 'col', 'xs', '12', 'descript', 'text', 'text', 'compress', 'role', 'contentinfo', 'div', 'nella', 'silenziosa', 'via', 'camillo', 'porzio', 'proponiamo', 'vendita', 'esclusiva', 'villa', 'indipendent', 'unica', 'gener', 'risalent', 'primi', 'anni', 'novecento', 'La', 'proprietà', 'stata', 'oggetto', 'particolar', 'ristrutturazion', 'valorizzato', 'funzionalità', 'ambienti', 'Si', 'acced', 'abitazion', 'attraverso', 'meraviglioso', 'giardino', 'ricco', 'piant', 'ornamentali', 'Al', 'piano', 'terra', 'trovano', 'posto', 'moderna', 'cucina', 'salon', 'illuminato', 'ampi', 'vetrat', 'soffitti', 'alti', 'tre', 'metri', 'camera', 'letto', 'due', 'bagni', 'en', 'suit', 'Il', 'primo', 'piano', 'ospita', 'due', 'camer', 'entramb', 'bagno', 'esclusivo', 'zona', 'studio', 'relax', 'infin', 'scala', 'porta', 'terrazza', 'abitabil', 'ideal', 'occasioni', 'conviviali', 'Le', 'soluzioni', 'architettonich', 'adott', 'progettista', 'impreziosiscono', 'immobil', 'mentr', 'materiali', 'pregio', 'parquet', 'bagni', 'resina', 'cementizia', 'moderno', 'impianto', 'riscaldamento', 'pavimento', 'conferiscono', 'stile', 'comfort', 'br', 'Le', 'presenti', 'informazioni', 'planimetri', 'merament', 'indic', 'costituiscono', 'elementi', 'contrattuali', 'br', 'rif', 'W', '02876o', 'leonard', 'cervinschi', 'tel', '39', '06', '45', '54', '81', '20', 'div', 'div'], ['div', 'aria', 'expand', 'fals', 'class', 'col', 'xs', '12', 'descript', 'text', 'text', 'compress', 'role', 'contentinfo', 'div', 'fino', '31', '12', '2018', 'spese', 'rel', 'onorario', 'notaio', 'carico', 'esclusivo', 'proprietario', 'br', 'br', 'In', 'via', 'cottanello', 'raggiungibil', 'piedi', 'metropolitana', 'linea', 'B', 'fermata', 'pietralata', 'proponiamo', 'vendita', 'esclusiva', 'appartamento', 'nuova', 'edilizia', 'pronta', 'consegna', 'rifinito', 'ottimi', 'materiali', 'L', 'immobil', 'situato', 'quinto', 'ultimo', 'piano', 'condominio', 'moderno', 'curato', 'dettagli', 'dotato', 'ascensor', 'touch', 'spazi', 'condominiali', 'comodi', 'internament', 'composto', 'ampio', 'salon', 'vista', 'accesso', 'diretto', 'balcon', 'angolo', 'cottura', 'ampia', 'finestra', 'camera', 'matrimonial', 'anch', 'essa', 'uscita', 'balcon', 'seconda', 'camera', 'due', 'bagni', 'en', 'suit', 'La', 'proprietà', 'gode', 'luminosa', 'esposizion', 'sud', 'completa', 'proprietà', 'cantina', 'sita', 'piano', 'seminterrato', 'collegata', 'ascensor', 'piano', 'Le', 'rifinitur', 'materiali', 'utilizzati', 'alto', 'standard', 'qualitativo', 'pavimenti', 'gre', 'porcellanato', 'intera', 'superfici', 'infissi', 'alluminio', 'taglio', 'termico', 'ottimo', 'abbattimento', 'termico', 'acustico', 'avvolgibili', 'motorizzati', 'videocitofono', 'colori', 'portoncino', 'blindato', 'sensor', 'antiallagamento', 'sensor', 'rilevamento', 'ga', 'impianto', 'riscaldamento', 'centralizzato', 'contabilizzatori', 'impianto', 'antincendio', 'condominial', 'impianto', 'fotovoltaico', 'termico', 'solar', 'condominial', 'possibilità', 'acquistar', 'box', 'autorimessa', 'piano', 'sottostant', 'br', 'Le', 'presenti', 'informazioni', 'planimetri', 'merament', 'indic', 'costituiscono', 'elementi', 'contrattuali', 'br', 'rif', 'W', '02cidl', 'leonard', 'cervinschi', 'tel', '39', '06', '45', '54', '81', '20', 'div', 'div'], ['div', 'aria', 'expand', 'fals', 'class', 'col', 'xs', '12', 'descript', 'text', 'text', 'compress', 'role', 'contentinfo', 'div', 'rif', '17029', 'romanina', 'cinecittà', 'est', 'via', 'ignazio', 'scimonelli', 'all', 'interno', 'elegant', 'comprensorio', 'recent', 'costruzion', 'circondato', 'ampi', 'giardini', 'condominiali', 'proponiamo', 'vendita', 'attico', 'bilivelli', '110mq', 'circa', 'composto', 'terzo', 'piano', 'ingresso', 'salon', 'cucina', 'vista', 'camera', 'servizio', 'terrazzo', 'livello', '70mq', 'piano', 'mansarda', 'tre', 'camer', 'servizio', 'possibilità', 'box', 'auto', '22mq', '25', '000', 'luminoso', 'arredato', 'possibilità', 'accollo', 'mutuo', 'l', 'intero', 'importo', 'I', 'dati', 'intendono', 'corretti', 'garant', 'La', 'present', 'costituisc', 'nessun', 'caso', 'documento', 'contrattual', 'br', 'inserisci', 'via', 'cap', 'ricever', 'valutazion', 'immediata', 'tua', 'casa', 'entra', 'sito', 'web', 'http', 'www', 'angeliniproperti', 'it', 'valuta', 'la', 'tua', 'casa', 'br', 'br', 'tutt', 'novità', 'trovi', 'canali', 'social', 'br', 'like', 'facebook', 'http', 'www', 'facebook', 'com', 'angeliniproperti', 'ref', 'bookmark', 'br', 'iscriv', 'youtub', 'http', 'www', 'youtub', 'com', 'channel', 'uckylafeitvles6emft9l', 'rA', 'div', 'div'], ['div', 'aria', 'expand', 'fals', 'class', 'col', 'xs', '12', 'descript', 'text', 'text', 'compress', 'role', 'contentinfo', 'div', 'In', 'palazzina', 'tinta', 'servizio', 'portineria', 'ascensor', 'appartamento', '270', 'mq', 'posto', 'piano', 'rialzato', 'oltr', 'terrazz', 'total', '255', 'mq', 'L', 'immobil', 'composto', 'ingresso', 'salon', 'doppio', 'camino', 'prospicient', 'terrazzo', 'sala', 'pranzo', '2', 'cucin', 'esterna', 'servizio', 'terrazz', '4', 'camer', '4', 'bagni', 'completano', 'proprietà', 'box', 'auto', '20', 'mq', 'cantina', '10', 'mq', 'non', 'barrier', 'architettonich', 'br', 'La', 'zona', 'caratterizza', 'presenza', 'unità', 'commerciali', 'residenziali', 'vast', 'are', 'verdi', 'parco', 'villa', 'borghes', 'villa', 'ada', 'prestigio', 'costruzioni', 'dall', 'impronta', 'tipica', 'razionalismo', 'primi', 'anni', 'novecento', 'cod', '9933', 'div', 'div'], ['div', 'aria', 'expand', 'fals', 'class', 'col', 'xs', '12', 'descript', 'text', 'text', 'compress', 'role', 'contentinfo', 'div', 'eur', 'appartamento', 'vendita', 'via', 'cesar', 'paves', 'comprensorio', 'signoril', 'verd', 'luminoso', 'completament', 'finement', 'ristrutturato', 'ingresso', 'salon', 'doppio', 'quattro', 'camer', 'cucina', 'doppi', 'servizi', 'possibilità', 'terzo', 'servizio', 'armadi', 'muro', 'terrazzo', 'balcon', 'box', 'cantina', 'dilazioni', 'permut', 'rif', '1048m', 'tel', '06', '53', '43', '497', 'br', 'br', 'eur', 'apart', 'for', 'sale', 'eleg', 'district', 'bright', 'greeneri', 'complet', 'and', 'tast', 'renov', 'entranc', 'hall', 'doubl', 'four', 'bedroom', 'kitchen', 'two', 'bathroom', 'possibl', 'third', 'servic', 'wardrob', 'terrac', 'balconi', 'box', 'cellar', 'dilut', 'rif', '1048m', 'perm', 'tel', '06', '53', '43', '497', 'div', 'div'], ['div', 'aria', 'expand', 'fals', 'class', 'col', 'xs', '12', 'descript', 'text', 'text', 'compress', 'role', 'contentinfo', 'div', 'soli', '229', '000', '00', 'hr', 'zona', 'denominata', 'vignol', 'sorgendo', 'nuovo', 'fantastico', 'complesso', 'residenzial', '7', 'vill', 'contesto', 'signoril', 'unico', 'vignol', 'nuova', 'zona', 'fortissima', 'espansion', 'unita', 'immobiliar', 'proponiamo', 'complesso', 'residenzial', 'grand', 'successo', 'villa', 'unifamiliar', 'ultima', 'generazion', 'studiata', 'ogni', 'dettaglio', 'progettazion', 'comfort', 'qualita', 'material', 'utilizzato', 'costruzion', 'immobil', 'rendono', 'unico', 'inimitabil', 'gener', 'piantina', 'riportata', 'immobil', 'offr', 'camera', 'singola', 'due', 'maestos', 'camer', 'matrimonial', 'tre', 'bagni', 'grandezz', 'signorili', 'ampio', 'salon', 'vien', 'presentato', 'studiato', 'progettista', 'dare', 'vero', 'significato', 'parol', 'casa', 'comodita', 'consegna', 'prevista', 'novembr', 'dicembr', '2019', 'villa', 'fase', 'costruzion', 'total', 'possibilita', 'esser', 'modificata', 'dettagli', 'grazi', 'staff', 'resta', 'total', 'disposizion', 'permettera', 'render', 'casa', 'piu', 'unica', 'mai', 'materiali', 'disposizion', 'immobil', 'total', 'scelta', 'casa', 'completament', 'fuori', 'terra', 'realizzata', 'sistemi', 'anti', 'allagamento', 'anti', 'sismici', 'societa', 'costruttric', 'esperienza', 'generazion', 'generazion', 'tramandato', 'grand', 'esperienza', 'poter', 'render', 'villa', 'efficent', 'duratura', 'anni', 'venir', 'complesso', 'trova', '500', 'metri', 'centro', 'commercial', 'vinci', 'nuovo', 'outlet', '170', 'negozzi', 'lavori', 'gia', 'iniziati', 'verrano', 'ultimati', '2020', 'svincolo', 'roma', 'fiumicino', 'parco', 'leonardo', 'vienici', 'trovar', 'punto', 'vedita', 'cantier', 'aperto', 'igiorni', 'trann', 'lunedi', 'ore', '10', '00', 'ore', '17', '00', 'fissando', 'appuntamento', 'numero', '345', '14', '62', '726', 'qualityhom', 'vanta', 'piccolo', 'rigoroso', 'staff', 'inclusi', 'prezzi', 'servizio', 'consulenza', 'mutuo', 'acquistar', 'casa', 'sara', 'piacevol', 'percorso', 'clienti', 'verranno', 'seguiti', 'tutelati', 'fino', 'momento', 'consegna', 'immobil', 'rogito', 'notaril', 'br', 'tipologia', 'unifamigliar', 'br', 'br', 'inizio', 'cantier', 'febbraio', '2019', 'br', 'br', 'consegna', 'immobil', 'novembr', 'dicembr', '2019', 'br', 'br', 'prezzo', '229', '000', 'iva', 'senza', 'costi', 'aggiuntivi', 'br', 'br', 'proposta', '5', '000', '00', 'br', 'br', 'preliminar', 'dopo', '15', 'giorni', 'accetazion', 'proposta', '10', 'br', 'br', 'secondo', 'acconto', 'atto', 'd', 'obligo', 'inizio', 'cantier', '10', 'saldo', 'rogito', 'contanti', 'mutuo', 'entro', 'novembr', 'dicembr', '2019', 'br', 'br', 'n', 'b', 'societa', 'costruzioni', 'rilascia', 'client', 'fideiussion', 'acconti', 'dati', 'momento', 'consegna', 'vien', 'rilasciata', 'decennal', 'postuma', 'garanzia', 'tutta', 'struttura', 'immobil', 'dieci', 'anni', 'penali', 'consegna', 'ritardo', 'immobil', 'favor', 'client', 'div', 'div'], ['div', 'aria', 'expand', 'fals', 'class', 'col', 'xs', '12', 'descript', 'text', 'text', 'compress', 'role', 'contentinfo', 'div', 'rif', '18107', 'osteria', 'del', 'curato', 'via', 'casal', 'ferranti', 'In', 'palazzina', 'cortina', 'ristrutturata', 'soli', 'due', 'piani', 'proponiamo', 'vendita', 'appartamento', 'ristrutturato', '130mq', 'disposto', 'due', 'livelli', 'composto', 'piano', 'terra', 'salon', 'cucina', 'vista', 'ampia', 'camera', 'matrimonial', 'servizio', 'due', 'balconi', 'piano', 'seminterrato', 'ingresso', 'soggiorno', 'due', 'camer', 'letto', 'servizio', 'L', 'intera', 'proprietà', 'circondata', 'giardino', 'proprietà', '180mq', 'completano', 'proprietà', 'comoda', 'cantina', 'due', 'posti', 'auto', 'divisibil', 'due', 'appartamenti', 'I', 'dati', 'intendono', 'corretti', 'garant', 'La', 'present', 'costituisc', 'nessun', 'caso', 'documento', 'contrattual', 'br', 'inserisci', 'via', 'cap', 'ricever', 'valutazion', 'immediata', 'tua', 'casa', 'entra', 'sito', 'web', 'http', 'www', 'angeliniproperti', 'it', 'valuta', 'la', 'tua', 'casa', 'br', 'br', 'tutt', 'novità', 'trovi', 'canali', 'social', 'br', 'seguici', 'instagram', 'http', 'www', 'instagram', 'com', 'la_tua_family_ag', 'br', 'like', 'facebook', 'http', 'www', 'facebook', 'com', 'angeliniproperti', 'ref', 'bookmark', 'br', 'iscriv', 'youtub', 'http', 'www', 'youtub', 'com', 'channel', 'uckylafeitvles6emft9l', 'rA', 'div', 'div'], ['div', 'aria', 'expand', 'fals', 'class', 'col', 'xs', '12', 'descript', 'text', 'text', 'compress', 'role', 'contentinfo', 'div', 'san', 'giovanni', 'appartamento', 'vendita', 'adiacent', 'via', 'terni', 'tranquillo', 'luminoso', 'ingresso', 'soggiorno', 'due', 'camer', 'cucina', 'abitabil', 'tripli', 'servizi', 'dilazioni', 'permut', 'rif', '999', 'tel', '06', '69353612', 'br', 'br', 'apart', 'for', 'sale', 'adjac', 'via', 'terni', 'quiet', 'bright', 'entranc', 'live', 'room', 'two', 'bedroom', 'kitchen', 'live', 'tripl', 'servic', 'br', 'br', 'appart', 'à', 'vendr', 'adjac', 'via', 'terni', 'calm', 'entré', 'lumineus', 'salon', 'deux', 'chambr', 'cuisin', 'séjour', 'tripl', 'servic', 'br', 'br', 'apartamento', 'en', 'venta', 'adyacent', 'travé', 'de', 'terni', 'entrada', 'tranquila', 'y', 'luminosa', 'sala', 'de', 'estar', 'do', 'dormitorio', 'cocina', 'que', 'viven', 'servicio', 'tripl', 'div', 'div'], ['div', 'aria', 'expand', 'fals', 'class', 'col', 'xs', '12', 'descript', 'text', 'text', 'compress', 'role', 'contentinfo', 'div', 'triest', 'villa', 'torlonia', 'br', 'In', 'via', 'nomentana', 'altezza', 'corso', 'triest', 'splendida', 'cornic', 'villa', 'torlonia', 'piacer', 'proporr', 'vendita', 'splendido', 'palazzetto', 'unico', 'gener', 'facilment', 'riconoscibil', 'particolar', 'color', 'immobil', 'appartenuto', 'famiglia', 'nobil', 'stato', 'sede', 'oim', 'molti', 'anni', 'disposto', 'due', 'piani', 'tre', 'entrat', 'interno', 'due', 'via', 'nomentana', 'così', 'composto', 'piano', 'terra', 'entra', 'grandi', 'saloni', 'rappresentanza', 'tre', 'bagni', 'piano', 'sopra', 'trovano', 'posto', 'alloggi', 'personal', 'servizio', 'nonché', 'camer', 'letto', 'padronali', 'nello', 'spazio', 'esterno', 'part', 'pavimentato', 'possibilità', 'parcheggiar', '5', 'auto', 'chiud', 'splendida', 'cornic', 'proprietà', 'rigoglioso', 'giardino', 'div', 'div'], ['div', 'aria', 'expand', 'fals', 'class', 'col', 'xs', '12', 'descript', 'text', 'text', 'compress', 'role', 'contentinfo', 'div', 'nella', 'tranquilla', 'silenziosa', 'via', 'ezra', 'pound', 'elegant', 'raffinato', 'comprensorio', 'dotato', 'piscina', 'servizio', 'portierato', '24', 'ore', 'proponiamo', 'vendita', 'esclusiva', 'panoramico', 'rifinito', 'attico', 'superattico', 'circa', '175', 'mq', 'interni', 'settimo', 'ottavo', 'piano', 'palazzina', 'nuova', 'costruzion', 'L', 'immobil', 'disposto', '2', 'piani', 'presenta', 'buona', 'disposizion', 'spazi', 'meravigliosi', 'terrazzi', 'eccellent', 'tripla', 'esposizion', 'dall', 'ingresso', 'acced', 'luminosa', 'confortevol', 'zona', 'live', 'rappresenta', 'cuor', 'casa', 'conduc', 'cucina', 'abitabil', 'funzional', 'camera', 'letto', 'patronal', 'servita', 'bagno', 'altro', 'servizio', 'Un', 'comodo', 'pregevol', 'armadio', 'muro', 'trova', 'zona', 'ngresso', 'tutti', 'ambienti', 'affaccio', 'accesso', 'diretto', 'bellissimo', 'curatissimo', 'terrazzo', 'garantisc', 'respiro', 'luminosità', 'ogni', 'momento', 'giornata', 'una', 'scala', 'legno', 'porta', 'piano', 'superior', 'troviamo', 'ampio', 'salon', 'luminosa', 'camera', 'letto', 'bagno', 'piccola', 'area', 'adibita', 'studio', 'anch', 'livello', 'servito', 'ingresso', 'indipendent', 'troviamo', 'terrazzo', 'perimetral', 'elegant', 'attrezzato', 'completo', 'vasca', 'idromassaggio', 'L', 'appartamento', 'rifinito', 'materiali', 'pregio', 'pavimentazion', 'parquet', 'chiaro', 'ambienti', 'ceramich', 'ricerc', 'servizi', 'cucina', 'E', 'inoltr', 'dotato', 'infissi', 'legno', 'doppio', 'vetro', 'presenta', 'sistema', 'aria', 'condizionata', 'canalizzata', 'impianto', 'termico', 'pavimento', 'video', 'citofono', 'domotica', 'serrand', 'elettrich', 'porta', 'blindata', 'completano', 'proposta', 'box', 'auto', 'posto', 'auto', 'garag', 'coperto', 'raggiungibili', 'direttament', 'ascensor', 'interno', 'br', 'rif', 'W', '02agv', 'laura', 'guadagno', 'tel', '39', '06', '45', '54', '81', '20', 'div', 'div'], ['div', 'aria', 'expand', 'fals', 'class', 'col', 'xs', '12', 'descript', 'text', 'text', 'compress', 'role', 'contentinfo', 'div', 'san', 'giovanni', 'appartamento', 'vendita', 'finement', 'ristrutturato', 'libero', 'tranquillo', 'luminoso', 'ampio', 'ingresso', 'salon', 'angolo', 'cottura', 'due', 'camer', 'bagno', 'dilazioni', 'permut', 'rif', '814', 'tel', '06', '69353612', 'br', 'br', 'wohnung', 'zu', 'verkaufen', 'fein', 'renoviert', 'frei', 'ruhig', 'hell', 'große', 'eingangshal', 'mit', 'balkon', 'zwei', 'schlafzimm', 'badezimm', 'dienstleistungen', 'permut', 'br', 'br', 'saint', 'john', 'appart', 'à', 'vendr', 'financi', 'rénové', 'libr', 'calm', 'lumineux', 'grand', 'hall', 'von', 'entré', 'mit', 'kochnisch', 'deux', 'chambr', 'sall', 'de', 'bain', 'dilatationen', 'permut', 'br', 'br', 'apartamento', 'en', 'venta', 'renovierungsbedürftig', 'grati', 'tranquilo', 'lumin', 'große', 'eingangshal', 'mit', 'cocina', 'americana', 'do', 'dormitorio', 'baño', 'dilacion', 'permutar', 'div', 'div'], ['div', 'aria', 'expand', 'fals', 'class', 'col', 'xs', '12', 'descript', 'text', 'text', 'compress', 'role', 'contentinfo', 'div', 'rif', '18105', 'porta', 'DI', 'roma', 'via', 'carlo', 'dapporto', 'A', 'pochi', 'passi', 'centro', 'commercial', 'porta', 'roma', 'proponiamo', 'all', 'interno', 'palazzina', 'recent', 'costruzion', 'soli', 'tre', 'piani', 'ascensor', 'vendita', 'appartamento', 'ottimo', 'stato', '60mq', 'posto', 'piano', 'terra', 'composto', 'ingresso', 'salon', 'camera', 'cucinotto', 'servizio', 'giardino', 'privato', 'circa', '70mq', 'L', 'appartamento', 'dispon', 'riscaldamento', 'autonomo', 'aria', 'condizionata', 'servizio', 'vasca', 'idromassaggio', 'completa', 'proprietà', 'posto', 'auto', 'coperto', 'I', 'dati', 'intendono', 'corretti', 'garant', 'La', 'present', 'costituisc', 'nessun', 'caso', 'documento', 'contrattual', 'br', 'inserisci', 'via', 'cap', 'ricever', 'valutazion', 'immediata', 'tua', 'casa', 'entra', 'sito', 'web', 'http', 'www', 'angeliniproperti', 'it', 'valuta', 'la', 'tua', 'casa', 'br', 'br', 'tutt', 'novità', 'trovi', 'canali', 'social', 'br', 'seguici', 'instagram', 'http', 'www', 'instagram', 'com', 'la_tua_family_ag', 'br', 'like', 'facebook', 'http', 'www', 'facebook', 'com', 'angeliniproperti', 'ref', 'bookmark', 'br', 'iscriv', 'youtub', 'http', 'www', 'youtub', 'com', 'channel', 'uckylafeitvles6emft9l', 'rA', 'div', 'div'], ['div', 'aria', 'expand', 'fals', 'class', 'col', 'xs', '12', 'descript', 'text', 'text', 'compress', 'role', 'contentinfo', 'div', 'nell', 'immedi', 'vicinanz', 'vial', 'cortina', 'D', 'ampezzo', 'precisament', 'via', 'fort', 'trionfal', 'proponiamo', 'vendita', 'elegant', 'esclusivo', 'attico', 'super', 'attico', 'ristrutturar', 'vista', 'panoramica', 'condominio', 'signoril', 'solo', '8', 'proprietari', 'posto', 'terzo', 'quarto', 'piano', 'palazzo', 'primi', 'anni', '70', 'immobil', 'compon', 'ampio', 'ingresso', 'scala', 'super', 'attico', 'salon', 'triplo', 'biblioteca', 'camino', 'funzionant', 'cucina', 'abitabil', 'luminosa', 'veranda', 'tre', 'camer', 'letto', 'tre', 'bagni', 'quattro', 'grandi', 'terrazzi', 'completano', 'proprietà', 'box', 'auto', 'doppio', 'piano', 'seminterrato', 'circa', '40mq', '5', 'm', 'altezza', 'collegato', 'appartamento', 'ascensor', 'principal', 'posto', 'auto', 'esterno', 'L', 'appartamento', 'possied', 'tripla', 'esposizion', 'pertanto', 'molto', 'luminoso', 'ventilato', 'La', 'ampia', 'metratura', 'disposizion', 'interna', 'permettono', 'inoltr', 'suddividerlo', 'due', 'unità', 'abit', 'L', 'immobil', 'gode', 'posizion', 'privilegiata', 'vicino', 'servizi', 'raggiungibili', 'piedi', 'adatto', 'vuol', 'aver', 'servizi', 'spazi', 'verdi', 'vicino', 'centro', 'cerca', 'soluzion', 'immedi', 'vicinanz', 'policlinico', 'gemelli', 'università', 'cattolica', 'san', 'filippo', 'neri', 'farnesina', 'ideal', 'professionisti', 'investitori', 'br', 'Le', 'presenti', 'informazioni', 'planimetri', 'merament', 'indic', 'costituiscono', 'elementi', 'contrattuali', 'br', 'br', 'rif', 'W', '02a7wf', 'michel', 'D', 'iasio', 'tel', '39', '06', '45', '54', '81', '20', 'div', 'div'], ['div', 'aria', 'expand', 'fals', 'class', 'col', 'xs', '12', 'descript', 'text', 'text', 'compress', 'role', 'contentinfo', 'div', 'A', 'pochi', 'passi', 'prestigiosa', 'cornic', 'piazza', 'spagna', 'cuor', 'trident', 'esattament', 'via', 'margutta', 'proponiamo', 'vendita', 'appartamento', 'alta', 'rappresentanza', 'La', 'proprietà', 'sviluppa', 'secondo', 'piano', 'stabil', 'tre', 'costruito', '1600', 'dotato', 'ascensor', 'all', 'ingresso', 'accogli', 'ampio', 'salon', 'caratteristich', 'travi', 'vista', 'talvolta', 'decor', 'presenti', 'ogni', 'camera', 'segu', 'camera', 'pranzo', 'tre', 'camer', 'cucina', 'abitabil', 'due', 'bagni', 'ripostiglio', 'tutt', 'camer', 'affacciano', 'esterno', 'via', 'margutta', 'esposizion', 'garantisc', 'ottima', 'luminosità', 'br', 'La', 'proprietà', 'corredata', 'pavimenti', 'cotto', 'piastrel', 'bagni', 'camera', 'blindata', 'aria', 'condizionata', 'infissi', 'legno', 'alluminio', 'L', 'immobil', 'adatto', 'clientela', 'predilig', 'ampi', 'spazi', 'rappresentanza', 'contesto', 'signoril', 'cuor', 'centro', 'storico', 'roma', 'br', 'Le', 'presenti', 'informazioni', 'planimetri', 'merament', 'indic', 'costituiscono', 'elementi', 'contrattuali', 'br', 'rif', 'W', '02al7i', 'lucia', 'geraci', 'tel', '39', '06', '45', '54', '81', '20', 'div', 'div'], ['div', 'aria', 'expand', 'fals', 'class', 'col', 'xs', '12', 'descript', 'text', 'text', 'compress', 'role', 'contentinfo', 'div', 'A', 'due', 'passi', 'via', 'gallia', 'quartier', 'san', 'giovanni', 'proponiamo', 'vendita', 'esclusiva', 'elegant', 'villa', 'd', 'epoca', 'stile', 'liberti', 'risalent', 'anni', 'venti', 'secolo', 'scorso', 'dal', 'comodo', 'giardino', 'ca', '350', 'mq', 'acced', 'proprietà', 'sviluppa', 'tre', 'livelli', 'fuori', 'terra', 'seminterrato', 'grand', 'ingresso', 'piano', 'terreno', 'conduc', 'rappresentanza', 'costituita', 'triplo', 'salon', 'sala', 'pranzo', 'camino', 'cucina', 'abitabil', 'anticucina', 'servizio', 'mediant', 'scala', 'interna', 'acced', 'primo', 'piano', 'composto', 'cinqu', 'comod', 'camer', 'letto', 'due', 'bagni', 'ampio', 'studio', 'balcon', 'sempr', 'scala', 'interna', 'acced', 'caratteristico', 'torrino', 'apr', 'grand', 'terrazza', 'ca', '200', 'mq', 'offr', 'meravigliosa', 'vista', 'panoramica', 'scorcio', 'basilica', 'san', 'giovanni', 'Il', 'piano', 'seminterrato', 'costituito', 'quattro', 'camer', 'servizio', 'destinazion', 'd', 'uso', 'A', '10', 'ufficio', 'affittato', 'buona', 'rendita', 'grand', 'local', 'uso', 'cantina', 'magazzino', 'ideal', 'ricerca', 'residenza', 'prestigiosa', 'due', 'passi', 'servizi', 'Le', 'presenti', 'informazioni', 'planimetri', 'merament', 'indic', 'costituiscono', 'elementi', 'contrattuali', 'br', 'rif', 'W', '0261ki', 'leonard', 'cervinschi', 'tel', '39', '06', '45', '54', '81', '20', 'div', 'div'], ['div', 'aria', 'expand', 'fals', 'class', 'col', 'xs', '12', 'descript', 'text', 'text', 'compress', 'role', 'contentinfo', 'div', 'In', 'via', 'clement', 'iii', 'traversa', 'via', 'pineta', 'sacchetti', 'proponiamo', 'attico', 'mansarda', 'ca', '159', 'mq', 'L', 'immobil', 'occupa', '4', '5', 'piano', 'stabil', 'intonaco', 'presenta', 'condizioni', 'abitabili', 'dall', 'ampio', 'ingresso', 'dotato', 'guardaroba', 'acced', 'direttament', 'vari', 'ambienti', 'sinistra', 'troviamo', 'zona', 'giorno', 'salon', 'doppio', 'studio', 'terrazzo', 'abitabil', 'balcon', 'front', 'cucina', 'semiabitabil', 'destra', 'zona', 'nott', 'disimpegno', 'due', 'camer', 'bagno', 'fulcro', 'casa', 'zona', 'giorno', 'salon', 'doppio', 'caratterizzato', 'grand', 'paret', 'dipinta', 'termocamino', 'legna', 'dà', 'accesso', 'diretto', 'terrazzo', 'ca', '47', 'mq', 'qui', 'gode', 'splendida', 'vista', 'libera', 'verso', 'parco', 'urbano', 'pineto', 'cupola', 'san', 'pietro', 'Al', '5', 'piano', 'troviamo', 'mansarda', 'balconcino', 'ristrutturar', 'ca', '30', 'mq', 'L', 'accesso', 'ambient', 'attualment', 'scala', 'esterna', 'posizionata', 'terrazzo', '4', 'piano', 'Le', 'potenzialità', 'offr', 'molteplici', 'possibil', 'ripristinar', 'precedent', 'entrata', 'vano', 'scale', 'dell', 'edificio', 'crear', 'così', 'ambient', 'autonomo', 'Il', 'riscaldamento', 'centralizzato', 'contabilizzatori', 'present', 'l', 'impianto', 'climatizzazion', 'L', 'immobil', 'trova', 'posizion', 'interessant', 'vicino', 'gemelli', 'cristo', 'Re', 'molteplici', 'capolinea', 'cornelia', 'metro', 'A', 'G', 'R', 'A', 'E', 'adatto', 'nuclei', 'familiari', 'professionisti', 'uso', 'investimento', 'br', 'Le', 'presenti', 'informazioni', 'planimetri', 'merament', 'indic', 'costituiscono', 'elementi', 'contrattuali', 'br', 'rif', 'W', '028rub', 'laura', 'cappello', '39', '06', '45', '54', '8120', 'div', 'div'], ['div', 'aria', 'expand', 'fals', 'class', 'col', 'xs', '12', 'descript', 'text', 'text', 'compress', 'role', 'contentinfo', 'div', 'rif', '18101', 'montagnola', 'via', 'fontanellato', 'A', 'pochi', 'passi', 'parco', 'falcon', 'borsellino', 'proponiamo', 'zona', 'ben', 'servita', 'attività', 'commerciali', 'ogni', 'gener', 'vendita', 'appartamento', '90mq', 'posto', 'piano', 'terra', 'composto', 'ampio', 'ingresso', 'salon', 'rappresentanza', 'cucina', 'abitabil', 'due', 'camer', 'matrimonial', 'servizio', 'giardino', 'proprietà', '200mq', 'circa', 'completa', 'proprietà', 'cantina', 'I', 'dati', 'intendono', 'corretti', 'garant', 'La', 'present', 'costituisc', 'nessun', 'caso', 'documento', 'contrattual', 'br', 'inserisci', 'via', 'cap', 'ricever', 'valutazion', 'immediata', 'tua', 'casa', 'entra', 'sito', 'web', 'http', 'www', 'angeliniproperti', 'it', 'valuta', 'la', 'tua', 'casa', 'br', 'br', 'tutt', 'novità', 'trovi', 'canali', 'social', 'br', 'seguici', 'instagram', 'http', 'www', 'instagram', 'com', 'la_tua_family_ag', 'br', 'like', 'facebook', 'http', 'www', 'facebook', 'com', 'angeliniproperti', 'ref', 'bookmark', 'br', 'iscriv', 'youtub', 'http', 'www', 'youtub', 'com', 'channel', 'uckylafeitvles6emft9l', 'rA', 'div', 'div'], ['div', 'aria', 'expand', 'fals', 'class', 'col', 'xs', '12', 'descript', 'text', 'text', 'compress', 'role', 'contentinfo', 'div', 'trastever', 'appartamento', 'vendita', 'adiacent', 'via', 'mame', 'piano', 'alto', 'luminoso', 'libero', 'tranquillo', 'ingresso', 'soggiorno', 'camera', 'cucina', 'bagno', 'dilazioni', 'permut', 'rif', '1049', 'tel', '06', '69353612', 'br', 'br', 'apart', 'for', 'sale', 'adjac', 'via', 'mame', 'bright', 'high', 'floor', 'free', 'quiet', 'entranc', 'live', 'room', 'bedroom', 'kitchen', 'bathroom', 'br', 'br', 'apartamento', 'en', 'venta', 'adyacent', 'travé', 'de', 'mame', 'piso', 'alto', 'y', 'luminoso', 'entrada', 'libr', 'y', 'tranquila', 'sala', 'de', 'estar', 'cocina', 'y', 'baño', 'br', 'br', 'appart', 'à', 'vendr', 'adjac', 'via', 'mame', 'lumineux', 'et', 'élevé', 'étage', 'élevé', 'entré', 'libr', 'calm', 'salon', 'cuisin', 'sall', 'de', 'bain', 'div', 'div'], ['div', 'aria', 'expand', 'fals', 'class', 'col', 'xs', '12', 'descript', 'text', 'text', 'compress', 'role', 'contentinfo', 'div', 'nella', 'part', 'alta', 'via', 'farnesina', 'all', 'interno', 'signoril', 'condominio', 'piscina', 'servizio', 'portineria', 'proponiamo', 'vendita', 'elegant', 'terzo', 'piano', 'recentement', 'ristrutturato', 'L', 'appartamento', 'unico', 'piano', 'dispon', 'tre', 'ingressi', 'funzional', 'suddivision', 'zona', 'giorno', 'nott', 'servizio', 'L', 'ampio', 'ingresso', 'accesso', 'salon', 'doppio', 'zona', 'pranzo', 'tre', 'ampi', 'camer', 'letto', 'servit', 'tre', 'bagni', 'zona', 'servizio', 'composta', 'cucina', 'abitabil', 'camera', 'bagno', 'lavanderia', 'ripostiglio', 'guest', 'toilett', 'gli', 'alti', 'soffitti', 'numeros', 'finestr', 'affacciano', 'terrazzo', 'balconi', 'danno', 'ampio', 'respiro', 'spazi', 'rendono', 'l', 'appartamento', 'molto', 'luminoso', 'completano', 'proprietà', 'posto', 'auto', '30mq', 'cantina', 'L', 'immobil', 'adatto', 'cerca', 'soluzion', 'riservatezza', 'tranquillità', 'pur', 'rimanendo', 'vicino', 'servizi', 'ben', 'collegata', 'centro', 'città', 'br', 'Le', 'presenti', 'informazioni', 'planimetri', 'merament', 'indic', 'costituiscono', 'elementi', 'contrattuali', 'br', 'br', 'rif', 'W', '02aswi', 'flaminia', 'meloni', 'tel', '39', '06', '45', '54', '81', '20', 'div', 'div'], ['div', 'aria', 'expand', 'fals', 'class', 'col', 'xs', '12', 'descript', 'text', 'text', 'compress', 'role', 'contentinfo', 'div', 'camilluccia', 'ottimo', 'investimento', 'appartamento', 'vendita', 'verd', 'tranquillo', 'luminoso', 'salon', 'camera', 'cucina', 'bagno', 'posto', 'auto', 'condominial', 'dilazioni', 'permut', 'rif', '940b', 'tel', '06', '35341280', 'br', 'br', 'camilluccia', 'excel', 'invest', 'apart', 'for', 'sale', 'the', 'quiet', 'green', 'bright', 'live', 'room', 'kitchen', 'kitchen', 'bathroom', 'park', 'condominium', 'delay', 'permut', 'ref', '940b', 'tel', '06', '35341280', 'div', 'div']]\n"
     ]
    }
   ],
   "source": [
    "stop_words = set(stopwords.words('italian')) #we take the stopwords we have to delete\n",
    "tokenizer = RegexpTokenizer(r'\\w+')\n",
    "ps = PorterStemmer()\n",
    "description_words = []\n",
    "for link in need_links[:-1]:\n",
    "    if link[0:5] == 'https':\n",
    "        site = urlopen(link)\n",
    "        page = BeautifulSoup(site, 'lxml')\n",
    "        description = page.find_all('div', class_=\"col-xs-12 description-text text-compressed\")\n",
    "        description = ''.join(str(description))\n",
    "        words = word_tokenize(description)\n",
    "        words_without_stop_words = [\"\" if word in stop_words else word for word in words] #we delete the stopwords\n",
    "        new_words = \" \".join(words_without_stop_words)\n",
    "        b = tokenizer.tokenize(new_words)\n",
    "\n",
    "        l_stem_words = []\n",
    "        #with a for loop we stem all the words in the input, and store them in a list\n",
    "        for word in b:\n",
    "            l_stem_words.append(ps.stem(word))\n",
    "        #here we transform the list in a string\n",
    "        stem_words = ' '.join(l_stem_words).split()\n",
    "        description_words.append(stem_words)\n",
    "print(description_words)"
   ]
  },
  {
   "cell_type": "code",
   "execution_count": 163,
   "metadata": {},
   "outputs": [],
   "source": [
    "vocabulary={}\n",
    "aux=0\n",
    "#loop to generate a vocabulary from all the documents with title, description and city\n",
    "vocabulary_text = vocabulary_creation(description_words, vocabulary)\n",
    "vocabulary = vocabulary_text"
   ]
  },
  {
   "cell_type": "code",
   "execution_count": 164,
   "metadata": {},
   "outputs": [
    {
     "name": "stdout",
     "output_type": "stream",
     "text": [
      "{'div': 1, 'aria': 2, 'expand': 3, 'fals': 4, 'class': 5, 'col': 6, 'xs': 7, '12': 8, 'descript': 9, 'text': 10, 'compress': 11, 'role': 12, 'contentinfo': 13, 'papillo': 14, 'eur': 15, 'elegant': 16, 'complesso': 17, 'residenzial': 18, 'rifinitissimo': 19, 'bilocal': 20, 'composto': 21, 'soggiorno': 22, 'angolo': 23, 'cottura': 24, 'stanza': 25, 'letto': 26, 'bagno': 27, 'ampio': 28, 'balcon': 29, 'rifinitur': 30, 'pregio': 31, 'pavimenti': 32, 'parquet': 33, 'gree': 34, 'infissi': 35, 'legno': 36, 'vetro': 37, 'camera': 38, 'port': 39, 'noce': 40, 'grate': 41, 'salon': 42, 'riscaldamento': 43, 'termoautonomo': 44, 'caldaia': 45, 'centralizzata': 46, 'condizionata': 47, 'videocitofono': 48, 'porta': 49, 'blindata': 50, 'serramenti': 51, 'elettrici': 52, 'chiusura': 53, 'antenna': 54, 'satellitar': 55, 'isolamento': 56, 'termo': 57, 'acustico': 58, 'pannelli': 59, 'solari': 60, 'fotovoltaici': 61, 'rilevatori': 62, 'elettronici': 63, 'ga': 64, 'tutt': 65, 'camer': 66, 'fornit': 67, 'impianto': 68, 'antifurto': 69, 'presa': 70, 'telefonica': 71, 'br': 72, 'orari': 73, 'lunedi': 74, 'chiusi': 75, 'martedi': 76, '10': 77, '00': 78, '17': 79, 'mercoledi': 80, 'hr': 81, 'giovedi': 82, 'venrdi': 83, 'sabato': 84, 'domenica': 85, '13': 86, 'pigneto': 87, 'appartamento': 88, 'vendita': 89, 'libero': 90, 'luminoso': 91, 'piano': 92, 'alto': 93, 'ristrutturato': 94, 'ingresso': 95, 'due': 96, 'possibilità': 97, 'terza': 98, 'cucina': 99, 'abitabil': 100, 'doppi': 101, 'servizi': 102, 'dilazioni': 103, 'permut': 104, 'rif': 105, '969': 106, 'tel': 107, '06': 108, '69353612': 109, 'apart': 110, 'for': 111, 'sale': 112, 'free': 113, 'bright': 114, 'high': 115, 'floor': 116, 'renov': 117, 'entranc': 118, 'hall': 119, 'two': 120, 'bedroom': 121, 'possibl': 122, 'third': 123, 'kitchen': 124, 'bathroom': 125, 'appart': 126, 'à': 127, 'vendr': 128, 'étage': 129, 'élevé': 130, 'lumineux': 131, 'gratuit': 132, 'd': 133, 'entré': 134, 'rénové': 135, 'deux': 136, 'chambr': 137, 'possibilité': 138, 'troisièm': 139, 'cuisin': 140, 'sall': 141, 'de': 142, 'bain': 143, 'apartamento': 144, 'en': 145, 'venta': 146, 'piso': 147, 'libr': 148, 'brillant': 149, 'entrada': 150, 'renovado': 151, 'do': 152, 'dormitorio': 153, 'posibilidad': 154, 'tercer': 155, 'cocina': 156, 'baño': 157, '18066': 158, 'triest': 159, 'via': 160, 'fontana': 161, 'nell': 162, 'immedi': 163, 'vicinanz': 164, 'villa': 165, 'paganini': 166, 'prestigioso': 167, 'quartier': 168, 'proponiamo': 169, 'all': 170, 'interno': 171, 'palazzo': 172, 'signoril': 173, 'buono': 174, 'stato': 175, 'ascensor': 176, 'delizioso': 177, 'loft': 178, 'manutentivo': 179, 'ingressi': 180, 'open': 181, 'space': 182, 'cucinotto': 183, 'vista': 184, 'servizio': 185, 'un': 186, 'ampia': 187, 'zona': 188, 'nott': 189, 'soppalcata': 190, 'ottimo': 191, 'investimento': 192, 'alta': 193, 'rendita': 194, 'I': 195, 'dati': 196, 'intendono': 197, 'corretti': 198, 'garant': 199, 'La': 200, 'present': 201, 'costituisc': 202, 'nessun': 203, 'caso': 204, 'documento': 205, 'contrattual': 206, 'inserisci': 207, 'cap': 208, 'ricever': 209, 'valutazion': 210, 'immediata': 211, 'tua': 212, 'casa': 213, 'entra': 214, 'sito': 215, 'web': 216, 'http': 217, 'www': 218, 'angeliniproperti': 219, 'it': 220, 'valuta': 221, 'la': 222, 'novità': 223, 'trovi': 224, 'canali': 225, 'social': 226, 'like': 227, 'facebook': 228, 'com': 229, 'ref': 230, 'bookmark': 231, 'iscriv': 232, 'youtub': 233, 'channel': 234, 'uckylafeitvles6emft9l': 235, 'rA': 236, 'vial': 237, 'cesar': 238, 'paves': 239, 'salvator': 240, 'quasimodo': 241, '113': 242, 'circolo': 243, 'ferratella': 244, 'viver': 245, 'significa': 246, 'regalar': 247, 'te': 248, 'famiglia': 249, 'vita': 250, 'serena': 251, 'tranquilla': 252, 'chiudi': 253, 'occhi': 254, 'immagina': 255, 'quiet': 256, 'riposo': 257, 'senti': 258, 'pell': 259, 'raggi': 260, 'sole': 261, 'illuminano': 262, 'pensa': 263, 'aperitivi': 264, 'amici': 265, 'terrazzo': 266, 'tramonto': 267, 'dolc': 268, 'musica': 269, 'sottofondo': 270, 'davanti': 271, 'verd': 272, 'alberi': 273, 'giardino': 274, 'condominial': 275, 'senza': 276, 'stress': 277, 'impegno': 278, 'manutenzion': 279, 'giardinier': 280, 'condominio': 281, 'centro': 282, 'sportivo': 283, 'consiglia': 284, 'collegarsi': 285, 'maxdirocco': 286, 'video': 287, 'foto': 288, 'virtual': 289, 'tour': 290, 'planimetri': 291, '3': 292, 'ipotesi': 293, 'progetto': 294, 'estrarr': 295, 'copia': 296, 'L': 297, 'abitazion': 298, 'sita': 299, 'terzo': 300, 'immobil': 301, 'vuoto': 302, 'doppia': 303, 'esposizion': 304, 'est': 305, 'ovest': 306, 'attualment': 307, 'doppio': 308, 'accesso': 309, 'primo': 310, 'tre': 311, 'ripostiglio': 312, 'finestra': 313, 'secondo': 314, 'bagni': 315, 'vasca': 316, 'altro': 317, 'doccia': 318, 'entrambi': 319, 'box': 320, 'auto': 321, 'cantina': 322, 'superfici': 323, 'commercial': 324, 'total': 325, 'ragguagliata': 326, 'mq': 327, '150': 328, '25': 329, 'ristrutturar': 330, 'piccoli': 331, 'interventi': 332, 'disponibili': 333, 'ristrutturazion': 334, 'rilievi': 335, 'metrici': 336, 'redatti': 337, 'architetto': 338, 'con': 339, 'possibil': 340, 'ricavar': 341, 'adatto': 342, 'studio': 343, 'oppur': 344, 'crear': 345, 'appartamenti': 346, 'autonomi': 347, 'adiacenti': 348, 'alternativa': 349, 'unico': 350, 'sala': 351, 'pranzo': 352, 'cabina': 353, 'armadio': 354, 'privato': 355, 'terrazzi': 356, 'altra': 357, 'matrimonial': 358, 'singol': 359, 'È': 360, 'disponibil': 361, 'relazion': 362, 'notaio': 363, 'certifica': 364, 'inesistenza': 365, 'gravami': 366, 'libera': 367, 'commerciabilità': 368, 'immobili': 369, 'finanziamenti': 370, 'tassi': 371, 'agevolati': 372, 'acquisto': 373, 'attestato': 374, 'prestazion': 375, 'energetica': 376, 'E': 377, 'epgl': 378, 'nren': 379, '59': 380, '5660': 381, 'kwh': 382, 'm²anno': 383, 'part': 384, 'fabbricato': 385, 'edificato': 386, 'virtù': 387, 'licenza': 388, 'edilizia': 389, 'n': 390, '240': 391, 'rilasciata': 392, '24': 393, '03': 394, '1975': 395, 'variant': 396, '2432': 397, 'C': 398, '22': 399, '04': 400, '1979': 401, 'dichiarato': 402, 'certificato': 403, '271': 404, '23': 405, '11': 406, '1981': 407, 'edificio': 408, 'costruito': 409, 'struttura': 410, 'cemento': 411, 'armato': 412, 'solai': 413, 'laterocemento': 414, 'tamponatur': 415, 'estern': 416, 'precompresso': 417, 'scala': 418, '9': 419, 'sviluppa': 420, 'interrato': 421, 'adibito': 422, 'posti': 423, 'cantin': 424, 'terra': 425, 'piloti': 426, 'local': 427, '5': 428, 'piani': 429, 'quinto': 430, 'copertura': 431, 'piana': 432, 'Il': 433, 'esternament': 434, 'anni': 435, 'per': 436, 'ulteriori': 437, 'informazioni': 438, 'nella': 439, 'silenziosa': 440, 'camillo': 441, 'porzio': 442, 'esclusiva': 443, 'indipendent': 444, 'unica': 445, 'gener': 446, 'risalent': 447, 'primi': 448, 'novecento': 449, 'proprietà': 450, 'stata': 451, 'oggetto': 452, 'particolar': 453, 'valorizzato': 454, 'funzionalità': 455, 'ambienti': 456, 'Si': 457, 'acced': 458, 'attraverso': 459, 'meraviglioso': 460, 'ricco': 461, 'piant': 462, 'ornamentali': 463, 'Al': 464, 'trovano': 465, 'posto': 466, 'moderna': 467, 'illuminato': 468, 'ampi': 469, 'vetrat': 470, 'soffitti': 471, 'alti': 472, 'metri': 473, 'suit': 474, 'ospita': 475, 'entramb': 476, 'esclusivo': 477, 'relax': 478, 'infin': 479, 'terrazza': 480, 'ideal': 481, 'occasioni': 482, 'conviviali': 483, 'Le': 484, 'soluzioni': 485, 'architettonich': 486, 'adott': 487, 'progettista': 488, 'impreziosiscono': 489, 'mentr': 490, 'materiali': 491, 'resina': 492, 'cementizia': 493, 'moderno': 494, 'pavimento': 495, 'conferiscono': 496, 'stile': 497, 'comfort': 498, 'presenti': 499, 'merament': 500, 'indic': 501, 'costituiscono': 502, 'elementi': 503, 'contrattuali': 504, 'W': 505, '02876o': 506, 'leonard': 507, 'cervinschi': 508, '39': 509, '45': 510, '54': 511, '81': 512, '20': 513, 'fino': 514, '31': 515, '2018': 516, 'spese': 517, 'rel': 518, 'onorario': 519, 'carico': 520, 'proprietario': 521, 'In': 522, 'cottanello': 523, 'raggiungibil': 524, 'piedi': 525, 'metropolitana': 526, 'linea': 527, 'B': 528, 'fermata': 529, 'pietralata': 530, 'nuova': 531, 'pronta': 532, 'consegna': 533, 'rifinito': 534, 'ottimi': 535, 'situato': 536, 'ultimo': 537, 'curato': 538, 'dettagli': 539, 'dotato': 540, 'touch': 541, 'spazi': 542, 'condominiali': 543, 'comodi': 544, 'internament': 545, 'diretto': 546, 'anch': 547, 'essa': 548, 'uscita': 549, 'seconda': 550, 'gode': 551, 'luminosa': 552, 'sud': 553, 'completa': 554, 'seminterrato': 555, 'collegata': 556, 'utilizzati': 557, 'standard': 558, 'qualitativo': 559, 'gre': 560, 'porcellanato': 561, 'intera': 562, 'alluminio': 563, 'taglio': 564, 'termico': 565, 'abbattimento': 566, 'avvolgibili': 567, 'motorizzati': 568, 'colori': 569, 'portoncino': 570, 'blindato': 571, 'sensor': 572, 'antiallagamento': 573, 'rilevamento': 574, 'centralizzato': 575, 'contabilizzatori': 576, 'antincendio': 577, 'fotovoltaico': 578, 'solar': 579, 'acquistar': 580, 'autorimessa': 581, 'sottostant': 582, '02cidl': 583, '17029': 584, 'romanina': 585, 'cinecittà': 586, 'ignazio': 587, 'scimonelli': 588, 'comprensorio': 589, 'recent': 590, 'costruzion': 591, 'circondato': 592, 'giardini': 593, 'attico': 594, 'bilivelli': 595, '110mq': 596, 'circa': 597, 'livello': 598, '70mq': 599, 'mansarda': 600, '22mq': 601, '000': 602, 'arredato': 603, 'accollo': 604, 'mutuo': 605, 'l': 606, 'intero': 607, 'importo': 608, 'palazzina': 609, 'tinta': 610, 'portineria': 611, '270': 612, 'rialzato': 613, 'oltr': 614, 'terrazz': 615, '255': 616, 'camino': 617, 'prospicient': 618, '2': 619, 'cucin': 620, 'esterna': 621, '4': 622, 'completano': 623, 'non': 624, 'barrier': 625, 'caratterizza': 626, 'presenza': 627, 'unità': 628, 'commerciali': 629, 'residenziali': 630, 'vast': 631, 'are': 632, 'verdi': 633, 'parco': 634, 'borghes': 635, 'ada': 636, 'prestigio': 637, 'costruzioni': 638, 'dall': 639, 'impronta': 640, 'tipica': 641, 'razionalismo': 642, 'cod': 643, '9933': 644, 'completament': 645, 'finement': 646, 'quattro': 647, 'armadi': 648, 'muro': 649, '1048m': 650, '53': 651, '43': 652, '497': 653, 'eleg': 654, 'district': 655, 'greeneri': 656, 'complet': 657, 'and': 658, 'tast': 659, 'doubl': 660, 'four': 661, 'servic': 662, 'wardrob': 663, 'terrac': 664, 'balconi': 665, 'cellar': 666, 'dilut': 667, 'perm': 668, 'soli': 669, '229': 670, 'denominata': 671, 'vignol': 672, 'sorgendo': 673, 'nuovo': 674, 'fantastico': 675, '7': 676, 'vill': 677, 'contesto': 678, 'fortissima': 679, 'espansion': 680, 'unita': 681, 'immobiliar': 682, 'grand': 683, 'successo': 684, 'unifamiliar': 685, 'ultima': 686, 'generazion': 687, 'studiata': 688, 'ogni': 689, 'dettaglio': 690, 'progettazion': 691, 'qualita': 692, 'material': 693, 'utilizzato': 694, 'rendono': 695, 'inimitabil': 696, 'piantina': 697, 'riportata': 698, 'offr': 699, 'singola': 700, 'maestos': 701, 'grandezz': 702, 'signorili': 703, 'vien': 704, 'presentato': 705, 'studiato': 706, 'dare': 707, 'vero': 708, 'significato': 709, 'parol': 710, 'comodita': 711, 'prevista': 712, 'novembr': 713, 'dicembr': 714, '2019': 715, 'fase': 716, 'possibilita': 717, 'esser': 718, 'modificata': 719, 'grazi': 720, 'staff': 721, 'resta': 722, 'disposizion': 723, 'permettera': 724, 'render': 725, 'piu': 726, 'mai': 727, 'scelta': 728, 'fuori': 729, 'realizzata': 730, 'sistemi': 731, 'anti': 732, 'allagamento': 733, 'sismici': 734, 'societa': 735, 'costruttric': 736, 'esperienza': 737, 'tramandato': 738, 'poter': 739, 'efficent': 740, 'duratura': 741, 'venir': 742, 'trova': 743, '500': 744, 'vinci': 745, 'outlet': 746, '170': 747, 'negozzi': 748, 'lavori': 749, 'gia': 750, 'iniziati': 751, 'verrano': 752, 'ultimati': 753, '2020': 754, 'svincolo': 755, 'roma': 756, 'fiumicino': 757, 'leonardo': 758, 'vienici': 759, 'trovar': 760, 'punto': 761, 'vedita': 762, 'cantier': 763, 'aperto': 764, 'igiorni': 765, 'trann': 766, 'ore': 767, 'fissando': 768, 'appuntamento': 769, 'numero': 770, '345': 771, '14': 772, '62': 773, '726': 774, 'qualityhom': 775, 'vanta': 776, 'piccolo': 777, 'rigoroso': 778, 'inclusi': 779, 'prezzi': 780, 'consulenza': 781, 'sara': 782, 'piacevol': 783, 'percorso': 784, 'clienti': 785, 'verranno': 786, 'seguiti': 787, 'tutelati': 788, 'momento': 789, 'rogito': 790, 'notaril': 791, 'tipologia': 792, 'unifamigliar': 793, 'inizio': 794, 'febbraio': 795, 'prezzo': 796, 'iva': 797, 'costi': 798, 'aggiuntivi': 799, 'proposta': 800, 'preliminar': 801, 'dopo': 802, '15': 803, 'giorni': 804, 'accetazion': 805, 'acconto': 806, 'atto': 807, 'obligo': 808, 'saldo': 809, 'contanti': 810, 'entro': 811, 'b': 812, 'rilascia': 813, 'client': 814, 'fideiussion': 815, 'acconti': 816, 'decennal': 817, 'postuma': 818, 'garanzia': 819, 'tutta': 820, 'dieci': 821, 'penali': 822, 'ritardo': 823, 'favor': 824, '18107': 825, 'osteria': 826, 'del': 827, 'casal': 828, 'ferranti': 829, 'cortina': 830, 'ristrutturata': 831, '130mq': 832, 'disposto': 833, 'livelli': 834, 'circondata': 835, '180mq': 836, 'comoda': 837, 'divisibil': 838, 'seguici': 839, 'instagram': 840, 'la_tua_family_ag': 841, 'san': 842, 'giovanni': 843, 'adiacent': 844, 'terni': 845, 'tranquillo': 846, 'tripli': 847, '999': 848, 'adjac': 849, 'live': 850, 'room': 851, 'tripl': 852, 'calm': 853, 'lumineus': 854, 'séjour': 855, 'adyacent': 856, 'travé': 857, 'tranquila': 858, 'y': 859, 'estar': 860, 'que': 861, 'viven': 862, 'servicio': 863, 'torlonia': 864, 'nomentana': 865, 'altezza': 866, 'corso': 867, 'splendida': 868, 'cornic': 869, 'piacer': 870, 'proporr': 871, 'splendido': 872, 'palazzetto': 873, 'facilment': 874, 'riconoscibil': 875, 'color': 876, 'appartenuto': 877, 'nobil': 878, 'sede': 879, 'oim': 880, 'molti': 881, 'entrat': 882, 'così': 883, 'grandi': 884, 'saloni': 885, 'rappresentanza': 886, 'sopra': 887, 'alloggi': 888, 'personal': 889, 'nonché': 890, 'padronali': 891, 'nello': 892, 'spazio': 893, 'esterno': 894, 'pavimentato': 895, 'parcheggiar': 896, 'chiud': 897, 'rigoglioso': 898, 'ezra': 899, 'pound': 900, 'raffinato': 901, 'piscina': 902, 'portierato': 903, 'panoramico': 904, 'superattico': 905, '175': 906, 'interni': 907, 'settimo': 908, 'ottavo': 909, 'presenta': 910, 'buona': 911, 'meravigliosi': 912, 'eccellent': 913, 'tripla': 914, 'confortevol': 915, 'rappresenta': 916, 'cuor': 917, 'conduc': 918, 'funzional': 919, 'patronal': 920, 'servita': 921, 'Un': 922, 'comodo': 923, 'pregevol': 924, 'ngresso': 925, 'tutti': 926, 'affaccio': 927, 'bellissimo': 928, 'curatissimo': 929, 'garantisc': 930, 'respiro': 931, 'luminosità': 932, 'giornata': 933, 'una': 934, 'superior': 935, 'troviamo': 936, 'piccola': 937, 'area': 938, 'adibita': 939, 'servito': 940, 'perimetral': 941, 'attrezzato': 942, 'completo': 943, 'idromassaggio': 944, 'pavimentazion': 945, 'chiaro': 946, 'ceramich': 947, 'ricerc': 948, 'inoltr': 949, 'sistema': 950, 'canalizzata': 951, 'citofono': 952, 'domotica': 953, 'serrand': 954, 'elettrich': 955, 'garag': 956, 'coperto': 957, 'raggiungibili': 958, 'direttament': 959, '02agv': 960, 'laura': 961, 'guadagno': 962, '814': 963, 'wohnung': 964, 'zu': 965, 'verkaufen': 966, 'fein': 967, 'renoviert': 968, 'frei': 969, 'ruhig': 970, 'hell': 971, 'große': 972, 'eingangshal': 973, 'mit': 974, 'balkon': 975, 'zwei': 976, 'schlafzimm': 977, 'badezimm': 978, 'dienstleistungen': 979, 'saint': 980, 'john': 981, 'financi': 982, 'von': 983, 'kochnisch': 984, 'dilatationen': 985, 'renovierungsbedürftig': 986, 'grati': 987, 'tranquilo': 988, 'lumin': 989, 'americana': 990, 'dilacion': 991, 'permutar': 992, '18105': 993, 'DI': 994, 'carlo': 995, 'dapporto': 996, 'A': 997, 'pochi': 998, 'passi': 999, '60mq': 1000, 'dispon': 1001, 'autonomo': 1002, 'D': 1003, 'ampezzo': 1004, 'precisament': 1005, 'fort': 1006, 'trionfal': 1007, 'super': 1008, 'panoramica': 1009, 'solo': 1010, '8': 1011, 'proprietari': 1012, 'quarto': 1013, '70': 1014, 'compon': 1015, 'triplo': 1016, 'biblioteca': 1017, 'funzionant': 1018, 'veranda': 1019, '40mq': 1020, 'm': 1021, 'collegato': 1022, 'principal': 1023, 'possied': 1024, 'pertanto': 1025, 'molto': 1026, 'ventilato': 1027, 'metratura': 1028, 'interna': 1029, 'permettono': 1030, 'suddividerlo': 1031, 'abit': 1032, 'posizion': 1033, 'privilegiata': 1034, 'vicino': 1035, 'vuol': 1036, 'aver': 1037, 'cerca': 1038, 'soluzion': 1039, 'policlinico': 1040, 'gemelli': 1041, 'università': 1042, 'cattolica': 1043, 'filippo': 1044, 'neri': 1045, 'farnesina': 1046, 'professionisti': 1047, 'investitori': 1048, '02a7wf': 1049, 'michel': 1050, 'iasio': 1051, 'prestigiosa': 1052, 'piazza': 1053, 'spagna': 1054, 'trident': 1055, 'esattament': 1056, 'margutta': 1057, 'stabil': 1058, '1600': 1059, 'accogli': 1060, 'caratteristich': 1061, 'travi': 1062, 'talvolta': 1063, 'decor': 1064, 'segu': 1065, 'affacciano': 1066, 'ottima': 1067, 'corredata': 1068, 'cotto': 1069, 'piastrel': 1070, 'clientela': 1071, 'predilig': 1072, 'storico': 1073, '02al7i': 1074, 'lucia': 1075, 'geraci': 1076, 'gallia': 1077, 'epoca': 1078, 'liberti': 1079, 'venti': 1080, 'secolo': 1081, 'scorso': 1082, 'dal': 1083, 'ca': 1084, '350': 1085, 'terreno': 1086, 'costituita': 1087, 'anticucina': 1088, 'mediant': 1089, 'cinqu': 1090, 'comod': 1091, 'sempr': 1092, 'caratteristico': 1093, 'torrino': 1094, 'apr': 1095, '200': 1096, 'meravigliosa': 1097, 'scorcio': 1098, 'basilica': 1099, 'costituito': 1100, 'destinazion': 1101, 'uso': 1102, 'ufficio': 1103, 'affittato': 1104, 'magazzino': 1105, 'ricerca': 1106, 'residenza': 1107, '0261ki': 1108, 'clement': 1109, 'iii': 1110, 'traversa': 1111, 'pineta': 1112, 'sacchetti': 1113, '159': 1114, 'occupa': 1115, 'intonaco': 1116, 'condizioni': 1117, 'abitabili': 1118, 'guardaroba': 1119, 'vari': 1120, 'sinistra': 1121, 'giorno': 1122, 'front': 1123, 'semiabitabil': 1124, 'destra': 1125, 'disimpegno': 1126, 'fulcro': 1127, 'caratterizzato': 1128, 'paret': 1129, 'dipinta': 1130, 'termocamino': 1131, 'legna': 1132, 'dà': 1133, '47': 1134, 'qui': 1135, 'verso': 1136, 'urbano': 1137, 'pineto': 1138, 'cupola': 1139, 'pietro': 1140, 'balconcino': 1141, '30': 1142, 'ambient': 1143, 'posizionata': 1144, 'potenzialità': 1145, 'molteplici': 1146, 'ripristinar': 1147, 'precedent': 1148, 'entrata': 1149, 'vano': 1150, 'scale': 1151, 'dell': 1152, 'climatizzazion': 1153, 'interessant': 1154, 'cristo': 1155, 'Re': 1156, 'capolinea': 1157, 'cornelia': 1158, 'metro': 1159, 'G': 1160, 'R': 1161, 'nuclei': 1162, 'familiari': 1163, '028rub': 1164, 'cappello': 1165, '8120': 1166, '18101': 1167, 'montagnola': 1168, 'fontanellato': 1169, 'falcon': 1170, 'borsellino': 1171, 'ben': 1172, 'attività': 1173, '90mq': 1174, '200mq': 1175, 'trastever': 1176, 'mame': 1177, '1049': 1178, 'et': 1179, 'recentement': 1180, 'suddivision': 1181, 'servit': 1182, 'composta': 1183, 'lavanderia': 1184, 'guest': 1185, 'toilett': 1186, 'gli': 1187, 'numeros': 1188, 'finestr': 1189, 'danno': 1190, '30mq': 1191, 'riservatezza': 1192, 'tranquillità': 1193, 'pur': 1194, 'rimanendo': 1195, 'città': 1196, '02aswi': 1197, 'flaminia': 1198, 'meloni': 1199, 'camilluccia': 1200, '940b': 1201, '35341280': 1202, 'excel': 1203, 'invest': 1204, 'the': 1205, 'green': 1206, 'park': 1207, 'condominium': 1208, 'delay': 1209}\n"
     ]
    }
   ],
   "source": [
    "print(vocabulary)"
   ]
  },
  {
   "cell_type": "code",
   "execution_count": 42,
   "metadata": {},
   "outputs": [],
   "source": [
    "with open('vocabulary.tsv', 'w') as f: #vocabulary with all words is written in file 'vocabulary.tsv'\n",
    "    json.dump(vocabulary, f) \n",
    "f.close()"
   ]
  },
  {
   "cell_type": "code",
   "execution_count": 25,
   "metadata": {},
   "outputs": [],
   "source": [
    "def price(d):\n",
    "    try:\n",
    "        price = d[0].contents[0].replace(\"\\n\", \"\").replace(\"€ \",\"\").strip()\n",
    "    except:\n",
    "        price = d[0].contents[0].get_text().replace(\"\\n\", \"\").replace(\"€ \",\"\").strip()\n",
    "\n",
    "    return price"
   ]
  },
  {
   "cell_type": "code",
   "execution_count": 26,
   "metadata": {},
   "outputs": [],
   "source": [
    "def locali(d):\n",
    "    local = d[1].get_text().replace(\"\\xa0\",\"\").replace(\"+\", \"\").replace(\"locali\", \"\").strip()\n",
    "    return local"
   ]
  },
  {
   "cell_type": "code",
   "execution_count": 27,
   "metadata": {},
   "outputs": [],
   "source": [
    "def superficie(d):\n",
    "    superf = d[2].get_text().replace(\"da \",\"\").replace(\"\\xa0m2\",\"\").replace(\"superficie\",\"\").strip()\n",
    "    return superf"
   ]
  },
  {
   "cell_type": "code",
   "execution_count": 28,
   "metadata": {},
   "outputs": [],
   "source": [
    "def bagni(d):\n",
    "    bath = d[3].get_text().replace(\"\\xa0\",\"\").replace(\"+\", \"\").replace(\"bagni\", \"\").strip()\n",
    "    return bath"
   ]
  },
  {
   "cell_type": "code",
   "execution_count": 29,
   "metadata": {},
   "outputs": [],
   "source": [
    "def piano(d):\n",
    "    floor = d[4].get_text().replace(\"\\xa0\", \"\").replace(\"\\n\",\"\").replace(\"T\",\"0\").replace(\"piano\",\"\").strip()\n",
    "    return floor"
   ]
  },
  {
   "cell_type": "code",
   "execution_count": 146,
   "metadata": {},
   "outputs": [],
   "source": [
    "def vocabulary_creation(word_list,previous_vocabulary):\n",
    "    #create an new dictionary from a previous one which could be empty\n",
    "    vocabulary=previous_vocabulary\n",
    "    #obtain last index of previous dictionary and set first index for 1st different element in this vocabulary\n",
    "    if len(previous_vocabulary)==0:\n",
    "        number=1\n",
    "    else:\n",
    "        number=previous_vocabulary[list(previous_vocabulary)[len(previous_vocabulary)-1]]+1\n",
    "    #adding new words to the vocabulary and omitting repeated ones\n",
    "    for lista in word_list:\n",
    "        for word in lista:\n",
    "            index=list(vocabulary.keys())\n",
    "            if word in index:\n",
    "                pass\n",
    "            else:\n",
    "                vocabulary[word]=number\n",
    "                number+=1\n",
    "    return vocabulary"
   ]
  },
  {
   "cell_type": "code",
   "execution_count": null,
   "metadata": {},
   "outputs": [],
   "source": [
    "#functions defined in order to calculate the tfIdf coefficient\n",
    "def N(df1):\n",
    "    #number of documents in the collection\n",
    "    return len(df1)\n",
    "\n",
    "def df_t(word, df1):\n",
    "    #number of documents in the collection that contain a term t\n",
    "    counter=0\n",
    "    for lista in df1:\n",
    "        if word in lista:\n",
    "            counter+=1\n",
    "    return counter\n",
    "\n",
    "def tf_t_d(word,lista):\n",
    "    #term frequency:number of ocurrence of term t in document d\n",
    "    return lista.count(word)\n",
    "\n",
    "def id_f_t(word, df1):\n",
    "    #inverse document frequency of a term t\n",
    "    return log(len(df1)/df_t(word, df1),10)\n",
    "\n",
    "def tf_idf(word,lista,df1):\n",
    "    #tf_idf of a term in a document of a collection N\n",
    "    return tf_t_d(word,lista)*id_f_t(word, df1)\n",
    "\n",
    "def inverted_index_creation_tfIdf(vocabulary, df1):  \n",
    "    #function that creates inverted_index with coefficient tfIdf from all the documents\n",
    "    inverted_index={}\n",
    "    n=1\n",
    "    \n",
    "    for lista in df1:          \n",
    "         #loop for each word of the document create a new key if the word is not in the dictionary \n",
    "         #add the number of the document to an existing key is the word is in the dictionary\n",
    "         #tfIdf coefficient of each term is also added\n",
    "        for word in set(lista):\n",
    "    \n",
    "            index=list(vocabulary.values())\n",
    "            if vocabulary[word] in list(inverted_index.keys()):\n",
    "                inverted_index[vocabulary[word]]=(inverted_index[vocabulary[word]])+[(\"announcement_\"+str(n),tf_idf(word,lista,df1))]\n",
    "            else:\n",
    "                inverted_index[int(vocabulary[word])]=[(\"announcement_\"+str(n),tf_idf(word,lista,df1))]\n",
    "        \n",
    "        n+=1\n",
    "\n",
    "    with open('inverted_index_tfIdf.tsv', 'w') as f1: #write the inverted index in a file called \"inverted_index_tfIdf.tsv\"\n",
    "        json.dump(inverted_index, f1)\n",
    "        f1.close()\n",
    "    return inverted_index \n",
    "\n"
   ]
  }
 ],
 "metadata": {
  "kernelspec": {
   "display_name": "Python 3",
   "language": "python",
   "name": "python3"
  },
  "language_info": {
   "codemirror_mode": {
    "name": "ipython",
    "version": 3
   },
   "file_extension": ".py",
   "mimetype": "text/x-python",
   "name": "python",
   "nbconvert_exporter": "python",
   "pygments_lexer": "ipython3",
   "version": "3.6.5"
  }
 },
 "nbformat": 4,
 "nbformat_minor": 2
}
