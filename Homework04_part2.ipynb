{
 "cells": [
  {
   "cell_type": "markdown",
   "metadata": {},
   "source": [
    "## 2) Find the duplicates!\n",
    "You are given passwords2.txt file as input. Each row corresponds to a string of 20 characters. Define a hash function that associates a value to each string. In this case, the goal is to check whether there are some duplicate strings. Our definition of duplicate is that the two strings have the same characters, order is not important. Thus, \"AABA\" = \"AAAB\"."
   ]
  },
  {
   "cell_type": "code",
   "execution_count": 14,
   "metadata": {},
   "outputs": [],
   "source": [
    "                                #Defining Hash function without considering orders: \n",
    "\n",
    "def FuncHash(data):\n",
    "    \n",
    "#Defining a golobal variable which we need outside the function\n",
    "    global repeat\n",
    "    \n",
    "#We multiply ASCII code of every character by it's position in the Sorted string to get a large number.\n",
    "    temp = [ord(i) for i in ''.join(sorted(data.strip()))]\n",
    "    \n",
    "#Using a hash function to map the number to a large range then counting repeated items\n",
    "    NumHash = sum([(temp.index(value))*value for value in temp])  %25000000\n",
    "    if NumHash in list(hashdict.keys()):\n",
    "        repeat += 1\n",
    "        hashdict[NumHash].append(data.strip())\n",
    "    else:\n",
    "        hashdict.setdefault(NumHash , [])\n",
    "        hashdict[NumHash].append(data.strip())\n",
    "    return(hashdict)"
   ]
  },
  {
   "cell_type": "code",
   "execution_count": 17,
   "metadata": {},
   "outputs": [],
   "source": [
    "#Applying the hash function on every line in the file\n",
    "hashdict={}\n",
    "repeat=0\n",
    "with open(r\"C:\\Users\\hp\\Desktop\\Uni_Courses\\semester_3\\ADM\\Project\\HomeWork04\\passwords2.txt\") as f:\n",
    "    for line in f:\n",
    "        data=f.readline()\n",
    "        FuncHash(data)"
   ]
  },
  {
   "cell_type": "code",
   "execution_count": 18,
   "metadata": {},
   "outputs": [
    {
     "data": {
      "text/plain": [
       "54990925"
      ]
     },
     "execution_count": 18,
     "metadata": {},
     "output_type": "execute_result"
    }
   ],
   "source": [
    "repeat"
   ]
  },
  {
   "cell_type": "markdown",
   "metadata": {},
   "source": [
    "As we can see the number of repeated strings is 54.990.925 and about 10M of duplicates we have in the file. Does it mean that we have 54.990.925 - 10.000.000 = 44.990.925 false positives? Not exactly but the number of false positives is something near this number.   "
   ]
  },
  {
   "cell_type": "code",
   "execution_count": 19,
   "metadata": {},
   "outputs": [],
   "source": [
    "                                #Defining Hash function without considering orders: \n",
    "\n",
    "def FuncHash2(data2):\n",
    "    global repeat2\n",
    "    temp2 = [ord(i) for i in ''.join(data2.strip())]\n",
    "    NumHash2 = sum([(temp2.index(value))*value for value in temp2])  %25000000\n",
    "    if NumHash2 in list(hashdict2.keys()):\n",
    "        repeat2 += 1\n",
    "        hashdict2[NumHash2].append(data2.strip())\n",
    "    else:\n",
    "        hashdict2.setdefault(NumHash2 , [])\n",
    "        hashdict2[NumHash2].append(data2.strip())\n",
    "    return(hashdict2)"
   ]
  },
  {
   "cell_type": "code",
   "execution_count": 20,
   "metadata": {},
   "outputs": [],
   "source": [
    "hashdict2={}\n",
    "repeat2=0\n",
    "with open(r\"C:\\Users\\hp\\Desktop\\Uni_Courses\\semester_3\\ADM\\Project\\HomeWork04\\passwords2.txt\") as f:\n",
    "    for line in f:\n",
    "        data2=f.readline()\n",
    "        FuncHash2(data2)"
   ]
  },
  {
   "cell_type": "code",
   "execution_count": 21,
   "metadata": {},
   "outputs": [
    {
     "data": {
      "text/plain": [
       "45942021"
      ]
     },
     "execution_count": 21,
     "metadata": {},
     "output_type": "execute_result"
    }
   ],
   "source": [
    "repeat2"
   ]
  },
  {
   "cell_type": "markdown",
   "metadata": {},
   "source": [
    "And in the second round we consider the order of characters and see the number of repeated strings is 45.942.021 and about 10M of duplicates we have in the file. Agind we have almost 45.942.021 - 10.000.000 = 35.942.021.925 false positives.   "
   ]
  },
  {
   "cell_type": "code",
   "execution_count": null,
   "metadata": {},
   "outputs": [],
   "source": []
  }
 ],
 "metadata": {
  "kernelspec": {
   "display_name": "Python 3",
   "language": "python",
   "name": "python3"
  },
  "language_info": {
   "codemirror_mode": {
    "name": "ipython",
    "version": 3
   },
   "file_extension": ".py",
   "mimetype": "text/x-python",
   "name": "python",
   "nbconvert_exporter": "python",
   "pygments_lexer": "ipython3",
   "version": "3.6.5"
  }
 },
 "nbformat": 4,
 "nbformat_minor": 2
}
