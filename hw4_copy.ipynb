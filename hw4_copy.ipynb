{
 "cells": [
  {
   "cell_type": "markdown",
   "metadata": {},
   "source": [
    "# Homework 4 - Group #24\n",
    "## 1) Does basic house information reflect house's description?\n",
    "\n",
    "Our goal is to implement two clustering and compare the results. We create two datasets and each of them will be filled by data that we scraped.\n",
    "\n",
    "First of all, we import the following libraries."
   ]
  },
  {
   "cell_type": "code",
   "execution_count": 1,
   "metadata": {},
   "outputs": [],
   "source": [
    "import time # For time sleep() Method\n",
    "import pandas as pd\n",
    "import numpy as np\n",
    "import requests #requests.get\n",
    "from urllib.request import urlopen\n",
    "from bs4 import BeautifulSoup\n",
    "\n",
    "from nltk.corpus import stopwords\n",
    "from nltk.tokenize import word_tokenize\n",
    "from nltk.tokenize import RegexpTokenizer\n",
    "from nltk.stem import PorterStemmer\n",
    "import io\n",
    "import json"
   ]
  },
  {
   "cell_type": "markdown",
   "metadata": {},
   "source": [
    "### Scraping & Datasets\n",
    "Web scraping using **Beautiful Soup** library."
   ]
  },
  {
   "cell_type": "markdown",
   "metadata": {},
   "source": [
    "#### 1) Information"
   ]
  },
  {
   "cell_type": "code",
   "execution_count": 3,
   "metadata": {},
   "outputs": [],
   "source": [
    "def price(d):\n",
    "    try:\n",
    "        price = d[0].contents[0].replace(\"\\n\", \"\").replace(\"€ \",\"\").strip()\n",
    "    except:\n",
    "        price = d[0].contents[0].get_text().replace(\"\\n\", \"\").replace(\"€ \",\"\").strip()\n",
    "\n",
    "    return price"
   ]
  },
  {
   "cell_type": "code",
   "execution_count": 4,
   "metadata": {},
   "outputs": [],
   "source": [
    "def locali(d):\n",
    "    local = d[1].get_text().replace(\"\\xa0\",\"\").replace(\"+\", \"\").replace(\"locali\", \"\").strip()\n",
    "    return local"
   ]
  },
  {
   "cell_type": "code",
   "execution_count": 5,
   "metadata": {},
   "outputs": [],
   "source": [
    "def superficie(d):\n",
    "    superf = d[2].get_text().replace(\"da \",\"\").replace(\"\\xa0m2\",\"\").replace(\"superficie\",\"\").strip()\n",
    "    return superf"
   ]
  },
  {
   "cell_type": "code",
   "execution_count": 6,
   "metadata": {},
   "outputs": [],
   "source": [
    "def bagni(d):\n",
    "    bath = d[3].get_text().replace(\"\\xa0\",\"\").replace(\"+\", \"\").replace(\"bagni\", \"\").strip()\n",
    "    return bath"
   ]
  },
  {
   "cell_type": "code",
   "execution_count": 7,
   "metadata": {},
   "outputs": [],
   "source": [
    "def piano(d):\n",
    "    floor = d[4].get_text().replace(\"\\xa0\", \"\").replace(\"\\n\",\"\").replace(\"T\",\"0\").replace(\"piano\",\"\").strip()\n",
    "    return floor"
   ]
  },
  {
   "cell_type": "code",
   "execution_count": 10,
   "metadata": {},
   "outputs": [
    {
     "name": "stdout",
     "output_type": "stream",
     "text": [
      "Start : Mon Dec  3 18:42:06 2018\n",
      "End : Mon Dec  3 18:42:08 2018\n"
     ]
    }
   ],
   "source": [
    "print (\"Start : %s\" % time.ctime())\n",
    "numb_ann = 10\n",
    "df1 = pd.DataFrame(columns=['Price', 'Locali', 'Superficie', 'Bagni', 'Piano'] )\n",
    "count = 1\n",
    "i = 1\n",
    "\n",
    "while count < numb_ann:\n",
    "    url = \"https://www.immobiliare.it/vendita-case/roma/?criterio=rilevanza&pag=\"+str(i)\n",
    "    html = urlopen(url)\n",
    "    soup = BeautifulSoup(html, 'lxml')\n",
    "    mydivs = soup.find_all(\"div\", {\"class\": \"listing-item_body--content\"})\n",
    "    i +=1\n",
    "    for a in mydivs:\n",
    "        ann = \"announcement_\"+ str(count)\n",
    "        data = a.find_all(\"li\", {\"class\":\"lif__item\"})\n",
    "        \n",
    "        if len(data) == 6 and count <= numb_ann:\n",
    "            pr = price(data)\n",
    "            loc = locali(data)\n",
    "            mq = superficie(data)\n",
    "            bath = bagni(data) \n",
    "            floor = piano(data)\n",
    "            l = [pr, loc, mq, bath, floor]\n",
    "\n",
    "            df = pd.DataFrame([l], columns=['Price', 'Locali', 'Superficie', 'Bagni', 'Piano'])\n",
    "            count +=1\n",
    "            df1 = pd.concat([df1, df], ignore_index=True) \n",
    "            \n",
    "    # time.sleep(720)\n",
    "print (\"End : %s\" % time.ctime())"
   ]
  },
  {
   "cell_type": "code",
   "execution_count": 23,
   "metadata": {},
   "outputs": [
    {
     "data": {
      "text/html": [
       "<div>\n",
       "<style scoped>\n",
       "    .dataframe tbody tr th:only-of-type {\n",
       "        vertical-align: middle;\n",
       "    }\n",
       "\n",
       "    .dataframe tbody tr th {\n",
       "        vertical-align: top;\n",
       "    }\n",
       "\n",
       "    .dataframe thead th {\n",
       "        text-align: right;\n",
       "    }\n",
       "</style>\n",
       "<table border=\"1\" class=\"dataframe\">\n",
       "  <thead>\n",
       "    <tr style=\"text-align: right;\">\n",
       "      <th></th>\n",
       "      <th>Price</th>\n",
       "      <th>Locali</th>\n",
       "      <th>Superficie</th>\n",
       "      <th>Bagni</th>\n",
       "      <th>Piano</th>\n",
       "    </tr>\n",
       "  </thead>\n",
       "  <tbody>\n",
       "    <tr>\n",
       "      <th>0</th>\n",
       "      <td>225.000</td>\n",
       "      <td>2</td>\n",
       "      <td>50</td>\n",
       "      <td>1</td>\n",
       "      <td>1</td>\n",
       "    </tr>\n",
       "    <tr>\n",
       "      <th>1</th>\n",
       "      <td>395.000</td>\n",
       "      <td>5</td>\n",
       "      <td>130</td>\n",
       "      <td>2</td>\n",
       "      <td>1</td>\n",
       "    </tr>\n",
       "    <tr>\n",
       "      <th>2</th>\n",
       "      <td>3.700.000</td>\n",
       "      <td>5</td>\n",
       "      <td>250</td>\n",
       "      <td>3</td>\n",
       "      <td>5</td>\n",
       "    </tr>\n",
       "    <tr>\n",
       "      <th>3</th>\n",
       "      <td>850.000</td>\n",
       "      <td>5</td>\n",
       "      <td>175</td>\n",
       "      <td>2</td>\n",
       "      <td>A</td>\n",
       "    </tr>\n",
       "    <tr>\n",
       "      <th>4</th>\n",
       "      <td>279.000</td>\n",
       "      <td>3</td>\n",
       "      <td>110</td>\n",
       "      <td>1</td>\n",
       "      <td>0</td>\n",
       "    </tr>\n",
       "  </tbody>\n",
       "</table>\n",
       "</div>"
      ],
      "text/plain": [
       "       Price Locali Superficie Bagni Piano\n",
       "0    225.000      2         50     1     1\n",
       "1    395.000      5        130     2     1\n",
       "2  3.700.000      5        250     3     5\n",
       "3    850.000      5        175     2     A\n",
       "4    279.000      3        110     1     0"
      ]
     },
     "execution_count": 23,
     "metadata": {},
     "output_type": "execute_result"
    }
   ],
   "source": [
    "df1.head()"
   ]
  },
  {
   "cell_type": "code",
   "execution_count": 28,
   "metadata": {},
   "outputs": [
    {
     "data": {
      "text/plain": [
       "10"
      ]
     },
     "execution_count": 28,
     "metadata": {},
     "output_type": "execute_result"
    }
   ],
   "source": [
    "len(df1)"
   ]
  },
  {
   "cell_type": "markdown",
   "metadata": {},
   "source": [
    "#### 2) Description"
   ]
  },
  {
   "cell_type": "code",
   "execution_count": 12,
   "metadata": {
    "scrolled": true
   },
   "outputs": [],
   "source": [
    "all_links = soup.find_all('a')\n",
    "links = []\n",
    "\n",
    "for link in all_links:\n",
    "    if link.get('href')!= None:\n",
    "        links.append(link.get(\"href\"))\n",
    "\n",
    "need_links = []\n",
    "for i in links:\n",
    "    if i[-4:] == 'html':\n",
    "        need_links.append(i)   "
   ]
  },
  {
   "cell_type": "code",
   "execution_count": 16,
   "metadata": {
    "scrolled": true
   },
   "outputs": [
    {
     "name": "stdout",
     "output_type": "stream",
     "text": [
      "[['div', 'aria', 'expand', 'fals', 'class', 'col', 'xs', '12', 'descript', 'text', 'text', 'compress', 'role', 'contentinfo', 'div', 'papillo', 'eur', 'elegant', 'complesso', 'residenzial', 'rifinitissimo', 'bilocal', 'composto', 'soggiorno', 'angolo', 'cottura', 'stanza', 'letto', 'bagno', 'ampio', 'balcon', 'rifinitur', 'pregio', 'pavimenti', 'parquet', 'gree', 'infissi', 'legno', 'vetro', 'camera', 'port', 'noce', 'grate', 'salon', 'riscaldamento', 'termoautonomo', 'caldaia', 'centralizzata', 'aria', 'condizionata', 'videocitofono', 'porta', 'blindata', 'serramenti', 'elettrici', 'chiusura', 'centralizzata', 'antenna', 'satellitar', 'isolamento', 'termo', 'acustico', 'pannelli', 'solari', 'fotovoltaici', 'rilevatori', 'elettronici', 'ga', 'tutt', 'camer', 'fornit', 'impianto', 'antifurto', 'presa', 'antenna', 'satellitar', 'presa', 'telefonica', 'br', 'br', 'orari', 'lunedi', 'chiusi', 'br', 'martedi', '10', '00', '17', '00', 'br', 'mercoledi', '10', '00', '17', '00', 'br', 'hr', 'giovedi', '10', '00', '17', '00', 'br', 'hr', 'venrdi', '10', '00', '17', '00', 'br', 'hr', 'sabato', '10', '00', '17', '00', 'br', 'domenica', '10', '00', '13', '00', 'div', 'div'], ['div', 'aria', 'expand', 'fals', 'class', 'col', 'xs', '12', 'descript', 'text', 'text', 'compress', 'role', 'contentinfo', 'div', 'nomentana', 'via', 'pietralata', '5', 'minuti', 'stazion', 'metropolitana', 'linea', 'B', 'via', 'monti', 'tiburtini', '5', 'minuti', 'tangenzial', 'est', 'all', 'interno', 'gradevol', 'ben', 'curato', 'comprensorio', 'stabili', 'cortina', 'proponiamo', 'vendita', 'ampio', 'appartamento', 'posto', 'primo', 'piano', 'L', 'immobil', 'composto', 'ampio', 'ingresso', 'salon', 'doppio', '2', 'camer', 'matrimoniali', 'cameretta', 'cucina', 'doppi', 'servizi', '3', 'balconi', 'tutti', 'ambienti', 'climatizzati', 'riscaldamento', 'autonomo', 'pavimentazion', 'parquet', 'completano', 'proprietà', 'posto', 'auto', 'coperto', 'cantina', 'div', 'div'], ['div', 'aria', 'expand', 'fals', 'class', 'col', 'xs', '12', 'descript', 'text', 'text', 'compress', 'role', 'contentinfo', 'div', 'rion', 'campitelli', 'adiacent', 'teatro', 'marcello', 'portico', 'd', 'ottavia', 'all', 'interno', 'edificio', '600', 'composto', 'due', 'sole', 'unità', 'immobiliari', 'ascensor', 'privato', 'videosorvegliato', 'proponiamo', 'attico', 'superattico', 'trilivelli', 'terzo', 'quarto', 'quinto', 'piano', 'terrazz', 'rifinito', 'molto', 'luminoso', 'ottimament', 'esposto', 'gode', 'suggestiva', 'vista', 'panoramica', '180', 'bellezz', 'roma', 'L', 'immobil', 'sviluppa', 'tre', 'livelli', 'due', 'quali', 'dotati', 'ascensor', 'privato', 'composto', 'terzo', 'piano', 'salon', 'quadruplo', 'otto', 'finestr', 'affaccio', 'teatro', 'marcello', 'bagno', 'zona', 'armadiatur', 'lavanderia', 'separata', 'quarto', 'piano', 'deliziosa', 'sala', 'pranzo', 'sempr', 'stesso', 'affaccio', 'teatro', 'marcello', 'adiacent', 'cucina', 'dispensa', 'illuminata', 'caratteristico', 'ampio', 'lucernaio', 'camera', 'letto', 'delizioso', 'terrazzino', 'vista', 'tetti', 'campidoglio', 'bagno', 'en', 'suit', 'quinto', 'piano', 'camera', 'studio', 'bagno', 'dall', 'accesso', 'terrazzo', 'staglia', 'rovin', 'teatro', 'marcello', 'affaccio', 'vista', 'aperta', 'portico', 'd', 'ottavia', 'sinagoga', 'costruzioni', 'epoca', 'medioeval', 'teatro', 'marcello', 'resti', 'epoca', 'romana', 'fino', 'arrivar', 'all', 'ara', 'coeli', 'campidoglio', 'all', 'altar', 'patria', 'completano', 'proprietà', 'comodo', 'monolocal', 'piano', 'terra', 'completo', 'angolo', 'cottura', 'armadiatur', 'muro', 'bagno', 'cantina', 'ca', '28', 'mq', 'piano', 'seminterrato', 'una', 'locat', 'esclusiva', 'riservata', 'contesto', 'storico', 'unico', 'immobil', 'assoluto', 'prestigio', 'br', 'Le', 'presenti', 'informazioni', 'planimetri', 'merament', 'indic', 'costituiscono', 'elementi', 'contrattuali', 'br', 'rif', 'W', '0259w7', 'helio', 'cordeiro', 'teixeira', 'tel', '39', '0', '45', '54', '81', '20', 'div', 'div'], ['div', 'aria', 'expand', 'fals', 'class', 'col', 'xs', '12', 'descript', 'text', 'text', 'compress', 'role', 'contentinfo', 'div', 'nel', 'quartier', 'monteverd', 'poch', 'decin', 'metri', 'villa', 'doria', 'pamphili', 'precisament', 'silenziosa', 'via', 'orti', 'galba', 'coldwel', 'banker', 'propon', 'vendita', 'ampio', 'luminoso', 'attico', 'posto', 'quarto', 'ultimo', 'piano', 'palazzina', 'recentemen', 'ripulita', 'l', 'attico', 'compon', 'doppio', 'salon', 'pavimentazion', 'marmo', 'affacci', 'verd', 'dell', 'attigua', 'villa', 'pamphili', 'L', 'accesso', 'spazioso', 'terrazzo', 'garantito', 'salon', 'dall', 'adiacent', 'ampia', 'cucina', 'tinello', 'La', 'zona', 'nott', 'ottimament', 'distribuita', 'presenta', 'pavimentazion', 'parquet', 'composta', 'grand', 'disimpegno', 'dotato', 'comodo', 'soppalco', 'tre', 'spazios', 'camer', 'letto', 'due', 'bagni', 'ripostiglio', 'completano', 'proprietà', 'box', 'doppio', 'un', 'ampia', 'cantina', 'L', 'attico', 'inoltr', 'dotato', 'porta', 'blindata', 'inferri', 'sistema', 'd', 'allarm', 'presenta', 'ottim', 'condizioni', 'abit', 'L', 'ottima', 'distribuzion', 'spazi', 'interni', 'luminosità', 'vicinanza', 'parco', 'grand', 'capital', 'nonché', 'gianicolo', 'rendono', 'immobil', 'ideal', 'famigli', 'amanti', 'quartier', 'monteverd', 'div', 'div'], ['div', 'aria', 'expand', 'fals', 'class', 'col', 'xs', '12', 'descript', 'text', 'text', 'compress', 'role', 'contentinfo', 'div', 'rif', '18101', 'montagnola', 'via', 'fontanellato', 'A', 'pochi', 'passi', 'parco', 'falcon', 'borsellino', 'proponiamo', 'zona', 'ben', 'servita', 'attività', 'commerciali', 'ogni', 'gener', 'vendita', 'appartamento', '90mq', 'posto', 'piano', 'terra', 'composto', 'ampio', 'ingresso', 'salon', 'rappresentanza', 'cucina', 'abitabil', 'due', 'camer', 'matrimonial', 'servizio', 'giardino', 'proprietà', '200mq', 'circa', 'completa', 'proprietà', 'cantina', 'I', 'dati', 'intendono', 'corretti', 'garant', 'La', 'present', 'costituisc', 'nessun', 'caso', 'documento', 'contrattual', 'br', 'inserisci', 'via', 'cap', 'ricever', 'valutazion', 'immediata', 'tua', 'casa', 'entra', 'sito', 'web', 'http', 'www', 'angeliniproperti', 'it', 'valuta', 'la', 'tua', 'casa', 'br', 'br', 'tutt', 'novità', 'trovi', 'canali', 'social', 'br', 'seguici', 'instagram', 'http', 'www', 'instagram', 'com', 'la_tua_family_ag', 'br', 'like', 'facebook', 'http', 'www', 'facebook', 'com', 'angeliniproperti', 'ref', 'bookmark', 'br', 'iscriv', 'youtub', 'http', 'www', 'youtub', 'com', 'channel', 'uckylafeitvles6emft9l', 'rA', 'div', 'div'], ['div', 'aria', 'expand', 'fals', 'class', 'col', 'xs', '12', 'descript', 'text', 'text', 'compress', 'role', 'contentinfo', 'div', 'proponiamo', 'vendita', 'via', 'genserico', 'fontana', 'immobil', '105mq', 'commerciali', 'sito', 'primo', 'piano', 'alto', 'affacci', 'terzo', 'elegant', 'palazzo', 'cortina', 'perfetto', 'stato', 'manutenzion', 'br', 'completament', 'ristrutturato', 'materiali', 'pregio', 'rifinito', 'arredi', 'design', 'falegnameria', 'misura', 'br', 'mai', 'abitato', 'br', 'ampio', 'salon', 'cucina', 'abitabil', 'due', 'camer', 'matrimoniali', 'due', 'bagni', 'ripostiglio', 'balconi', 'br', 'possibilità', 'box', 'auto', 'br', 'porta', 'blindata', 'armadi', 'muro', 'parquet', 'ambienti', 'gre', 'porcellanato', 'bagni', 'filo', 'diffusion', 'sonora', 'ogni', 'ambient', 'infissi', 'taglio', 'termico', 'comprensivo', 'arredi', 'misura', 'cucina', 'elettrodomestici', 'br', 'categoria', 'catastal', 'A', '2', 'br', 'valutasi', 'permut', 'br', 'br', 'progettazion', 'realizzazion', 'cura', 'exclus', 'home', 'project', 'www', 'exclusivehomeproject', 'com', 'div', 'div'], ['div', 'aria', 'expand', 'fals', 'class', 'col', 'xs', '12', 'descript', 'text', 'text', 'compress', 'role', 'contentinfo', 'div', 'casal', 'lumbroso', 'aurelia', '3', 'piano', 'MQ', '87', 'climatizzato', 'accessoriato', 'con', 'box', 'E', 'cantina', 'br', 'br', 'aurelia', 'casal', 'lumbroso', 'lato', 'aurelia', 'precisament', 'via', 'arnaldo', 'cantani', 'vicino', 'complanar', 'aurelia', 'servita', 'qualsiasi', 'attività', 'commercial', 'proponiamo', 'vendita', 'bell', 'appartamento', 'mq', '90', 'posto', 'terzo', 'piano', 'accessoriato', 'box', 'cantina', 'br', 'class', 'energetica', 'D', 'ipe', '57', '03', 'br', 'br', 'L', 'immobil', 'ubicato', 'all', 'interno', 'palazzina', 'cortina', 'quattro', 'piani', 'dotata', 'ascensor', 'così', 'composto', 'zona', 'giorno', 'troviamo', 'soggiorno', 'terrazzino', 'abitabil', 'cucina', 'zona', 'nott', 'invec', 'compon', 'un', 'ampia', 'camera', 'letto', 'all', 'interno', 'bagno', 'patronal', 'vasca', 'seconda', 'camera', 'secondo', 'bagno', 'doccia', 'balcon', 'br', 'L', 'appartamento', 'presenta', 'buono', 'stato', 'conservativo', 'accessoriato', 'portoncino', 'blindato', 'infissi', 'legno', 'termoacustici', 'termoautonomo', 'ampio', 'box', 'cantina', 'br', 'servizi', 'br', 'scuola', 'chiesa', 'parco', 'giochi', 'comunal', 'br', 'negozi', 'ogni', 'gener', 'via', 'casal', 'lumbroso', 'pasticceri', 'ristoranti', 'fit', 'campo', 'calcio', 'capolinea', 'bu', 'porta', 'direttament', 'metro', 'A', 'vall', 'aurelia', 'br', 'complanar', 'aurelia', 'supermercati', 'ogni', 'gener', 'rivenditori', 'div', 'div'], ['div', 'aria', 'expand', 'fals', 'class', 'col', 'xs', '12', 'descript', 'text', 'text', 'compress', 'role', 'contentinfo', 'div', 'attico', 'esclusivo', 'due', 'livelli', 'piazza', 'cancelleria', 'piazza', 'campo', 'dè', 'fiori', 'l', 'immobil', 'venduto', 'nuda', 'proprietà', 'situato', 'palazzetto', 'tre', 'piani', 'ascensor', 'composto', 'piacevol', 'ingresso', 'finestra', 'conduc', 'salon', 'esposizion', 'angolar', 'piazza', 'cancelleria', 'campo', 'dè', 'fiori', 'sala', 'pranzo', 'separata', 'cucina', 'abitabil', 'due', 'finestr', 'stanza', 'guardaroba', 'cameretta', 'bagno', 'vasca', 'idromassaggio', 'una', 'bella', 'comoda', 'scala', 'muratura', 'conduc', 'piano', 'superior', 'composto', 'quattro', 'stanz', 'due', 'bagni', 'disimpegno', 'qui', 'acced', 'terrazzo', 'soleggiato', 'panoramico', 'campo', 'dè', 'fiori', 'tetti', 'roma', 'La', 'proprietà', 'ottim', 'condizioni', 'soffitti', 'legno', 'pavimenti', 'parquet', 'luminosa', 'tre', 'esposizioni', 'curata', 'particolari', 'ubicata', 'bellissima', 'zona', 'compresa', 'via', 'giulia', 'via', 'monserrato', 'piazza', 'farnes', 'lato', 'campo', 'dè', 'fiori', 'piazza', 'cancelleria', 'dall', 'altro', 'br', 'possibilità', 'acquistar', 'comodo', 'ampio', 'local', 'accesso', 'diretto', 'situato', 'pochi', 'passi', 'uso', 'box', 'doppio', '35mq', 'circa', 'capient', 'cantina', '45mq', 'circa', 'br', 'grand', 'opportunità', 'investimento', 'pregio', 'br', 'Le', 'presenti', 'informazioni', 'planimetri', 'merament', 'indic', 'costituiscono', 'elementi', 'contrattuali', 'br', 'rif', 'W', '028tdx', 'donatella', 'palma', 'tel', '39', '06', '45', '54', '81', '20', 'div', 'div'], ['div', 'aria', 'expand', 'fals', 'class', 'col', 'xs', '12', 'descript', 'text', 'text', 'compress', 'role', 'contentinfo', 'div', 'nella', 'part', 'alta', 'via', 'farnesina', 'all', 'interno', 'signoril', 'condominio', 'piscina', 'servizio', 'portineria', 'proponiamo', 'vendita', 'elegant', 'terzo', 'piano', 'recentement', 'ristrutturato', 'L', 'appartamento', 'unico', 'piano', 'dispon', 'tre', 'ingressi', 'funzional', 'suddivision', 'zona', 'giorno', 'nott', 'servizio', 'L', 'ampio', 'ingresso', 'accesso', 'salon', 'doppio', 'zona', 'pranzo', 'tre', 'ampi', 'camer', 'letto', 'servit', 'tre', 'bagni', 'zona', 'servizio', 'composta', 'cucina', 'abitabil', 'camera', 'bagno', 'lavanderia', 'ripostiglio', 'guest', 'toilett', 'gli', 'alti', 'soffitti', 'numeros', 'finestr', 'affacciano', 'terrazzo', 'balconi', 'danno', 'ampio', 'respiro', 'spazi', 'rendono', 'l', 'appartamento', 'molto', 'luminoso', 'completano', 'proprietà', 'posto', 'auto', '30mq', 'cantina', 'L', 'immobil', 'adatto', 'cerca', 'soluzion', 'riservatezza', 'tranquillità', 'pur', 'rimanendo', 'vicino', 'servizi', 'ben', 'collegata', 'centro', 'città', 'br', 'Le', 'presenti', 'informazioni', 'planimetri', 'merament', 'indic', 'costituiscono', 'elementi', 'contrattuali', 'br', 'br', 'rif', 'W', '02aswi', 'flaminia', 'meloni', 'tel', '39', '06', '45', '54', '81', '20', 'div', 'div'], ['div', 'aria', 'expand', 'fals', 'class', 'col', 'xs', '12', 'descript', 'text', 'text', 'compress', 'role', 'contentinfo', 'div', 'A', 'pochi', 'passi', 'villa', 'pamphili', 'precisament', 'via', 'piccolomini', 'vie', 'eleganti', 'prestigios', 'capital', 'proponiamo', 'vendita', 'esclusivo', 'attico', 'panoramico', 'ca', '200mq', 'coperti', 'terrazza', 'livello', 'oltr', '100mq', 'vista', 'suggestiva', 'cupola', 'san', 'pietro', 'dall', 'ampio', 'ingresso', 'acced', 'ambienti', 'salon', 'doppio', 'zona', 'pranzo', 'cucina', 'abitabil', 'tre', 'camer', 'letto', '2', 'bagni', 'padronali', 'camera', 'servizio', 'bagno', 'lavanderia', 'bagno', 'ospiti', 'tutti', 'ambienti', 'risultano', 'particolarment', 'luminosi', 'grazi', 'all', 'altezza', 'piano', 'quadrupla', 'esposizion', 'meravigliosa', 'vista', 'aperta', 'città', 'realizzato', 'materiali', 'pregio', 'boiseri', 'parquet', 'bagni', 'marmo', 'jacuzzi', 'appartamento', 'inoltr', 'pregio', 'consentir', 'agevoli', 'personalizzazioni', 'planimetrich', 'grazi', 'versatilità', 'ambienti', 'Di', 'pertinenza', 'ampio', 'posto', 'auto', 'coperto', 'condominial', 'cantina', 'L', 'ubicazion', 'zona', 'signoril', 'ricca', 'servizi', 'essenziali', 'parchi', 'scuol', 'università', 'mezzi', 'trasporto', 'esercizi', 'commerciali', 'tipologia', 'rendono', 'affascinant', 'proprietà', 'soluzion', 'abitativa', 'prestigiosa', 'rappresentanza', 'ideal', 'professionisti', 'famigli', 'numeros', 'br', 'descrizion', 'posizion', 'br', 'La', 'proprietà', 'via', 'piccolomini', 'cuor', 'zone', 'architettonich', 'prestigios', 'eleganti', 'capital', 'ridosso', 'centro', 'storico', 'vaticano', 'La', 'zona', 'ben', 'collegata', 'offr', 'servizi', 'principali', 'parchi', 'scuol', 'università', 'mezzi', 'trasporto', 'esercizi', 'commerciali', 'div', 'div'], ['div', 'aria', 'expand', 'fals', 'class', 'col', 'xs', '12', 'descript', 'text', 'text', 'compress', 'role', 'contentinfo', 'div', 'nell', 'esclusivo', 'quartier', 'parioli', 'precisament', 'splendita', 'cornic', 'piazza', 'muse', 'coldwel', 'banker', 'exclus', 'Re', 'propon', 'vendita', 'prestigioso', 'ufficio', 'alta', 'rappresentanza', 'stabil', 'signoril', 'servizio', 'portineria', 'La', 'distribuzion', 'funzional', 'gradevol', 'spazi', 'interno', 'bene', 'adeguata', 'utilizzo', 'specifico', 'L', 'appartamento', 'costituito', 'ampio', 'ingresso', 'recept', 'sala', 'd', 'attesa', '6', 'ampi', 'camer', 'sala', 'riunioni', 'doppi', 'servizi', 'completano', 'proprietà', 'cantina', 'box', 'auto', 'piano', 'interrato', 'internament', 'appartamento', 'presenta', 'perfett', 'condizioni', 'manutenzion', 'parti', 'edili', 'impiantistich', 'stato', 'oggetto', 'recent', 'radical', 'ristrutturazion', 'tutti', 'materiali', 'qualità', 'finitura', 'alto', 'livello', 'pavimenti', 'parquet', 'eleganti', 'boiseri', 'ufficio', 'infissi', 'esterni', 'alluminio', 'vetrocamera', 'antisfondamento', 'ottimo', 'spessor', 'garanzia', 'adeguato', 'livello', 'isolamento', 'termico', 'acustico', 'L', 'ufficio', 'totalment', 'cablato', 'dotato', 'impianto', 'canalizzato', 'caldo', 'freddo', 'impianto', 'allarm', 'controsoffitti', 'faretti', 'impianto', 'filodifussion', 'L', 'area', 'ben', 'servita', 'mezzi', 'pubblici', 'superfici', 'line', 'atac', 'pochi', 'metri', 'dall', 'immobil', 'consentono', 'rapido', 'collegamento', 'stazion', 'termini', 'centro', 'storico', 'raggiungibil', 'facilment', 'vicina', 'linea', 'ferroviaria', 'roma', 'nord', 'stazion', 'euclid', 'L', 'eleganza', 'funzionalità', 'rendono', 'immobil', 'unico', 'gener', 'adatto', 'attività', 'professionali', 'esclus', 'Si', 'propon', 'immobil', 'investitori', 'occupato', 'alto', 'reddito', 'div', 'div'], ['div', 'aria', 'expand', 'fals', 'class', 'col', 'xs', '12', 'descript', 'text', 'text', 'compress', 'role', 'contentinfo', 'div', 'eur', 'villa', 'vendita', 'alta', 'rappresentanza', 'ottim', 'rifinitur', 'ampio', 'ingresso', 'salon', 'quadruplo', 'camino', 'cinqu', 'camer', 'cucina', 'tinello', 'quattro', 'servizi', 'sala', 'hobbi', 'cucinotto', 'lavanderia', 'giardino', 'mq', '1000', 'ca', 'box', 'triplo', 'possibilità', 'permuta', 'br', 'rif', '795p', 'tel', '06', '83964019', 'br', 'br', 'eur', 'villa', 'for', 'sale', 'represent', 'great', 'finish', 'larg', 'entranc', 'hall', 'quadrupl', 'with', 'fireplac', 'five', 'bedroom', 'kitchen', 'dine', 'room', 'four', 'hobbi', 'room', 'servic', 'with', 'kitchenett', 'and', 'laundri', 'garden', 'sqm', 'approx', 'box', 'tripl', 'div', 'div'], ['div', 'aria', 'expand', 'fals', 'class', 'col', 'xs', '12', 'descript', 'text', 'text', 'compress', 'role', 'contentinfo', 'div', 'balduina', 'appartamento', 'vendita', 'adiacenz', 'piazza', 'balduina', 'libero', 'luminoso', 'finement', 'ristrutturato', 'ingresso', 'salon', 'camera', 'possibilità', '2', 'camera', 'cucina', 'abitabil', 'arredata', 'bagno', 'balcon', 'cantina', 'br', 'dilazioni', 'permut', 'rif', '1034m', 'tel', '06', '5343497', 'br', 'br', 'balduina', 'apart', 'for', 'sale', 'adjac', 'piazza', 'balduina', 'free', 'bright', 'tast', 'renov', 'entranc', 'hall', 'live', 'room', 'kitchen', 'furnish', 'bathroom', 'possibl', 'second', 'bedroom', 'balconi', 'cellar', 'dilut', 'swap', 'ref', '1034m', 'tel', '06', '5343497', 'div', 'div'], ['div', 'aria', 'expand', 'fals', 'class', 'col', 'xs', '12', 'descript', 'text', 'text', 'compress', 'role', 'contentinfo', 'div', 'boccea', 'adiacent', 'collina', 'muse', 'appartamento', 'vendita', 'completament', 'ristrutturato', 'tranquillo', 'luminoso', 'ampio', 'ingresso', 'salon', 'doppio', 'camino', '2', 'camer', 'cucina', 'doppi', 'servizi', 'balcon', 'terrazzo', '35', 'mq', 'ca', 'cantina', 'box', 'doppio', 'dilazioni', 'permut', 'rif', '992b', 'tel', '06', '35341280', 'br', 'br', 'boccea', 'adjac', 'collina', 'muse', 'apart', 'for', 'sale', 'complet', 'renov', 'quiet', 'bright', 'larg', 'entranc', 'hall', 'doubl', 'room', 'with', 'fireplac', '2', 'room', 'kitchen', 'two', 'bathroom', 'balconi', 'terrac', 'of', 'approx', '35', 'sqm', 'doubl', 'box', 'cellar', 'depreci', 'trade', 'rif', '992b', 'tel', '06', '35341280', 'div', 'div'], ['div', 'aria', 'expand', 'fals', 'class', 'col', 'xs', '12', 'descript', 'text', 'text', 'compress', 'role', 'contentinfo', 'div', 'rif', '18028', 'torr', 'maura', 'via', 'silicella', 'nell', 'immedi', 'vicinanz', 'via', 'casilina', 'pochi', 'metri', 'fermata', 'metro', 'linea', 'C', 'torr', 'maura', 'proponiamo', 'all', 'interno', 'un', 'elegant', 'palazzina', 'cortina', '5', 'piani', 'ascensor', 'vendita', 'delizioso', 'appartamento', '60mq', 'circa', 'posto', 'terzo', 'piano', 'composto', 'ingresso', 'salon', 'camera', 'matrimonial', 'cucinotto', 'servizio', 'terrazzino', '10mq', 'completano', 'proprietà', 'due', 'posti', 'auto', 'coperto', 'I', 'dati', 'intendono', 'corretti', 'garant', 'La', 'present', 'costituisc', 'nessun', 'caso', 'documento', 'contrattual', 'br', 'inserisci', 'via', 'cap', 'ricever', 'valutazion', 'immediata', 'casa', 'entra', 'sito', 'web', 'http', 'www', 'angeliniproperti', 'it', 'valuta', 'la', 'tua', 'casa', 'br', 'br', 'tutt', 'novità', 'trovi', 'canali', 'social', 'br', 'like', 'facebook', 'http', 'www', 'facebook', 'com', 'angeliniproperti', 'ref', 'bookmark', 'br', 'iscriv', 'youtub', 'http', 'www', 'youtub', 'com', 'channel', 'uckylafeitvles6emft9l', 'rA', 'br', 'br', 'div', 'div'], ['div', 'aria', 'expand', 'fals', 'class', 'col', 'xs', '12', 'descript', 'text', 'text', 'compress', 'role', 'contentinfo', 'div', 'In', 'contesto', 'esclusivo', 'all', 'interno', 'palazzina', 'anni', '40', 'appartamento', '204', 'mq', 'adatto', 'studi', 'professionali', 'case', 'signorili', 'L', 'immobil', 'ristrutturar', 'composto', 'piano', 'rialzato', 'ingresso', 'soggiorno', 'doppio', '2', 'camer', 'letto', '1', 'servizio', 'una', 'scala', 'interna', 'collega', 'piano', 'interrato', 'grand', 'vano', 'cucina', 'sala', 'pranzo', 'sala', 'hobbi', 'bagno', 'ospiti', 'soffitti', 'alti', '3', 'metri', 'infissi', 'vetro', 'legno', 'riscaldamento', 'tramit', 'contabilizzatori', 'cod', '9836', 'div', 'div'], ['div', 'aria', 'expand', 'fals', 'class', 'col', 'xs', '12', 'descript', 'text', 'text', 'compress', 'role', 'contentinfo', 'div', 'nella', 'splendida', 'cornic', 'piazza', 'navona', 'proponiamo', 'vendita', 'caratteristico', 'appartamento', 'affacci', 'aperti', 'storica', 'piazza', 'pasquino', 'L', 'appartamento', 'sito', 'palazzo', 'seicento', 'sviluppa', 'due', 'livelli', 'delizioso', 'sfogo', 'esterno', 'pochi', 'balconcini', 'zona', 'L', 'immobil', 'consent', 'necessari', 'lavori', 'ristrutturazion', 'completa', 'personalizzazion', 'così', 'soddisfar', 'molteplici', 'esigenz', 'rappresenta', 'rara', 'opportunità', 'voless', 'godersi', 'vita', 'cuor', 'rion', 'parion', 'oppur', 'fare', 'solido', 'investimento', 'br', 'Le', 'presenti', 'informazioni', 'planimetri', 'merament', 'indic', 'costituiscono', 'elementi', 'contrattuali', 'br', 'rif', 'W', '0296pq', 'helio', 'cordeiro', 'teixeira', 'tel', '39', '06', '45', '54', '81', '20', 'div', 'div'], ['div', 'aria', 'expand', 'fals', 'class', 'col', 'xs', '12', 'descript', 'text', 'text', 'compress', 'role', 'contentinfo', 'div', 'nella', 'splendida', 'cornic', 'monteverd', 'vecchio', 'vie', 'richiest', 'zona', 'via', 'dandolo', 'proponiamo', 'vendita', 'immobil', 'ampia', 'metratura', 'elegant', 'finitur', 'pregio', 'La', 'proprietà', 'dotata', 'doppio', 'ingresso', 'situata', 'all', 'interno', 'prestigioso', 'palazzo', 'd', 'epoca', 'ben', 'tenuto', 'splendido', 'giardino', 'condominial', 'ornato', 'alberi', 'alto', 'fusto', 'L', 'immobil', 'compon', 'ampio', 'ingresso', 'conduc', 'bellissimo', 'salon', 'doppio', 'alta', 'rappresentanza', 'camino', 'funzionant', 'soffitti', 'alti', 'decorati', 'mano', 'risaltando', 'così', 'ampi', 'spazi', 'dell', 'ambient', 'Un', 'grand', 'porta', 'finestra', 'dona', 'luce', 'bellissimo', 'salon', 'immett', 'gradevol', 'terrazzino', 'abitabil', 'Il', 'salon', 'comunica', 'ulterior', 'zona', 'live', 'vista', 'comoda', 'spaziosa', 'studio', 'rappresentanza', 'comoda', 'cucina', 'dotata', 'ogni', 'comfort', 'bellissima', 'vista', 'verso', 'centro', 'roma', 'apprezzabil', 'balcon', 'pertinenza', 'La', 'zona', 'nott', 'caratterizzata', 'due', 'grandissim', 'camer', 'entramb', 'svilupp', 'due', 'livelli', 'relativi', 'bagni', 'en', 'suit', 'quali', 'offrono', 'possibilità', 'poter', 'gestir', 'spazi', 'molto', 'grandi', 'seconda', 'esigenz', 'specifich', 'completano', 'l', 'immobil', 'box', 'può', 'ospitar', 'grand', 'autovettura', 'paio', 'ciclomotori', 'posto', 'auto', 'antistant', 'stesso', 'box', 'ottimament', 'collegato', 'principali', 'zone', 'roma', 'strategicament', 'posizionato', 'crocevia', 'collega', 'gianicolo', 'monteverd', 'vecchio', 'centro', 'storico', 'due', 'passi', 'villa', 'sciarra', 'villa', 'doria', 'pamphili', 'ben', 'collegato', 'principali', 'mezzi', 'pubblici', 'soluzion', 'ideal', 'cerca', 'proprietà', 'alta', 'rappresentanza', 'esclusività', 'zona', 'prestigiosa', 'riservata', 'sfruttando', 'vantaggi', 'offr', 'centro', 'città', 'br', 'Le', 'presenti', 'informazioni', 'planimetri', 'merament', 'indic', 'costituiscono', 'elementi', 'contrattuali', 'br', 'rif', 'W', '026isa', 'helio', 'cordeiro', 'teixeira', 'tel', '39', '06', '45', '54', '81', '20', 'div', 'div'], ['div', 'aria', 'expand', 'fals', 'class', 'col', 'xs', '12', 'descript', 'text', 'text', 'compress', 'role', 'contentinfo', 'div', 'In', 'via', 'zaccanopoli', 'riservata', 'traversa', 'via', 'gasperina', 'via', 'anagnina', 'via', 'tuscolana', 'prossimità', 'ikea', 'metro', 'A', 'proponiamo', 'vendita', 'elegant', 'trilocal', 'eccellenti', 'condizioni', 'L', 'appartamento', 'mq', '87', 'ca', 'trova', 'secondo', 'piano', 'ascensor', 'palazzina', 'cortina', 'soli', 'tre', 'piani', 'caratterizzato', 'affacci', 'aperti', 'conferiscono', 'particolar', 'luminosità', 'un', 'ottima', 'distribuzion', 'spazi', 'interni', 'La', 'zona', 'giorno', 'presenta', 'confortevol', 'soggiorno', 'angolo', 'cottura', 'affaccia', 'due', 'balconi', 'dell', 'abitazion', 'trovato', 'spazio', 'lavatric', 'comodo', 'lavandino', 'oltr', 'caldaia', 'motor', 'dell', 'aria', 'condizionata', 'Un', 'corridoio', 'introduc', 'part', 'riservata', 'casa', 'troviamo', 'ampio', 'bagno', 'doccia', 'camera', 'bagno', 'en', 'suit', 'vasca', 'idromassaggio', 'cameretta', 'altro', 'balcon', 'L', 'abitazion', 'stata', 'ristrutturata', 'materiali', 'pregio', 'pavimenti', 'parquet', 'presenta', 'due', 'capienti', 'soppalchi', 'ambienti', 'climatizzati', 'perfetto', 'stato', 'manutentivo', 'tale', 'richieder', 'alcun', 'intervento', 'restauro', 'perfetta', 'giovan', 'coppia', 'ottima', 'uso', 'investimento', 'br', 'Le', 'presenti', 'informazioni', 'planimetri', 'merament', 'indic', 'costituiscono', 'elementi', 'contrattuali', 'br', 'rif', 'W', '02ctil', 'laura', 'rosati', 'tel', '39', '06', '45', '54', '81', '20', 'div', 'div'], ['div', 'aria', 'expand', 'fals', 'class', 'col', 'xs', '12', 'descript', 'text', 'text', 'compress', 'role', 'contentinfo', 'div', 'attico', 'panoramico', 'zona', 'aurelia', 'via', 'bartolomeo', 'dusi', 'n', '18', 'sito', 'www', 'maxdirocco', 'it', 'br', 'br', 'viver', 'attico', 'significa', 'regalar', 'te', 'famiglia', 'possibilità', 'vita', 'straordinaria', 'chiudi', 'occhi', 'immagina', 'quiet', 'riposo', 'senti', 'pell', 'primi', 'raggi', 'sole', 'mattino', 'illuminano', 'ampio', 'salon', 'pensa', 'aperitivi', 'amici', 'terrazzo', 'tramonto', 'dolc', 'musica', 'sottofondo', 'roma', 'attico', 'quartier', 'aurelio', 'front', 'clinica', 'pio', 'XI', 'sito', 'quarto', 'quinto', 'piano', 'immobil', 'vuoto', 'libero', 'quadrupla', 'esposizion', 'est', 'ovest', 'sud', 'nord', 'composto', 'ingresso', 'salon', 'doppio', 'divisibil', 'due', 'camer', 'letto', 'ripostiglio', 'cucina', 'porta', 'finestra', 'terrazzo', 'bagno', 'piano', 'superior', 'ampliamento', 'pertinenza', 'composto', 'tre', 'ambienti', 'bagno', 'completa', 'proprietà', 'box', 'auto', 'coperto', 'superfici', 'commercial', 'total', 'ragguagliata', 'mq', '166', '04', 'ristrutturar', 'disponibili', 'due', 'rilievi', 'metrici', 'tre', 'ipotesi', 'ristrutturazion', 'redatti', 'architetto', 'con', 'ristrutturazion', 'possibil', 'ricavar', 'appartamento', 'adatto', 'studio', 'abitazion', 'oppur', 'salon', 'tre', 'camer', 'letto', 'tre', 'bagni', 'alternativa', 'doppio', 'salon', 'due', 'camer', 'letto', 'tre', 'bagni', 'persino', 'quattro', 'camer', 'letto', 'soggiorno', 'cucina', 'due', 'tre', 'bagni', 'due', 'terrazzi', 'È', 'disponibil', 'relazion', 'notaio', 'certifica', 'commerciabilità', 'immobili', 'possibilità', 'finanziamenti', 'tassi', 'agevolati', 'acquisto', 'ristrutturazion', 'attestato', 'prestazion', 'energetica', 'class', 'G', '253', '7', 'kwh', 'm²anno', 'L', 'appartamento', 'part', 'fabbricato', 'dichiarato', 'abitabil', 'certificato', 'n', '331del', '17', '12', '1983', 'L', 'edificio', 'stato', 'costruito', 'struttura', 'cemento', 'armato', 'solai', 'laterocemento', 'tamponatur', 'estern', 'forati', 'intonacati', 'rivestimento', 'cortina', 'condominio', 'composto', '2', 'villini', 'A', 'B', 'total', '36', 'appartamenti', 'presenti', 'negozi', 'struttura', 'sviluppa', 'piano', 'interrato', 'adibito', 'posti', 'box', 'auto', 'piani', 'fuori', 'terra', 'L', 'appartamento', 'vendita', 'superfici', 'total', 'commercial', 'ragguagliata', 'mq', '166', '04', 'L', 'impianto', 'riscaldamento', 'autonomo', 'caldaia', 'vaillant', 'ga', '2012', 'necessaria', 'completa', 'ristrutturazion', 'attico', 'ampliamento', 'piano', 'superior', 'Le', 'utenz', 'state', 'disattiv', 'acqua', 'condominial', 'br', 'Il', 'fabbricato', 'dispon', 'ascensor', 'spese', 'condominiali', 'mensili', 'ammontano', '120', '90', 'Il', 'quartier', 'aurelio', 'servito', 'fitta', 'rete', 'trasporti', 'pubblici', 'mezzi', 'superfici', 'line', '246', '246p', '247', 'circa', '1', '5', 'km', 'metro', 'A', 'fermata', 'cornelia', 'raggiungibil', 'bu', 'presenti', 'scuol', 'ogni', 'grado', 'molti', 'esercizi', 'commerciali', 'nonché', 'servizi', 'pubblici', 'privati', 'posta', 'banch', 'supermercato', 'carrefour', 'hr', 'br', 'br', 'Dr', 'massimo', 'Di', 'rocco', 'br', 'agent', 'consulent', 'immobiliar', 'br', 'hr', 'www', 'maxdirocco', 'it', 'tel', '339', '77', '23', '683', 'div', 'div'], ['div', 'aria', 'expand', 'fals', 'class', 'col', 'xs', '12', 'descript', 'text', 'text', 'compress', 'role', 'contentinfo', 'div', 'nel', 'cuor', 'rion', 'parion', 'proponiamo', 'vendita', 'ampio', 'affascinant', 'appartamento', 'due', 'passi', 'piazza', 'campo', 'de', 'fiori', 'br', 'L', 'immobil', 'posto', 'secondo', 'quattro', 'piani', 'stabil', 'xvi', 'secolo', 'sito', 'suggestiva', 'continuità', 'urbanistica', 'area', 'costruita', 'sull', 'antico', 'tracciato', 'teatro', 'pompeo', 'br', 'composto', 'ampio', 'ingresso', 'luminoso', 'salon', 'doppio', 'camera', 'letto', 'matrimonial', 'bagno', 'spaziosa', 'cucina', 'balconcino', 'appartamento', 'dotato', 'comodo', 'soggiorno', 'grand', 'cabina', 'armadio', 'br', 'L', 'immobil', 'vendita', 'presta', 'ricavar', 'due', 'unità', 'immobiliari', 'distint', 'grazi', 'possibilità', 'ripristino', 'seconda', 'porta', 'ingresso', 'mentr', 'diversa', 'redistribuzion', 'spazi', 'interni', 'creazion', 'seconda', 'stanza', 'letto', 'ulterior', 'bagno', 'darebb', 'vita', 'splendido', 'appartamento', 'uso', 'residenzial', 'br', 'ottimo', 'soluzion', 'abitativa', 'escluder', 'investimento', 'uso', 'ricettivo', 'br', 'Le', 'presenti', 'informazioni', 'planimetri', 'merament', 'indic', 'costituiscono', 'elementi', 'contrattuali', 'br', 'rif', 'W', '02c71a', 'helio', 'cordeiro', 'teixeira', 'tel', '39', '06', '45', '54', '81', '20', 'div', 'div'], ['div', 'aria', 'expand', 'fals', 'class', 'col', 'xs', '12', 'descript', 'text', 'text', 'compress', 'role', 'contentinfo', 'div', 'nella', 'residenzial', 'zona', 'parco', 'acquedotti', 'via', 'lemonia', 'angolo', 'circonvallazion', 'tuscolana', 'proponiamo', 'vendita', 'elegant', 'appartamento', 'tre', 'balconi', 'posto', 'piano', 'primo', 'stabil', 'anni', '70', 'ascensor', 'La', 'proprietà', 'presenta', 'stile', 'arredamento', 'molto', 'particolar', 'boiseri', 'caratteristich', 'anni', '80', 'composto', 'ingresso', 'acced', 'doppio', 'soggiorno', 'balcon', 'ampia', 'cucina', 'accesso', 'balcon', 'servizio', 'due', 'camer', 'letto', 'cabina', 'armadio', 'bagno', 'en', 'suit', 'L', 'immobil', 'protetto', 'impianto', 'allarm', 'grate', 'sicurezza', 'ferro', 'condominio', 'sorvegliato', 'durant', 'mese', 'agosto', 'Il', 'riscaldamento', 'autonomo', 'completa', 'proprietà', 'ampia', 'cantina', 'porta', 'blindata', 'box', 'circa', 'mq', '12', 'br', 'Le', 'presenti', 'informazioni', 'planimetri', 'merament', 'indic', 'costituiscono', 'elementi', 'contrattuali', 'br', 'rif', 'W', '02b16h', 'francesco', 'D', 'elia', 'tel', '39', '06', '45', '54', '81', '20', 'div', 'div'], ['div', 'aria', 'expand', 'fals', 'class', 'col', 'xs', '12', 'descript', 'text', 'text', 'compress', 'role', 'contentinfo', 'div', 'zona', 'eur', 'vial', 'cesar', 'paves', 'via', 'salvator', 'quasimodo', '113', 'circolo', 'ferratella', 'br', 'br', 'viver', 'appartamento', 'significa', 'regalar', 'te', 'famiglia', 'possibilità', 'vita', 'serena', 'tranquilla', 'chiudi', 'occhi', 'immagina', 'quiet', 'riposo', 'senti', 'pell', 'raggi', 'sole', 'illuminano', 'casa', 'pensa', 'aperitivi', 'amici', 'terrazzo', 'tramonto', 'dolc', 'musica', 'sottofondo', 'davanti', 'verd', 'alberi', 'giardino', 'condominial', 'senza', 'stress', 'impegno', 'manutenzion', 'pensa', 'giardinier', 'condominio', 'br', 'br', 'zona', 'eur', 'paves', 'centro', 'sportivo', 'ferratella', 'quasimodo', 'consiglia', 'collegarsi', 'sito', 'www', 'maxdirocco', 'it', 'video', 'foto', 'virtual', 'tour', 'planimetri', '3', 'ipotesi', 'progetto', 'possibilità', 'estrarr', 'copia', 'L', 'abitazion', 'sita', 'terzo', 'piano', 'immobil', 'vuoto', 'libero', 'doppia', 'esposizion', 'est', 'ovest', 'attualment', 'composto', 'ingresso', 'salon', 'doppio', 'accesso', 'primo', 'terrazzo', 'tre', 'camer', 'ripostiglio', 'cucina', 'porta', 'finestra', 'secondo', 'terrazzo', 'due', 'bagni', 'vasca', 'altro', 'doccia', 'entrambi', 'finestra', 'box', 'auto', 'cantina', 'superfici', 'commercial', 'total', 'ragguagliata', 'mq', '150', '25', 'ristrutturar', 'abitabil', 'piccoli', 'interventi', 'disponibili', 'tre', 'ipotesi', 'ristrutturazion', 'due', 'rilievi', 'metrici', 'redatti', 'architetto', 'br', 'br', 'con', 'ristrutturazion', 'possibil', 'ricavar', 'appartamento', 'adatto', 'studio', 'abitazion', 'oppur', 'crear', 'due', 'appartamenti', 'autonomi', 'adiacenti', 'alternativa', 'appartamento', 'unico', 'salon', 'sala', 'pranzo', 'camera', 'letto', 'cabina', 'armadio', 'bagno', 'privato', 'due', 'camer', 'due', 'bagni', 'cucina', 'due', 'terrazzi', 'altra', 'possibilità', 'salon', 'cucina', 'vista', 'sala', 'pranzo', 'camera', 'matrimonial', 'cabina', 'armadio', 'camera', 'doppia', 'due', 'camer', 'singol', 'due', 'bagni', 'due', 'terrazzi', 'br', 'br', 'È', 'disponibil', 'relazion', 'notaio', 'certifica', 'inesistenza', 'gravami', 'libera', 'commerciabilità', 'immobili', 'br', 'br', 'possibilità', 'finanziamenti', 'tassi', 'agevolati', 'acquisto', 'ristrutturazion', 'attestato', 'prestazion', 'energetica', 'class', 'E', 'epgl', 'nren', '59', '5660', 'kwh', 'm²anno', 'L', 'appartamento', 'part', 'fabbricato', 'edificato', 'virtù', 'licenza', 'edilizia', 'n', '240', 'rilasciata', '24', '03', '1975', 'variant', 'n', '2432', 'C', '22', '04', '1979', 'dichiarato', 'abitabil', 'certificato', 'n', '271', '23', '11', '1981', 'L', 'edificio', 'stato', 'costruito', 'struttura', 'cemento', 'armato', 'solai', 'laterocemento', 'tamponatur', 'estern', 'pannelli', 'cemento', 'armato', 'precompresso', 'condominio', 'composto', 'scala', 'total', '9', 'appartamenti', 'struttura', 'sviluppa', 'piano', 'interrato', 'adibito', 'box', 'posti', 'auto', 'cantin', 'piano', 'terra', 'piloti', 'ampio', 'local', 'condominial', 'scala', '5', 'piani', 'due', 'appartamenti', 'piano', 'unico', 'appartamento', 'quinto', 'copertura', 'piana', 'terrazzo', 'Il', 'fabbricato', 'stato', 'ristrutturato', 'esternament', 'due', 'anni', 'br', 'L', 'appartamento', 'vendita', 'superfici', 'total', 'commercial', 'ragguagliata', 'mq', '150', '25', 'per', 'ulteriori', 'informazioni', 'collegarsi', 'www', 'maxdirocco', 'it', 'div', 'div'], ['div', 'aria', 'expand', 'fals', 'class', 'col', 'xs', '12', 'descript', 'text', 'text', 'compress', 'role', 'contentinfo', 'div', 'In', 'via', 'caroncini', 'pochi', 'passi', 'piazza', 'muse', 'parioli', 'proponiamo', 'vendita', 'immobil', 'ampia', 'metratura', 'posto', 'secondo', 'piano', 'prestigioso', 'palazzo', 'tardi', 'anni', '50', 'ottimo', 'stato', 'manutenzion', 'dotato', 'servizio', 'portineria', 'intera', 'giornata', 'videosorveglianza', 'L', 'appartamento', 'molto', 'luminoso', 'misura', 'circa', '180', 'mq', 'commerciali', 'composto', 'ampio', 'ingresso', 'doppio', 'salon', 'doppio', 'ampia', 'balconata', 'cucina', 'stanza', 'bagno', 'servizio', 'soppalco', 'tre', 'ampi', 'camer', 'letto', 'accesso', 'secondo', 'balcon', 'cabina', 'armadio', 'armadio', 'muro', 'zona', 'nott', 'bagno', 'oltr', 'cantina', 'L', 'immobil', 'necessita', 'ristrutturazion', 'planimetria', 'può', 'esser', 'facilment', 'redistribuita', 'grazi', 'presenza', 'numeros', 'tramezzatur', 'intern', 'Si', 'può', 'facilment', 'ipotizzar', 'soluzion', 'casastudio', 'grazi', 'presenza', 'secondo', 'ingresso', 'oppur', 'redistribuzion', 'total', 'ambienti', 'ottener', 'zona', 'live', 'spaziosa', 'Il', 'palazzo', 'dispon', 'alcuni', 'posti', 'auto', 'utilizzabili', 'liberament', 'condomini', 'secondo', 'disponibilità', 'strada', 'privata', 'chiusa', 'posizionato', 'posizion', 'baricentrica', 'principali', 'punti', 'collegamento', 'quartier', 'piazza', 'ungheria', 'piazza', 'muse', 'vial', 'parioli', 'br', 'br', 'Le', 'presenti', 'informazioni', 'planimetri', 'merament', 'indic', 'costituiscono', 'elementi', 'contrattuali', 'br', 'br', 'rif', 'W', '02bg0m', 'francesco', 'bernabò', 'silorata', 'tel', '39', '06', '45', '54', '81', '20', 'div', 'div']]\n"
     ]
    }
   ],
   "source": [
    "stop_words = set(stopwords.words('italian')) # we take the stopwords we have to delete\n",
    "tokenizer = RegexpTokenizer(r'\\w+')\n",
    "ps = PorterStemmer()\n",
    "description_words = []\n",
    "\n",
    "for link in need_links[:-1]:\n",
    "    if link[0:5] == 'https':\n",
    "        site = urlopen(link)\n",
    "        page = BeautifulSoup(site, 'lxml')\n",
    "        \n",
    "        description = page.find_all('div', class_=\"col-xs-12 description-text text-compressed\")\n",
    "        description = ''.join(str(description))\n",
    "        \n",
    "        words = word_tokenize(description)\n",
    "        words_without_stop_words = [\"\" if word in stop_words else word for word in words] #we delete the stopwords\n",
    "        new_words = \" \".join(words_without_stop_words)\n",
    "        b = tokenizer.tokenize(new_words)\n",
    "\n",
    "        l_stem_words = []\n",
    "        # with a for loop we stem all the words in the input, and store them in a list\n",
    "        for word in b:\n",
    "            l_stem_words.append(ps.stem(word))\n",
    "        # here we transform the list in a string\n",
    "        stem_words = ' '.join(l_stem_words).split()\n",
    "        description_words.append(stem_words)\n",
    "print(description_words)"
   ]
  },
  {
   "cell_type": "code",
   "execution_count": 18,
   "metadata": {},
   "outputs": [],
   "source": [
    "def vocabulary_creation(word_list, previous_vocabulary):\n",
    "    #create an new dictionary from a previous one which could be empty\n",
    "    vocabulary=previous_vocabulary\n",
    "    #obtain last index of previous dictionary and set first index for 1st different element in this vocabulary\n",
    "    if len(previous_vocabulary)==0:\n",
    "        number=1\n",
    "    else:\n",
    "        number=previous_vocabulary[list(previous_vocabulary)[len(previous_vocabulary)-1]]+1\n",
    "    #adding new words to the vocabulary and omitting repeated ones\n",
    "    for lista in word_list:\n",
    "        for word in lista:\n",
    "            index=list(vocabulary.keys())\n",
    "            if word in index:\n",
    "                pass\n",
    "            else:\n",
    "                vocabulary[word]=number\n",
    "                number+=1\n",
    "    return vocabulary"
   ]
  },
  {
   "cell_type": "code",
   "execution_count": 20,
   "metadata": {},
   "outputs": [],
   "source": [
    "vocabulary={}\n",
    "aux=0\n",
    "# loop to generate a vocabulary from all the documents with title, description and city\n",
    "vocabulary_text = vocabulary_creation(description_words, vocabulary)\n",
    "vocabulary = vocabulary_text"
   ]
  },
  {
   "cell_type": "code",
   "execution_count": 26,
   "metadata": {},
   "outputs": [
    {
     "name": "stdout",
     "output_type": "stream",
     "text": [
      "{'div': 1, 'aria': 2, 'expand': 3, 'fals': 4, 'class': 5, 'col': 6, 'xs': 7, '12': 8, 'descript': 9, 'text': 10, 'compress': 11, 'role': 12, 'contentinfo': 13, 'papillo': 14, 'eur': 15, 'elegant': 16, 'complesso': 17, 'residenzial': 18, 'rifinitissimo': 19, 'bilocal': 20, 'composto': 21, 'soggiorno': 22, 'angolo': 23, 'cottura': 24, 'stanza': 25, 'letto': 26, 'bagno': 27, 'ampio': 28, 'balcon': 29, 'rifinitur': 30, 'pregio': 31, 'pavimenti': 32, 'parquet': 33, 'gree': 34, 'infissi': 35, 'legno': 36, 'vetro': 37, 'camera': 38, 'port': 39, 'noce': 40, 'grate': 41, 'salon': 42, 'riscaldamento': 43, 'termoautonomo': 44, 'caldaia': 45, 'centralizzata': 46, 'condizionata': 47, 'videocitofono': 48, 'porta': 49, 'blindata': 50, 'serramenti': 51, 'elettrici': 52, 'chiusura': 53, 'antenna': 54, 'satellitar': 55, 'isolamento': 56, 'termo': 57, 'acustico': 58, 'pannelli': 59, 'solari': 60, 'fotovoltaici': 61, 'rilevatori': 62, 'elettronici': 63, 'ga': 64, 'tutt': 65, 'camer': 66, 'fornit': 67, 'impianto': 68, 'antifurto': 69, 'presa': 70, 'telefonica': 71, 'br': 72, 'orari': 73, 'lunedi': 74, 'chiusi': 75, 'martedi': 76, '10': 77, '00': 78, '17': 79, 'mercoledi': 80, 'hr': 81, 'giovedi': 82, 'venrdi': 83, 'sabato': 84, 'domenica': 85, '13': 86, 'nomentana': 87, 'via': 88, 'pietralata': 89, '5': 90, 'minuti': 91, 'stazion': 92, 'metropolitana': 93, 'linea': 94, 'B': 95, 'monti': 96, 'tiburtini': 97, 'tangenzial': 98, 'est': 99, 'all': 100, 'interno': 101, 'gradevol': 102, 'ben': 103, 'curato': 104, 'comprensorio': 105, 'stabili': 106, 'cortina': 107, 'proponiamo': 108, 'vendita': 109, 'appartamento': 110, 'posto': 111, 'primo': 112, 'piano': 113, 'L': 114, 'immobil': 115, 'ingresso': 116, 'doppio': 117, '2': 118, 'matrimoniali': 119, 'cameretta': 120, 'cucina': 121, 'doppi': 122, 'servizi': 123, '3': 124, 'balconi': 125, 'tutti': 126, 'ambienti': 127, 'climatizzati': 128, 'autonomo': 129, 'pavimentazion': 130, 'completano': 131, 'proprietà': 132, 'auto': 133, 'coperto': 134, 'cantina': 135, 'rion': 136, 'campitelli': 137, 'adiacent': 138, 'teatro': 139, 'marcello': 140, 'portico': 141, 'd': 142, 'ottavia': 143, 'edificio': 144, '600': 145, 'due': 146, 'sole': 147, 'unità': 148, 'immobiliari': 149, 'ascensor': 150, 'privato': 151, 'videosorvegliato': 152, 'attico': 153, 'superattico': 154, 'trilivelli': 155, 'terzo': 156, 'quarto': 157, 'quinto': 158, 'terrazz': 159, 'rifinito': 160, 'molto': 161, 'luminoso': 162, 'ottimament': 163, 'esposto': 164, 'gode': 165, 'suggestiva': 166, 'vista': 167, 'panoramica': 168, '180': 169, 'bellezz': 170, 'roma': 171, 'sviluppa': 172, 'tre': 173, 'livelli': 174, 'quali': 175, 'dotati': 176, 'quadruplo': 177, 'otto': 178, 'finestr': 179, 'affaccio': 180, 'zona': 181, 'armadiatur': 182, 'lavanderia': 183, 'separata': 184, 'deliziosa': 185, 'sala': 186, 'pranzo': 187, 'sempr': 188, 'stesso': 189, 'dispensa': 190, 'illuminata': 191, 'caratteristico': 192, 'lucernaio': 193, 'delizioso': 194, 'terrazzino': 195, 'tetti': 196, 'campidoglio': 197, 'en': 198, 'suit': 199, 'studio': 200, 'dall': 201, 'accesso': 202, 'terrazzo': 203, 'staglia': 204, 'rovin': 205, 'aperta': 206, 'sinagoga': 207, 'costruzioni': 208, 'epoca': 209, 'medioeval': 210, 'resti': 211, 'romana': 212, 'fino': 213, 'arrivar': 214, 'ara': 215, 'coeli': 216, 'altar': 217, 'patria': 218, 'comodo': 219, 'monolocal': 220, 'terra': 221, 'completo': 222, 'muro': 223, 'ca': 224, '28': 225, 'mq': 226, 'seminterrato': 227, 'una': 228, 'locat': 229, 'esclusiva': 230, 'riservata': 231, 'contesto': 232, 'storico': 233, 'unico': 234, 'assoluto': 235, 'prestigio': 236, 'Le': 237, 'presenti': 238, 'informazioni': 239, 'planimetri': 240, 'merament': 241, 'indic': 242, 'costituiscono': 243, 'elementi': 244, 'contrattuali': 245, 'rif': 246, 'W': 247, '0259w7': 248, 'helio': 249, 'cordeiro': 250, 'teixeira': 251, 'tel': 252, '39': 253, '0': 254, '45': 255, '54': 256, '81': 257, '20': 258, 'nel': 259, 'quartier': 260, 'monteverd': 261, 'poch': 262, 'decin': 263, 'metri': 264, 'villa': 265, 'doria': 266, 'pamphili': 267, 'precisament': 268, 'silenziosa': 269, 'orti': 270, 'galba': 271, 'coldwel': 272, 'banker': 273, 'propon': 274, 'ultimo': 275, 'palazzina': 276, 'recentemen': 277, 'ripulita': 278, 'l': 279, 'compon': 280, 'marmo': 281, 'affacci': 282, 'verd': 283, 'dell': 284, 'attigua': 285, 'spazioso': 286, 'garantito': 287, 'ampia': 288, 'tinello': 289, 'La': 290, 'nott': 291, 'distribuita': 292, 'presenta': 293, 'composta': 294, 'grand': 295, 'disimpegno': 296, 'dotato': 297, 'soppalco': 298, 'spazios': 299, 'bagni': 300, 'ripostiglio': 301, 'box': 302, 'un': 303, 'inoltr': 304, 'inferri': 305, 'sistema': 306, 'allarm': 307, 'ottim': 308, 'condizioni': 309, 'abit': 310, 'ottima': 311, 'distribuzion': 312, 'spazi': 313, 'interni': 314, 'luminosità': 315, 'vicinanza': 316, 'parco': 317, 'capital': 318, 'nonché': 319, 'gianicolo': 320, 'rendono': 321, 'ideal': 322, 'famigli': 323, 'amanti': 324, '18101': 325, 'montagnola': 326, 'fontanellato': 327, 'A': 328, 'pochi': 329, 'passi': 330, 'falcon': 331, 'borsellino': 332, 'servita': 333, 'attività': 334, 'commerciali': 335, 'ogni': 336, 'gener': 337, '90mq': 338, 'rappresentanza': 339, 'abitabil': 340, 'matrimonial': 341, 'servizio': 342, 'giardino': 343, '200mq': 344, 'circa': 345, 'completa': 346, 'I': 347, 'dati': 348, 'intendono': 349, 'corretti': 350, 'garant': 351, 'present': 352, 'costituisc': 353, 'nessun': 354, 'caso': 355, 'documento': 356, 'contrattual': 357, 'inserisci': 358, 'cap': 359, 'ricever': 360, 'valutazion': 361, 'immediata': 362, 'tua': 363, 'casa': 364, 'entra': 365, 'sito': 366, 'web': 367, 'http': 368, 'www': 369, 'angeliniproperti': 370, 'it': 371, 'valuta': 372, 'la': 373, 'novità': 374, 'trovi': 375, 'canali': 376, 'social': 377, 'seguici': 378, 'instagram': 379, 'com': 380, 'la_tua_family_ag': 381, 'like': 382, 'facebook': 383, 'ref': 384, 'bookmark': 385, 'iscriv': 386, 'youtub': 387, 'channel': 388, 'uckylafeitvles6emft9l': 389, 'rA': 390, 'genserico': 391, 'fontana': 392, '105mq': 393, 'alto': 394, 'palazzo': 395, 'perfetto': 396, 'stato': 397, 'manutenzion': 398, 'completament': 399, 'ristrutturato': 400, 'materiali': 401, 'arredi': 402, 'design': 403, 'falegnameria': 404, 'misura': 405, 'mai': 406, 'abitato': 407, 'possibilità': 408, 'armadi': 409, 'gre': 410, 'porcellanato': 411, 'filo': 412, 'diffusion': 413, 'sonora': 414, 'ambient': 415, 'taglio': 416, 'termico': 417, 'comprensivo': 418, 'elettrodomestici': 419, 'categoria': 420, 'catastal': 421, 'valutasi': 422, 'permut': 423, 'progettazion': 424, 'realizzazion': 425, 'cura': 426, 'exclus': 427, 'home': 428, 'project': 429, 'exclusivehomeproject': 430, 'casal': 431, 'lumbroso': 432, 'aurelia': 433, 'MQ': 434, '87': 435, 'climatizzato': 436, 'accessoriato': 437, 'con': 438, 'E': 439, 'lato': 440, 'arnaldo': 441, 'cantani': 442, 'vicino': 443, 'complanar': 444, 'qualsiasi': 445, 'commercial': 446, 'bell': 447, '90': 448, 'energetica': 449, 'D': 450, 'ipe': 451, '57': 452, '03': 453, 'ubicato': 454, 'quattro': 455, 'piani': 456, 'dotata': 457, 'così': 458, 'giorno': 459, 'troviamo': 460, 'invec': 461, 'patronal': 462, 'vasca': 463, 'seconda': 464, 'secondo': 465, 'doccia': 466, 'buono': 467, 'conservativo': 468, 'portoncino': 469, 'blindato': 470, 'termoacustici': 471, 'scuola': 472, 'chiesa': 473, 'giochi': 474, 'comunal': 475, 'negozi': 476, 'pasticceri': 477, 'ristoranti': 478, 'fit': 479, 'campo': 480, 'calcio': 481, 'capolinea': 482, 'bu': 483, 'direttament': 484, 'metro': 485, 'vall': 486, 'supermercati': 487, 'rivenditori': 488, 'esclusivo': 489, 'piazza': 490, 'cancelleria': 491, 'dè': 492, 'fiori': 493, 'venduto': 494, 'nuda': 495, 'situato': 496, 'palazzetto': 497, 'piacevol': 498, 'finestra': 499, 'conduc': 500, 'esposizion': 501, 'angolar': 502, 'guardaroba': 503, 'idromassaggio': 504, 'bella': 505, 'comoda': 506, 'scala': 507, 'muratura': 508, 'superior': 509, 'stanz': 510, 'qui': 511, 'acced': 512, 'soleggiato': 513, 'panoramico': 514, 'soffitti': 515, 'luminosa': 516, 'esposizioni': 517, 'curata': 518, 'particolari': 519, 'ubicata': 520, 'bellissima': 521, 'compresa': 522, 'giulia': 523, 'monserrato': 524, 'farnes': 525, 'altro': 526, 'acquistar': 527, 'local': 528, 'diretto': 529, 'uso': 530, '35mq': 531, 'capient': 532, '45mq': 533, 'opportunità': 534, 'investimento': 535, '028tdx': 536, 'donatella': 537, 'palma': 538, '06': 539, 'nella': 540, 'part': 541, 'alta': 542, 'farnesina': 543, 'signoril': 544, 'condominio': 545, 'piscina': 546, 'portineria': 547, 'recentement': 548, 'dispon': 549, 'ingressi': 550, 'funzional': 551, 'suddivision': 552, 'ampi': 553, 'servit': 554, 'guest': 555, 'toilett': 556, 'gli': 557, 'alti': 558, 'numeros': 559, 'affacciano': 560, 'danno': 561, 'respiro': 562, '30mq': 563, 'adatto': 564, 'cerca': 565, 'soluzion': 566, 'riservatezza': 567, 'tranquillità': 568, 'pur': 569, 'rimanendo': 570, 'collegata': 571, 'centro': 572, 'città': 573, '02aswi': 574, 'flaminia': 575, 'meloni': 576, 'piccolomini': 577, 'vie': 578, 'eleganti': 579, 'prestigios': 580, 'coperti': 581, 'terrazza': 582, 'livello': 583, 'oltr': 584, '100mq': 585, 'cupola': 586, 'san': 587, 'pietro': 588, 'padronali': 589, 'ospiti': 590, 'risultano': 591, 'particolarment': 592, 'luminosi': 593, 'grazi': 594, 'altezza': 595, 'quadrupla': 596, 'meravigliosa': 597, 'realizzato': 598, 'boiseri': 599, 'jacuzzi': 600, 'consentir': 601, 'agevoli': 602, 'personalizzazioni': 603, 'planimetrich': 604, 'versatilità': 605, 'Di': 606, 'pertinenza': 607, 'condominial': 608, 'ubicazion': 609, 'ricca': 610, 'essenziali': 611, 'parchi': 612, 'scuol': 613, 'università': 614, 'mezzi': 615, 'trasporto': 616, 'esercizi': 617, 'tipologia': 618, 'affascinant': 619, 'abitativa': 620, 'prestigiosa': 621, 'professionisti': 622, 'descrizion': 623, 'posizion': 624, 'cuor': 625, 'zone': 626, 'architettonich': 627, 'ridosso': 628, 'vaticano': 629, 'offr': 630, 'principali': 631, 'nell': 632, 'parioli': 633, 'splendita': 634, 'cornic': 635, 'muse': 636, 'Re': 637, 'prestigioso': 638, 'ufficio': 639, 'stabil': 640, 'bene': 641, 'adeguata': 642, 'utilizzo': 643, 'specifico': 644, 'costituito': 645, 'recept': 646, 'attesa': 647, '6': 648, 'riunioni': 649, 'interrato': 650, 'internament': 651, 'perfett': 652, 'parti': 653, 'edili': 654, 'impiantistich': 655, 'oggetto': 656, 'recent': 657, 'radical': 658, 'ristrutturazion': 659, 'qualità': 660, 'finitura': 661, 'esterni': 662, 'alluminio': 663, 'vetrocamera': 664, 'antisfondamento': 665, 'ottimo': 666, 'spessor': 667, 'garanzia': 668, 'adeguato': 669, 'totalment': 670, 'cablato': 671, 'canalizzato': 672, 'caldo': 673, 'freddo': 674, 'controsoffitti': 675, 'faretti': 676, 'filodifussion': 677, 'area': 678, 'pubblici': 679, 'superfici': 680, 'line': 681, 'atac': 682, 'consentono': 683, 'rapido': 684, 'collegamento': 685, 'termini': 686, 'raggiungibil': 687, 'facilment': 688, 'vicina': 689, 'ferroviaria': 690, 'nord': 691, 'euclid': 692, 'eleganza': 693, 'funzionalità': 694, 'professionali': 695, 'esclus': 696, 'Si': 697, 'investitori': 698, 'occupato': 699, 'reddito': 700, 'camino': 701, 'cinqu': 702, 'hobbi': 703, 'cucinotto': 704, '1000': 705, 'triplo': 706, 'permuta': 707, '795p': 708, '83964019': 709, 'for': 710, 'sale': 711, 'represent': 712, 'great': 713, 'finish': 714, 'larg': 715, 'entranc': 716, 'hall': 717, 'quadrupl': 718, 'with': 719, 'fireplac': 720, 'five': 721, 'bedroom': 722, 'kitchen': 723, 'dine': 724, 'room': 725, 'four': 726, 'servic': 727, 'kitchenett': 728, 'and': 729, 'laundri': 730, 'garden': 731, 'sqm': 732, 'approx': 733, 'tripl': 734, 'balduina': 735, 'adiacenz': 736, 'libero': 737, 'finement': 738, 'arredata': 739, 'dilazioni': 740, '1034m': 741, '5343497': 742, 'apart': 743, 'adjac': 744, 'free': 745, 'bright': 746, 'tast': 747, 'renov': 748, 'live': 749, 'furnish': 750, 'bathroom': 751, 'possibl': 752, 'second': 753, 'cellar': 754, 'dilut': 755, 'swap': 756, 'boccea': 757, 'collina': 758, 'tranquillo': 759, '35': 760, '992b': 761, '35341280': 762, 'complet': 763, 'quiet': 764, 'doubl': 765, 'two': 766, 'terrac': 767, 'of': 768, 'depreci': 769, 'trade': 770, '18028': 771, 'torr': 772, 'maura': 773, 'silicella': 774, 'immedi': 775, 'vicinanz': 776, 'casilina': 777, 'fermata': 778, 'C': 779, '60mq': 780, '10mq': 781, 'posti': 782, 'In': 783, 'anni': 784, '40': 785, '204': 786, 'studi': 787, 'case': 788, 'signorili': 789, 'ristrutturar': 790, 'rialzato': 791, '1': 792, 'interna': 793, 'collega': 794, 'vano': 795, 'tramit': 796, 'contabilizzatori': 797, 'cod': 798, '9836': 799, 'splendida': 800, 'navona': 801, 'aperti': 802, 'storica': 803, 'pasquino': 804, 'seicento': 805, 'sfogo': 806, 'esterno': 807, 'balconcini': 808, 'consent': 809, 'necessari': 810, 'lavori': 811, 'personalizzazion': 812, 'soddisfar': 813, 'molteplici': 814, 'esigenz': 815, 'rappresenta': 816, 'rara': 817, 'voless': 818, 'godersi': 819, 'vita': 820, 'parion': 821, 'oppur': 822, 'fare': 823, 'solido': 824, '0296pq': 825, 'vecchio': 826, 'richiest': 827, 'dandolo': 828, 'metratura': 829, 'finitur': 830, 'situata': 831, 'tenuto': 832, 'splendido': 833, 'ornato': 834, 'alberi': 835, 'fusto': 836, 'bellissimo': 837, 'funzionant': 838, 'decorati': 839, 'mano': 840, 'risaltando': 841, 'Un': 842, 'dona': 843, 'luce': 844, 'immett': 845, 'Il': 846, 'comunica': 847, 'ulterior': 848, 'spaziosa': 849, 'comfort': 850, 'verso': 851, 'apprezzabil': 852, 'caratterizzata': 853, 'grandissim': 854, 'entramb': 855, 'svilupp': 856, 'relativi': 857, 'offrono': 858, 'poter': 859, 'gestir': 860, 'grandi': 861, 'specifich': 862, 'può': 863, 'ospitar': 864, 'autovettura': 865, 'paio': 866, 'ciclomotori': 867, 'antistant': 868, 'collegato': 869, 'strategicament': 870, 'posizionato': 871, 'crocevia': 872, 'sciarra': 873, 'esclusività': 874, 'sfruttando': 875, 'vantaggi': 876, '026isa': 877, 'zaccanopoli': 878, 'traversa': 879, 'gasperina': 880, 'anagnina': 881, 'tuscolana': 882, 'prossimità': 883, 'ikea': 884, 'trilocal': 885, 'eccellenti': 886, 'trova': 887, 'soli': 888, 'caratterizzato': 889, 'conferiscono': 890, 'particolar': 891, 'confortevol': 892, 'affaccia': 893, 'abitazion': 894, 'trovato': 895, 'spazio': 896, 'lavatric': 897, 'lavandino': 898, 'motor': 899, 'corridoio': 900, 'introduc': 901, 'stata': 902, 'ristrutturata': 903, 'capienti': 904, 'soppalchi': 905, 'manutentivo': 906, 'tale': 907, 'richieder': 908, 'alcun': 909, 'intervento': 910, 'restauro': 911, 'perfetta': 912, 'giovan': 913, 'coppia': 914, '02ctil': 915, 'laura': 916, 'rosati': 917, 'bartolomeo': 918, 'dusi': 919, 'n': 920, '18': 921, 'maxdirocco': 922, 'viver': 923, 'significa': 924, 'regalar': 925, 'te': 926, 'famiglia': 927, 'straordinaria': 928, 'chiudi': 929, 'occhi': 930, 'immagina': 931, 'riposo': 932, 'senti': 933, 'pell': 934, 'primi': 935, 'raggi': 936, 'mattino': 937, 'illuminano': 938, 'pensa': 939, 'aperitivi': 940, 'amici': 941, 'tramonto': 942, 'dolc': 943, 'musica': 944, 'sottofondo': 945, 'aurelio': 946, 'front': 947, 'clinica': 948, 'pio': 949, 'XI': 950, 'vuoto': 951, 'ovest': 952, 'sud': 953, 'divisibil': 954, 'ampliamento': 955, 'total': 956, 'ragguagliata': 957, '166': 958, '04': 959, 'disponibili': 960, 'rilievi': 961, 'metrici': 962, 'ipotesi': 963, 'redatti': 964, 'architetto': 965, 'possibil': 966, 'ricavar': 967, 'alternativa': 968, 'persino': 969, 'terrazzi': 970, 'È': 971, 'disponibil': 972, 'relazion': 973, 'notaio': 974, 'certifica': 975, 'commerciabilità': 976, 'immobili': 977, 'finanziamenti': 978, 'tassi': 979, 'agevolati': 980, 'acquisto': 981, 'attestato': 982, 'prestazion': 983, 'G': 984, '253': 985, '7': 986, 'kwh': 987, 'm²anno': 988, 'fabbricato': 989, 'dichiarato': 990, 'certificato': 991, '331del': 992, '1983': 993, 'costruito': 994, 'struttura': 995, 'cemento': 996, 'armato': 997, 'solai': 998, 'laterocemento': 999, 'tamponatur': 1000, 'estern': 1001, 'forati': 1002, 'intonacati': 1003, 'rivestimento': 1004, 'villini': 1005, '36': 1006, 'appartamenti': 1007, 'adibito': 1008, 'fuori': 1009, 'vaillant': 1010, '2012': 1011, 'necessaria': 1012, 'utenz': 1013, 'state': 1014, 'disattiv': 1015, 'acqua': 1016, 'spese': 1017, 'condominiali': 1018, 'mensili': 1019, 'ammontano': 1020, '120': 1021, 'servito': 1022, 'fitta': 1023, 'rete': 1024, 'trasporti': 1025, '246': 1026, '246p': 1027, '247': 1028, 'km': 1029, 'cornelia': 1030, 'grado': 1031, 'molti': 1032, 'privati': 1033, 'posta': 1034, 'banch': 1035, 'supermercato': 1036, 'carrefour': 1037, 'Dr': 1038, 'massimo': 1039, 'rocco': 1040, 'agent': 1041, 'consulent': 1042, 'immobiliar': 1043, '339': 1044, '77': 1045, '23': 1046, '683': 1047, 'de': 1048, 'xvi': 1049, 'secolo': 1050, 'continuità': 1051, 'urbanistica': 1052, 'costruita': 1053, 'sull': 1054, 'antico': 1055, 'tracciato': 1056, 'pompeo': 1057, 'balconcino': 1058, 'cabina': 1059, 'armadio': 1060, 'presta': 1061, 'distint': 1062, 'ripristino': 1063, 'mentr': 1064, 'diversa': 1065, 'redistribuzion': 1066, 'creazion': 1067, 'darebb': 1068, 'escluder': 1069, 'ricettivo': 1070, '02c71a': 1071, 'acquedotti': 1072, 'lemonia': 1073, 'circonvallazion': 1074, '70': 1075, 'stile': 1076, 'arredamento': 1077, 'caratteristich': 1078, '80': 1079, 'protetto': 1080, 'sicurezza': 1081, 'ferro': 1082, 'sorvegliato': 1083, 'durant': 1084, 'mese': 1085, 'agosto': 1086, '02b16h': 1087, 'francesco': 1088, 'elia': 1089, 'vial': 1090, 'cesar': 1091, 'paves': 1092, 'salvator': 1093, 'quasimodo': 1094, '113': 1095, 'circolo': 1096, 'ferratella': 1097, 'serena': 1098, 'tranquilla': 1099, 'davanti': 1100, 'senza': 1101, 'stress': 1102, 'impegno': 1103, 'giardinier': 1104, 'sportivo': 1105, 'consiglia': 1106, 'collegarsi': 1107, 'video': 1108, 'foto': 1109, 'virtual': 1110, 'tour': 1111, 'progetto': 1112, 'estrarr': 1113, 'copia': 1114, 'sita': 1115, 'doppia': 1116, 'attualment': 1117, 'entrambi': 1118, '150': 1119, '25': 1120, 'piccoli': 1121, 'interventi': 1122, 'crear': 1123, 'autonomi': 1124, 'adiacenti': 1125, 'altra': 1126, 'singol': 1127, 'inesistenza': 1128, 'gravami': 1129, 'libera': 1130, 'epgl': 1131, 'nren': 1132, '59': 1133, '5660': 1134, 'edificato': 1135, 'virtù': 1136, 'licenza': 1137, 'edilizia': 1138, '240': 1139, 'rilasciata': 1140, '24': 1141, '1975': 1142, 'variant': 1143, '2432': 1144, '22': 1145, '1979': 1146, '271': 1147, '11': 1148, '1981': 1149, 'precompresso': 1150, '9': 1151, 'cantin': 1152, 'piloti': 1153, 'copertura': 1154, 'piana': 1155, 'esternament': 1156, 'per': 1157, 'ulteriori': 1158, 'caroncini': 1159, 'tardi': 1160, '50': 1161, 'intera': 1162, 'giornata': 1163, 'videosorveglianza': 1164, 'balconata': 1165, 'necessita': 1166, 'planimetria': 1167, 'esser': 1168, 'redistribuita': 1169, 'presenza': 1170, 'tramezzatur': 1171, 'intern': 1172, 'ipotizzar': 1173, 'casastudio': 1174, 'ottener': 1175, 'alcuni': 1176, 'utilizzabili': 1177, 'liberament': 1178, 'condomini': 1179, 'disponibilità': 1180, 'strada': 1181, 'privata': 1182, 'chiusa': 1183, 'baricentrica': 1184, 'punti': 1185, 'ungheria': 1186, '02bg0m': 1187, 'bernabò': 1188, 'silorata': 1189}\n"
     ]
    }
   ],
   "source": [
    "print(vocabulary)"
   ]
  },
  {
   "cell_type": "code",
   "execution_count": 27,
   "metadata": {},
   "outputs": [
    {
     "data": {
      "text/plain": [
       "1189"
      ]
     },
     "execution_count": 27,
     "metadata": {},
     "output_type": "execute_result"
    }
   ],
   "source": [
    "len(vocabulary)"
   ]
  },
  {
   "cell_type": "code",
   "execution_count": 24,
   "metadata": {},
   "outputs": [],
   "source": [
    "with open('data/vocabulary.tsv', 'w') as f: #vocabulary with all words is written in file 'vocabulary.tsv'\n",
    "    json.dump(vocabulary, f) \n",
    "f.close()"
   ]
  },
  {
   "cell_type": "code",
   "execution_count": 30,
   "metadata": {},
   "outputs": [],
   "source": [
    "#functions defined in order to calculate the tfIdf coefficient\n",
    "def N(df1):\n",
    "    #number of documents in the collection\n",
    "    return len(df1)\n",
    "\n",
    "def df_t(word, df1):\n",
    "    #number of documents in the collection that contain a term t\n",
    "    counter=0\n",
    "    for lista in df1:\n",
    "        if word in lista:\n",
    "            counter+=1\n",
    "    return counter\n",
    "\n",
    "def tf_t_d(word,lista):\n",
    "    #term frequency:number of ocurrence of term t in document d\n",
    "    return lista.count(word)\n",
    "\n",
    "def id_f_t(word, df1):\n",
    "    #inverse document frequency of a term t\n",
    "    return log(len(df1)/df_t(word, df1),10)\n",
    "\n",
    "def tf_idf(word,lista,df1):\n",
    "    #tf_idf of a term in a document of a collection N\n",
    "    return tf_t_d(word,lista)*id_f_t(word, df1)\n",
    "\n",
    "def inverted_index_creation_tfIdf(vocabulary, df1):  \n",
    "    #function that creates inverted_index with coefficient tfIdf from all the documents\n",
    "    inverted_index={}\n",
    "    n=1\n",
    "    \n",
    "    for lista in df1:          \n",
    "         #loop for each word of the document create a new key if the word is not in the dictionary \n",
    "         #add the number of the document to an existing key is the word is in the dictionary\n",
    "         #tfIdf coefficient of each term is also added\n",
    "        for word in set(lista):\n",
    "    \n",
    "            index=list(vocabulary.values())\n",
    "            if vocabulary[word] in list(inverted_index.keys()):\n",
    "                inverted_index[vocabulary[word]]=(inverted_index[vocabulary[word]])+[(\"announcement_\"+str(n),tf_idf(word,lista,df1))]\n",
    "            else:\n",
    "                inverted_index[int(vocabulary[word])]=[(\"announcement_\"+str(n),tf_idf(word,lista,df1))]\n",
    "        \n",
    "        n+=1\n",
    "\n",
    "    with open('data/inverted_index_tfIdf.tsv', 'w') as f1: #write the inverted index in a file called \"inverted_index_tfIdf.tsv\"\n",
    "        json.dump(inverted_index, f1)\n",
    "        f1.close()\n",
    "    return inverted_index \n",
    "\n"
   ]
  },
  {
   "cell_type": "markdown",
   "metadata": {},
   "source": [
    "We need to calculate the **TF-IDF** of all the words, that is defined as the \"term frequency\" times the \"inverse document frequency\" where:\n",
    "- \"term frequency\" is the ratio between the number of the term occurencies in the document and the total number of words in the document;\n",
    "- \"inverse document frequency\" is the logarithm of the ratio between the total number of documents and the number of documents containing the term (plus 1 to avoid division by zero).\n",
    "\n",
    "IDF is indipendent from the specific document, thus we can calculate it once and use it when we need it. Each term will have a single IDF."
   ]
  },
  {
   "cell_type": "code",
   "execution_count": 32,
   "metadata": {},
   "outputs": [
    {
     "ename": "NameError",
     "evalue": "name 'docd' is not defined",
     "output_type": "error",
     "traceback": [
      "\u001b[0;31m---------------------------------------------------------------------------\u001b[0m",
      "\u001b[0;31mNameError\u001b[0m                                 Traceback (most recent call last)",
      "\u001b[0;32m<ipython-input-32-5c641cb7d92c>\u001b[0m in \u001b[0;36m<module>\u001b[0;34m()\u001b[0m\n\u001b[1;32m      2\u001b[0m \u001b[0minverted_index\u001b[0m \u001b[0;34m=\u001b[0m \u001b[0;34m{\u001b[0m\u001b[0;34m}\u001b[0m\u001b[0;34m\u001b[0m\u001b[0m\n\u001b[1;32m      3\u001b[0m \u001b[0;34m\u001b[0m\u001b[0m\n\u001b[0;32m----> 4\u001b[0;31m \u001b[0;32mfor\u001b[0m \u001b[0mkey\u001b[0m\u001b[0;34m,\u001b[0m \u001b[0mvalue\u001b[0m \u001b[0;32min\u001b[0m \u001b[0mdocd\u001b[0m\u001b[0;34m.\u001b[0m\u001b[0mitems\u001b[0m\u001b[0;34m(\u001b[0m\u001b[0;34m)\u001b[0m\u001b[0;34m:\u001b[0m\u001b[0;34m\u001b[0m\u001b[0m\n\u001b[0m\u001b[1;32m      5\u001b[0m     \u001b[0;32mfor\u001b[0m \u001b[0mi\u001b[0m \u001b[0;32min\u001b[0m \u001b[0msorted\u001b[0m\u001b[0;34m(\u001b[0m\u001b[0mlist\u001b[0m\u001b[0;34m(\u001b[0m\u001b[0mset\u001b[0m\u001b[0;34m(\u001b[0m\u001b[0mvalue\u001b[0m\u001b[0;34m)\u001b[0m\u001b[0;34m)\u001b[0m\u001b[0;34m)\u001b[0m\u001b[0;34m:\u001b[0m\u001b[0;34m\u001b[0m\u001b[0m\n\u001b[1;32m      6\u001b[0m         \u001b[0;32mif\u001b[0m \u001b[0;34m(\u001b[0m\u001b[0mvocabulary\u001b[0m\u001b[0;34m[\u001b[0m\u001b[0mi\u001b[0m\u001b[0;34m]\u001b[0m \u001b[0;32min\u001b[0m \u001b[0minverted_index\u001b[0m\u001b[0;34m)\u001b[0m\u001b[0;34m:\u001b[0m\u001b[0;34m\u001b[0m\u001b[0m\n",
      "\u001b[0;31mNameError\u001b[0m: name 'docd' is not defined"
     ]
    }
   ],
   "source": [
    "# inverted index \n",
    "inverted_index = {}  \n",
    "\n",
    "for key, value in .items():\n",
    "    for i in sorted(list(set(value))):\n",
    "        if (vocabulary[i] in inverted_index):\n",
    "            inverted_index[vocabulary[i]] = inverted_index[vocabulary[i]] + [key]\n",
    "        else:\n",
    "            inverted_index[vocabulary[i]] = [key]"
   ]
  },
  {
   "cell_type": "code",
   "execution_count": null,
   "metadata": {},
   "outputs": [],
   "source": [
    "# dictionary with idf of all word\n",
    "idf = {}\n",
    "n_ann = len(df1)\n",
    "\n",
    "for term_id, doc in inverted_docd.items():\n",
    "    idf[term_id] = pd.np.log(n_ann/(1+len(doc)))"
   ]
  }
 ],
 "metadata": {
  "kernelspec": {
   "display_name": "Python 3",
   "language": "python",
   "name": "python3"
  },
  "language_info": {
   "codemirror_mode": {
    "name": "ipython",
    "version": 3
   },
   "file_extension": ".py",
   "mimetype": "text/x-python",
   "name": "python",
   "nbconvert_exporter": "python",
   "pygments_lexer": "ipython3",
   "version": "3.6.5"
  }
 },
 "nbformat": 4,
 "nbformat_minor": 2
}
