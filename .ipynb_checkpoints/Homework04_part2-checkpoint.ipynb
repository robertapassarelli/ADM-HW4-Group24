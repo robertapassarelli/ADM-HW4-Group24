{
 "cells": [
  {
   "cell_type": "markdown",
   "metadata": {},
   "source": [
    "## Part 2. Homework 04\n",
    "### 2) Find the duplicates!"
   ]
  },
  {
   "cell_type": "code",
   "execution_count": 1,
   "metadata": {},
   "outputs": [],
   "source": [
    "def FuncHash(data):\n",
    "    global repeat\n",
    "    temp = [ord(i) for i in ''.join(sorted(data.strip()))]\n",
    "    NumHash = sum([(temp.index(value))*value for value in temp])%25000000 # cerca un primo  \n",
    "    if NumHash in list(hashdict.keys()):\n",
    "        repeat += 1\n",
    "        hashdict[NumHash].append(data.strip())\n",
    "    else:\n",
    "        hashdict.setdefault(NumHash , [])\n",
    "        hashdict[NumHash].append(data.strip())\n",
    "    return(hashdict)"
   ]
  },
  {
   "cell_type": "code",
   "execution_count": 3,
   "metadata": {},
   "outputs": [],
   "source": [
    "hashdict={i:[] for i in range(25000000)}\n",
    "repeat=0\n",
    "with open(r\"passwords2.txt\") as f:\n",
    "    for line in f:\n",
    "        data=f.readline()\n",
    "        FuncHash(data)"
   ]
  },
  {
   "cell_type": "code",
   "execution_count": 5,
   "metadata": {},
   "outputs": [
    {
     "data": {
      "text/plain": [
       "54990925"
      ]
     },
     "execution_count": 5,
     "metadata": {},
     "output_type": "execute_result"
    }
   ],
   "source": [
    "repeat"
   ]
  },
  {
   "cell_type": "code",
   "execution_count": 2,
   "metadata": {},
   "outputs": [],
   "source": [
    "def FuncHash2(data2):\n",
    "    global repeat2\n",
    "    temp2 = [ord(i) for i in ''.join(data2.strip())]\n",
    "    NumHash2 = sum([(temp2.index(value))*value for value in temp2])  %25000000\n",
    "    if NumHash2 in list(hashdict2.keys()):\n",
    "        repeat2 += 1\n",
    "        hashdict2[NumHash2].append(data2.strip())\n",
    "    else:\n",
    "        hashdict2.setdefault(NumHash2 , [])\n",
    "        hashdict2[NumHash2].append(data2.strip())\n",
    "    return(hashdict2)"
   ]
  },
  {
   "cell_type": "code",
   "execution_count": 4,
   "metadata": {},
   "outputs": [],
   "source": [
    "hashdict2={}\n",
    "repeat2=0\n",
    "with open(r\"passwords2.txt\") as f:\n",
    "    for line in f:\n",
    "        data2=f.readline()\n",
    "        FuncHash2(data2)"
   ]
  },
  {
   "cell_type": "code",
   "execution_count": 6,
   "metadata": {},
   "outputs": [
    {
     "data": {
      "text/plain": [
       "54989933"
      ]
     },
     "execution_count": 6,
     "metadata": {},
     "output_type": "execute_result"
    }
   ],
   "source": [
    "repeat2"
   ]
  },
  {
   "cell_type": "code",
   "execution_count": null,
   "metadata": {},
   "outputs": [],
   "source": []
  }
 ],
 "metadata": {
  "kernelspec": {
   "display_name": "Python 3",
   "language": "python",
   "name": "python3"
  },
  "language_info": {
   "codemirror_mode": {
    "name": "ipython",
    "version": 3
   },
   "file_extension": ".py",
   "mimetype": "text/x-python",
   "name": "python",
   "nbconvert_exporter": "python",
   "pygments_lexer": "ipython3",
   "version": "3.6.5"
  }
 },
 "nbformat": 4,
 "nbformat_minor": 2
}
