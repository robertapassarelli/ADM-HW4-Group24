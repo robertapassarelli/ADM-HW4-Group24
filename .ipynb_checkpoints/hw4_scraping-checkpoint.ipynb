{
 "cells": [
  {
   "cell_type": "markdown",
   "metadata": {},
   "source": [
    "# Homework 4 - Group #24\n",
    "## 1) Does basic house information reflect house's description?\n",
    "\n",
    "Our goal is to implement two clustering and compare the results. We create two datasets and each of them will be filled by data that we scraped.\n",
    "\n",
    "First of all, we import the following libraries."
   ]
  },
  {
   "cell_type": "code",
   "execution_count": 1,
   "metadata": {},
   "outputs": [],
   "source": [
    "import time # For time sleep() Method\n",
    "import pandas as pd\n",
    "import requests #requests.get\n",
    "from urllib.request import urlopen\n",
    "from bs4 import BeautifulSoup"
   ]
  },
  {
   "cell_type": "markdown",
   "metadata": {},
   "source": [
    "### Scraping\n",
    "Web scraping using **Beautiful Soup** library."
   ]
  },
  {
   "cell_type": "code",
   "execution_count": 32,
   "metadata": {},
   "outputs": [
    {
     "name": "stdout",
     "output_type": "stream",
     "text": [
      "Start : Sun Dec  2 18:07:25 2018\n",
      "['225.000', '2', '50', '1', '1']\n",
      "['375.000', '3', '120', '1', '3']\n",
      "['68.000', '2', '20', '1', '0']\n",
      "['450.000', '5', '150', '2', '3']\n",
      "['315.000', '3', '92', '2', '5']\n",
      "['269.000', '4', '131', '2', 'A']\n",
      "['1.599.000', '5', '270', '3', 'R']\n",
      "['579.000', '5', '160', '2', '2']\n",
      "['385.000', '3', '100', '3', '2']\n",
      "['940.000', '5', '200', '3', 'A']\n",
      "End : Sun Dec  2 18:07:31 2018\n"
     ]
    }
   ],
   "source": [
    "print (\"Start : %s\" % time.ctime())\n",
    "numb_ann = 10\n",
    "df1 = pd.DataFrame(columns=['Price', 'Locali', 'Superficie', 'Bagni', 'Piano'] )\n",
    "count = 1\n",
    "i = 1\n",
    "while count < numb_ann:\n",
    "    url = \"https://www.immobiliare.it/vendita-case/roma/?criterio=rilevanza&pag=\"+str(i)\n",
    "    html = urlopen(url)\n",
    "    soup = BeautifulSoup(html, 'lxml')\n",
    "    mydivs = soup.find_all(\"div\", {\"class\": \"listing-item_body--content\"})\n",
    "    i +=1\n",
    "    for a in mydivs:\n",
    "        ann = \"announcement_\"+ str(count)\n",
    "        data = a.find_all(\"li\", {\"class\":\"lif__item\"})\n",
    "        #while len(data) == 6 and count <= numb_ann:\n",
    "        if len(data) == 6 and count <= numb_ann:\n",
    "            pr = price(data)\n",
    "            loc = locali(data)\n",
    "            mq = superficie(data)\n",
    "            bath = bagni(data) \n",
    "            floor = piano(data)\n",
    "            l = [pr, loc, mq, bath, floor]\n",
    "            print(l)\n",
    "            df = pd.DataFrame([l], columns=['Price', 'Locali', 'Superficie', 'Bagni', 'Piano'])\n",
    "            count +=1\n",
    "            df1 = pd.concat([df1, df], ignore_index=True) \n",
    "    # time.sleep(720)\n",
    "print (\"End : %s\" % time.ctime())"
   ]
  },
  {
   "cell_type": "code",
   "execution_count": 33,
   "metadata": {},
   "outputs": [
    {
     "data": {
      "text/html": [
       "<div>\n",
       "<style scoped>\n",
       "    .dataframe tbody tr th:only-of-type {\n",
       "        vertical-align: middle;\n",
       "    }\n",
       "\n",
       "    .dataframe tbody tr th {\n",
       "        vertical-align: top;\n",
       "    }\n",
       "\n",
       "    .dataframe thead th {\n",
       "        text-align: right;\n",
       "    }\n",
       "</style>\n",
       "<table border=\"1\" class=\"dataframe\">\n",
       "  <thead>\n",
       "    <tr style=\"text-align: right;\">\n",
       "      <th></th>\n",
       "      <th>Price</th>\n",
       "      <th>Locali</th>\n",
       "      <th>Superficie</th>\n",
       "      <th>Bagni</th>\n",
       "      <th>Piano</th>\n",
       "    </tr>\n",
       "  </thead>\n",
       "  <tbody>\n",
       "    <tr>\n",
       "      <th>0</th>\n",
       "      <td>225.000</td>\n",
       "      <td>2</td>\n",
       "      <td>50</td>\n",
       "      <td>1</td>\n",
       "      <td>1</td>\n",
       "    </tr>\n",
       "    <tr>\n",
       "      <th>1</th>\n",
       "      <td>375.000</td>\n",
       "      <td>3</td>\n",
       "      <td>120</td>\n",
       "      <td>1</td>\n",
       "      <td>3</td>\n",
       "    </tr>\n",
       "    <tr>\n",
       "      <th>2</th>\n",
       "      <td>68.000</td>\n",
       "      <td>2</td>\n",
       "      <td>20</td>\n",
       "      <td>1</td>\n",
       "      <td>0</td>\n",
       "    </tr>\n",
       "    <tr>\n",
       "      <th>3</th>\n",
       "      <td>450.000</td>\n",
       "      <td>5</td>\n",
       "      <td>150</td>\n",
       "      <td>2</td>\n",
       "      <td>3</td>\n",
       "    </tr>\n",
       "    <tr>\n",
       "      <th>4</th>\n",
       "      <td>315.000</td>\n",
       "      <td>3</td>\n",
       "      <td>92</td>\n",
       "      <td>2</td>\n",
       "      <td>5</td>\n",
       "    </tr>\n",
       "    <tr>\n",
       "      <th>5</th>\n",
       "      <td>269.000</td>\n",
       "      <td>4</td>\n",
       "      <td>131</td>\n",
       "      <td>2</td>\n",
       "      <td>A</td>\n",
       "    </tr>\n",
       "    <tr>\n",
       "      <th>6</th>\n",
       "      <td>1.599.000</td>\n",
       "      <td>5</td>\n",
       "      <td>270</td>\n",
       "      <td>3</td>\n",
       "      <td>R</td>\n",
       "    </tr>\n",
       "    <tr>\n",
       "      <th>7</th>\n",
       "      <td>579.000</td>\n",
       "      <td>5</td>\n",
       "      <td>160</td>\n",
       "      <td>2</td>\n",
       "      <td>2</td>\n",
       "    </tr>\n",
       "    <tr>\n",
       "      <th>8</th>\n",
       "      <td>385.000</td>\n",
       "      <td>3</td>\n",
       "      <td>100</td>\n",
       "      <td>3</td>\n",
       "      <td>2</td>\n",
       "    </tr>\n",
       "    <tr>\n",
       "      <th>9</th>\n",
       "      <td>940.000</td>\n",
       "      <td>5</td>\n",
       "      <td>200</td>\n",
       "      <td>3</td>\n",
       "      <td>A</td>\n",
       "    </tr>\n",
       "  </tbody>\n",
       "</table>\n",
       "</div>"
      ],
      "text/plain": [
       "       Price Locali Superficie Bagni Piano\n",
       "0    225.000      2         50     1     1\n",
       "1    375.000      3        120     1     3\n",
       "2     68.000      2         20     1     0\n",
       "3    450.000      5        150     2     3\n",
       "4    315.000      3         92     2     5\n",
       "5    269.000      4        131     2     A\n",
       "6  1.599.000      5        270     3     R\n",
       "7    579.000      5        160     2     2\n",
       "8    385.000      3        100     3     2\n",
       "9    940.000      5        200     3     A"
      ]
     },
     "execution_count": 33,
     "metadata": {},
     "output_type": "execute_result"
    }
   ],
   "source": [
    "df1"
   ]
  },
  {
   "cell_type": "code",
   "execution_count": 25,
   "metadata": {},
   "outputs": [],
   "source": [
    "def price(d):\n",
    "    try:\n",
    "        price = d[0].contents[0].replace(\"\\n\", \"\").replace(\"€ \",\"\").strip()\n",
    "    except:\n",
    "        price = d[0].contents[0].get_text().replace(\"\\n\", \"\").replace(\"€ \",\"\").strip()\n",
    "\n",
    "    return price"
   ]
  },
  {
   "cell_type": "code",
   "execution_count": 26,
   "metadata": {},
   "outputs": [],
   "source": [
    "def locali(d):\n",
    "    local = d[1].get_text().replace(\"\\xa0\",\"\").replace(\"+\", \"\").replace(\"locali\", \"\").strip()\n",
    "    return local"
   ]
  },
  {
   "cell_type": "code",
   "execution_count": 27,
   "metadata": {},
   "outputs": [],
   "source": [
    "def superficie(d):\n",
    "    superf = d[2].get_text().replace(\"da \",\"\").replace(\"\\xa0m2\",\"\").replace(\"superficie\",\"\").strip()\n",
    "    return superf"
   ]
  },
  {
   "cell_type": "code",
   "execution_count": 28,
   "metadata": {},
   "outputs": [],
   "source": [
    "def bagni(d):\n",
    "    bath = d[3].get_text().replace(\"\\xa0\",\"\").replace(\"+\", \"\").replace(\"bagni\", \"\").strip()\n",
    "    return bath"
   ]
  },
  {
   "cell_type": "code",
   "execution_count": 29,
   "metadata": {},
   "outputs": [],
   "source": [
    "def piano(d):\n",
    "    floor = d[4].get_text().replace(\"\\xa0\", \"\").replace(\"\\n\",\"\").replace(\"T\",\"0\").replace(\"piano\",\"\").strip()\n",
    "    return floor"
   ]
  },
  {
   "cell_type": "code",
   "execution_count": null,
   "metadata": {},
   "outputs": [],
   "source": []
  }
 ],
 "metadata": {
  "kernelspec": {
   "display_name": "Python 3",
   "language": "python",
   "name": "python3"
  },
  "language_info": {
   "codemirror_mode": {
    "name": "ipython",
    "version": 3
   },
   "file_extension": ".py",
   "mimetype": "text/x-python",
   "name": "python",
   "nbconvert_exporter": "python",
   "pygments_lexer": "ipython3",
   "version": "3.6.5"
  }
 },
 "nbformat": 4,
 "nbformat_minor": 2
}
