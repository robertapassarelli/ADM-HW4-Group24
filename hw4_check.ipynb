{
 "cells": [
  {
   "cell_type": "markdown",
   "metadata": {},
   "source": [
    "# Homework 4 - Group #24\n",
    "## 1) Does basic house information reflect house's description?\n",
    "\n",
    "Our goal is to implement two clustering and compare the results. We create two datasets and each of them will be filled by data that we scraped.\n",
    "\n",
    "First of all, we import the following libraries."
   ]
  },
  {
   "cell_type": "code",
   "execution_count": 2,
   "metadata": {},
   "outputs": [],
   "source": [
    "import time # For time sleep() Method\n",
    "import pandas as pd\n",
    "import numpy as np\n",
    "import requests #requests.get\n",
    "from urllib.request import urlopen\n",
    "from bs4 import BeautifulSoup\n",
    "\n",
    "from nltk.corpus import stopwords\n",
    "from nltk.tokenize import word_tokenize\n",
    "from nltk.tokenize import RegexpTokenizer\n",
    "from nltk.stem import PorterStemmer\n",
    "import io\n",
    "import json"
   ]
  },
  {
   "cell_type": "markdown",
   "metadata": {},
   "source": [
    "### Scraping & Datasets\n",
    "Web scraping using **Beautiful Soup** library."
   ]
  },
  {
   "cell_type": "markdown",
   "metadata": {},
   "source": [
    "#### 1) Information"
   ]
  },
  {
   "cell_type": "code",
   "execution_count": 3,
   "metadata": {},
   "outputs": [],
   "source": [
    "def price(d):\n",
    "    try:\n",
    "        price = d[0].contents[0].replace(\"\\n\", \"\").replace(\"€ \",\"\").strip()\n",
    "    except:\n",
    "        price = d[0].contents[0].get_text().replace(\"\\n\", \"\").replace(\"€ \",\"\").strip()\n",
    "\n",
    "    return price"
   ]
  },
  {
   "cell_type": "code",
   "execution_count": 4,
   "metadata": {},
   "outputs": [],
   "source": [
    "def locali(d):\n",
    "    local = d[1].get_text().replace(\"\\xa0\",\"\").replace(\"+\", \"\").replace(\"locali\", \"\").strip()\n",
    "    return local"
   ]
  },
  {
   "cell_type": "code",
   "execution_count": 5,
   "metadata": {},
   "outputs": [],
   "source": [
    "def superficie(d):\n",
    "    superf = d[2].get_text().replace(\"da \",\"\").replace(\"\\xa0m2\",\"\").replace(\"superficie\",\"\").strip()\n",
    "    return superf"
   ]
  },
  {
   "cell_type": "code",
   "execution_count": 6,
   "metadata": {},
   "outputs": [],
   "source": [
    "def bagni(d):\n",
    "    bath = d[3].get_text().replace(\"\\xa0\",\"\").replace(\"+\", \"\").replace(\"bagni\", \"\").strip()\n",
    "    return bath"
   ]
  },
  {
   "cell_type": "code",
   "execution_count": 7,
   "metadata": {},
   "outputs": [],
   "source": [
    "def piano(d):\n",
    "    floor = d[4].get_text().replace(\"\\xa0\", \"\").replace(\"\\n\",\"\").replace(\"T\",\"0\").replace(\"piano\",\"\").strip()\n",
    "    return floor"
   ]
  },
  {
   "cell_type": "code",
   "execution_count": 15,
   "metadata": {
    "scrolled": true
   },
   "outputs": [],
   "source": [
    "def descrizione(need_links):\n",
    "    stop_words = set(stopwords.words('italian')) # we take the stopwords we have to delete\n",
    "    tokenizer = RegexpTokenizer(r'\\w+')\n",
    "    ps = PorterStemmer()\n",
    "    #description_words = []\n",
    "\n",
    "    for link in need_links[:-1]:\n",
    "        if link[0:5] == 'https':\n",
    "            site = urlopen(link)\n",
    "            page = BeautifulSoup(site, 'lxml')\n",
    "\n",
    "            description = page.find_all('div', class_=\"col-xs-12 description-text text-compressed\")\n",
    "            description = ''.join(str(description))\n",
    "\n",
    "            words = word_tokenize(description)\n",
    "            words_without_stop_words = [\"\" if word in stop_words else word for word in words] #we delete the stopwords\n",
    "            new_words = \" \".join(words_without_stop_words)\n",
    "            b = tokenizer.tokenize(new_words)\n",
    "\n",
    "            l_stem_words = []\n",
    "            # with a for loop we stem all the words in the input, and store them in a list\n",
    "            for word in b:\n",
    "                l_stem_words.append(ps.stem(word))\n",
    "            # here we transform the list in a string\n",
    "            stem_words = ' '.join(l_stem_words).split()\n",
    "            # description_words.append(stem_words)\n",
    "    #return description_words\n",
    "    return stem_words"
   ]
  },
  {
   "cell_type": "code",
   "execution_count": 33,
   "metadata": {},
   "outputs": [
    {
     "name": "stdout",
     "output_type": "stream",
     "text": [
      "Start : Tue Dec  4 14:41:15 2018\n"
     ]
    },
    {
     "name": "stderr",
     "output_type": "stream",
     "text": [
      "IOPub data rate exceeded.\n",
      "The notebook server will temporarily stop sending output\n",
      "to the client in order to avoid crashing it.\n",
      "To change this limit, set the config variable\n",
      "`--NotebookApp.iopub_data_rate_limit`.\n",
      "\n",
      "Current values:\n",
      "NotebookApp.iopub_data_rate_limit=1000000.0 (bytes/sec)\n",
      "NotebookApp.rate_limit_window=3.0 (secs)\n",
      "\n"
     ]
    },
    {
     "name": "stdout",
     "output_type": "stream",
     "text": [
      "1\n",
      "1\n",
      "1\n",
      "0\n"
     ]
    },
    {
     "name": "stderr",
     "output_type": "stream",
     "text": [
      "IOPub data rate exceeded.\n",
      "The notebook server will temporarily stop sending output\n",
      "to the client in order to avoid crashing it.\n",
      "To change this limit, set the config variable\n",
      "`--NotebookApp.iopub_data_rate_limit`.\n",
      "\n",
      "Current values:\n",
      "NotebookApp.iopub_data_rate_limit=1000000.0 (bytes/sec)\n",
      "NotebookApp.rate_limit_window=3.0 (secs)\n",
      "\n"
     ]
    },
    {
     "name": "stdout",
     "output_type": "stream",
     "text": [
      "1\n",
      "0\n"
     ]
    },
    {
     "name": "stderr",
     "output_type": "stream",
     "text": [
      "IOPub data rate exceeded.\n",
      "The notebook server will temporarily stop sending output\n",
      "to the client in order to avoid crashing it.\n",
      "To change this limit, set the config variable\n",
      "`--NotebookApp.iopub_data_rate_limit`.\n",
      "\n",
      "Current values:\n",
      "NotebookApp.iopub_data_rate_limit=1000000.0 (bytes/sec)\n",
      "NotebookApp.rate_limit_window=3.0 (secs)\n",
      "\n"
     ]
    },
    {
     "name": "stdout",
     "output_type": "stream",
     "text": [
      "1\n",
      "0\n"
     ]
    },
    {
     "ename": "KeyboardInterrupt",
     "evalue": "",
     "output_type": "error",
     "traceback": [
      "\u001b[0;31m---------------------------------------------------------------------------\u001b[0m",
      "\u001b[0;31mKeyboardInterrupt\u001b[0m                         Traceback (most recent call last)",
      "\u001b[0;32m<ipython-input-33-eed72edc92c6>\u001b[0m in \u001b[0;36m<module>\u001b[0;34m()\u001b[0m\n\u001b[1;32m     22\u001b[0m     \u001b[0;32mfor\u001b[0m \u001b[0mitem\u001b[0m \u001b[0;32min\u001b[0m \u001b[0mlinks\u001b[0m\u001b[0;34m:\u001b[0m\u001b[0;34m\u001b[0m\u001b[0m\n\u001b[1;32m     23\u001b[0m         \u001b[0;32mif\u001b[0m \u001b[0mitem\u001b[0m\u001b[0;34m[\u001b[0m\u001b[0;34m-\u001b[0m\u001b[0;36m4\u001b[0m\u001b[0;34m:\u001b[0m\u001b[0;34m]\u001b[0m \u001b[0;34m==\u001b[0m \u001b[0;34m'html'\u001b[0m \u001b[0;32mand\u001b[0m \u001b[0mitem\u001b[0m\u001b[0;34m[\u001b[0m\u001b[0;36m0\u001b[0m\u001b[0;34m:\u001b[0m\u001b[0;36m5\u001b[0m\u001b[0;34m]\u001b[0m \u001b[0;34m==\u001b[0m \u001b[0;34m'https'\u001b[0m\u001b[0;34m:\u001b[0m\u001b[0;34m\u001b[0m\u001b[0m\n\u001b[0;32m---> 24\u001b[0;31m             \u001b[0msite\u001b[0m \u001b[0;34m=\u001b[0m \u001b[0murlopen\u001b[0m\u001b[0;34m(\u001b[0m\u001b[0mitem\u001b[0m\u001b[0;34m)\u001b[0m\u001b[0;34m\u001b[0m\u001b[0m\n\u001b[0m\u001b[1;32m     25\u001b[0m             \u001b[0mpage\u001b[0m \u001b[0;34m=\u001b[0m \u001b[0mBeautifulSoup\u001b[0m\u001b[0;34m(\u001b[0m\u001b[0msite\u001b[0m\u001b[0;34m,\u001b[0m \u001b[0;34m'lxml'\u001b[0m\u001b[0;34m)\u001b[0m\u001b[0;34m\u001b[0m\u001b[0m\n\u001b[1;32m     26\u001b[0m             \u001b[0mneed_links\u001b[0m\u001b[0;34m.\u001b[0m\u001b[0mappend\u001b[0m\u001b[0;34m(\u001b[0m\u001b[0mpage\u001b[0m\u001b[0;34m)\u001b[0m\u001b[0;34m\u001b[0m\u001b[0m\n",
      "\u001b[0;32m/anaconda3/lib/python3.6/urllib/request.py\u001b[0m in \u001b[0;36murlopen\u001b[0;34m(url, data, timeout, cafile, capath, cadefault, context)\u001b[0m\n\u001b[1;32m    221\u001b[0m     \u001b[0;32melse\u001b[0m\u001b[0;34m:\u001b[0m\u001b[0;34m\u001b[0m\u001b[0m\n\u001b[1;32m    222\u001b[0m         \u001b[0mopener\u001b[0m \u001b[0;34m=\u001b[0m \u001b[0m_opener\u001b[0m\u001b[0;34m\u001b[0m\u001b[0m\n\u001b[0;32m--> 223\u001b[0;31m     \u001b[0;32mreturn\u001b[0m \u001b[0mopener\u001b[0m\u001b[0;34m.\u001b[0m\u001b[0mopen\u001b[0m\u001b[0;34m(\u001b[0m\u001b[0murl\u001b[0m\u001b[0;34m,\u001b[0m \u001b[0mdata\u001b[0m\u001b[0;34m,\u001b[0m \u001b[0mtimeout\u001b[0m\u001b[0;34m)\u001b[0m\u001b[0;34m\u001b[0m\u001b[0m\n\u001b[0m\u001b[1;32m    224\u001b[0m \u001b[0;34m\u001b[0m\u001b[0m\n\u001b[1;32m    225\u001b[0m \u001b[0;32mdef\u001b[0m \u001b[0minstall_opener\u001b[0m\u001b[0;34m(\u001b[0m\u001b[0mopener\u001b[0m\u001b[0;34m)\u001b[0m\u001b[0;34m:\u001b[0m\u001b[0;34m\u001b[0m\u001b[0m\n",
      "\u001b[0;32m/anaconda3/lib/python3.6/urllib/request.py\u001b[0m in \u001b[0;36mopen\u001b[0;34m(self, fullurl, data, timeout)\u001b[0m\n\u001b[1;32m    524\u001b[0m             \u001b[0mreq\u001b[0m \u001b[0;34m=\u001b[0m \u001b[0mmeth\u001b[0m\u001b[0;34m(\u001b[0m\u001b[0mreq\u001b[0m\u001b[0;34m)\u001b[0m\u001b[0;34m\u001b[0m\u001b[0m\n\u001b[1;32m    525\u001b[0m \u001b[0;34m\u001b[0m\u001b[0m\n\u001b[0;32m--> 526\u001b[0;31m         \u001b[0mresponse\u001b[0m \u001b[0;34m=\u001b[0m \u001b[0mself\u001b[0m\u001b[0;34m.\u001b[0m\u001b[0m_open\u001b[0m\u001b[0;34m(\u001b[0m\u001b[0mreq\u001b[0m\u001b[0;34m,\u001b[0m \u001b[0mdata\u001b[0m\u001b[0;34m)\u001b[0m\u001b[0;34m\u001b[0m\u001b[0m\n\u001b[0m\u001b[1;32m    527\u001b[0m \u001b[0;34m\u001b[0m\u001b[0m\n\u001b[1;32m    528\u001b[0m         \u001b[0;31m# post-process response\u001b[0m\u001b[0;34m\u001b[0m\u001b[0;34m\u001b[0m\u001b[0m\n",
      "\u001b[0;32m/anaconda3/lib/python3.6/urllib/request.py\u001b[0m in \u001b[0;36m_open\u001b[0;34m(self, req, data)\u001b[0m\n\u001b[1;32m    542\u001b[0m         \u001b[0mprotocol\u001b[0m \u001b[0;34m=\u001b[0m \u001b[0mreq\u001b[0m\u001b[0;34m.\u001b[0m\u001b[0mtype\u001b[0m\u001b[0;34m\u001b[0m\u001b[0m\n\u001b[1;32m    543\u001b[0m         result = self._call_chain(self.handle_open, protocol, protocol +\n\u001b[0;32m--> 544\u001b[0;31m                                   '_open', req)\n\u001b[0m\u001b[1;32m    545\u001b[0m         \u001b[0;32mif\u001b[0m \u001b[0mresult\u001b[0m\u001b[0;34m:\u001b[0m\u001b[0;34m\u001b[0m\u001b[0m\n\u001b[1;32m    546\u001b[0m             \u001b[0;32mreturn\u001b[0m \u001b[0mresult\u001b[0m\u001b[0;34m\u001b[0m\u001b[0m\n",
      "\u001b[0;32m/anaconda3/lib/python3.6/urllib/request.py\u001b[0m in \u001b[0;36m_call_chain\u001b[0;34m(self, chain, kind, meth_name, *args)\u001b[0m\n\u001b[1;32m    502\u001b[0m         \u001b[0;32mfor\u001b[0m \u001b[0mhandler\u001b[0m \u001b[0;32min\u001b[0m \u001b[0mhandlers\u001b[0m\u001b[0;34m:\u001b[0m\u001b[0;34m\u001b[0m\u001b[0m\n\u001b[1;32m    503\u001b[0m             \u001b[0mfunc\u001b[0m \u001b[0;34m=\u001b[0m \u001b[0mgetattr\u001b[0m\u001b[0;34m(\u001b[0m\u001b[0mhandler\u001b[0m\u001b[0;34m,\u001b[0m \u001b[0mmeth_name\u001b[0m\u001b[0;34m)\u001b[0m\u001b[0;34m\u001b[0m\u001b[0m\n\u001b[0;32m--> 504\u001b[0;31m             \u001b[0mresult\u001b[0m \u001b[0;34m=\u001b[0m \u001b[0mfunc\u001b[0m\u001b[0;34m(\u001b[0m\u001b[0;34m*\u001b[0m\u001b[0margs\u001b[0m\u001b[0;34m)\u001b[0m\u001b[0;34m\u001b[0m\u001b[0m\n\u001b[0m\u001b[1;32m    505\u001b[0m             \u001b[0;32mif\u001b[0m \u001b[0mresult\u001b[0m \u001b[0;32mis\u001b[0m \u001b[0;32mnot\u001b[0m \u001b[0;32mNone\u001b[0m\u001b[0;34m:\u001b[0m\u001b[0;34m\u001b[0m\u001b[0m\n\u001b[1;32m    506\u001b[0m                 \u001b[0;32mreturn\u001b[0m \u001b[0mresult\u001b[0m\u001b[0;34m\u001b[0m\u001b[0m\n",
      "\u001b[0;32m/anaconda3/lib/python3.6/urllib/request.py\u001b[0m in \u001b[0;36mhttps_open\u001b[0;34m(self, req)\u001b[0m\n\u001b[1;32m   1359\u001b[0m         \u001b[0;32mdef\u001b[0m \u001b[0mhttps_open\u001b[0m\u001b[0;34m(\u001b[0m\u001b[0mself\u001b[0m\u001b[0;34m,\u001b[0m \u001b[0mreq\u001b[0m\u001b[0;34m)\u001b[0m\u001b[0;34m:\u001b[0m\u001b[0;34m\u001b[0m\u001b[0m\n\u001b[1;32m   1360\u001b[0m             return self.do_open(http.client.HTTPSConnection, req,\n\u001b[0;32m-> 1361\u001b[0;31m                 context=self._context, check_hostname=self._check_hostname)\n\u001b[0m\u001b[1;32m   1362\u001b[0m \u001b[0;34m\u001b[0m\u001b[0m\n\u001b[1;32m   1363\u001b[0m         \u001b[0mhttps_request\u001b[0m \u001b[0;34m=\u001b[0m \u001b[0mAbstractHTTPHandler\u001b[0m\u001b[0;34m.\u001b[0m\u001b[0mdo_request_\u001b[0m\u001b[0;34m\u001b[0m\u001b[0m\n",
      "\u001b[0;32m/anaconda3/lib/python3.6/urllib/request.py\u001b[0m in \u001b[0;36mdo_open\u001b[0;34m(self, http_class, req, **http_conn_args)\u001b[0m\n\u001b[1;32m   1319\u001b[0m             \u001b[0;32mexcept\u001b[0m \u001b[0mOSError\u001b[0m \u001b[0;32mas\u001b[0m \u001b[0merr\u001b[0m\u001b[0;34m:\u001b[0m \u001b[0;31m# timeout error\u001b[0m\u001b[0;34m\u001b[0m\u001b[0m\n\u001b[1;32m   1320\u001b[0m                 \u001b[0;32mraise\u001b[0m \u001b[0mURLError\u001b[0m\u001b[0;34m(\u001b[0m\u001b[0merr\u001b[0m\u001b[0;34m)\u001b[0m\u001b[0;34m\u001b[0m\u001b[0m\n\u001b[0;32m-> 1321\u001b[0;31m             \u001b[0mr\u001b[0m \u001b[0;34m=\u001b[0m \u001b[0mh\u001b[0m\u001b[0;34m.\u001b[0m\u001b[0mgetresponse\u001b[0m\u001b[0;34m(\u001b[0m\u001b[0;34m)\u001b[0m\u001b[0;34m\u001b[0m\u001b[0m\n\u001b[0m\u001b[1;32m   1322\u001b[0m         \u001b[0;32mexcept\u001b[0m\u001b[0;34m:\u001b[0m\u001b[0;34m\u001b[0m\u001b[0m\n\u001b[1;32m   1323\u001b[0m             \u001b[0mh\u001b[0m\u001b[0;34m.\u001b[0m\u001b[0mclose\u001b[0m\u001b[0;34m(\u001b[0m\u001b[0;34m)\u001b[0m\u001b[0;34m\u001b[0m\u001b[0m\n",
      "\u001b[0;32m/anaconda3/lib/python3.6/http/client.py\u001b[0m in \u001b[0;36mgetresponse\u001b[0;34m(self)\u001b[0m\n\u001b[1;32m   1329\u001b[0m         \u001b[0;32mtry\u001b[0m\u001b[0;34m:\u001b[0m\u001b[0;34m\u001b[0m\u001b[0m\n\u001b[1;32m   1330\u001b[0m             \u001b[0;32mtry\u001b[0m\u001b[0;34m:\u001b[0m\u001b[0;34m\u001b[0m\u001b[0m\n\u001b[0;32m-> 1331\u001b[0;31m                 \u001b[0mresponse\u001b[0m\u001b[0;34m.\u001b[0m\u001b[0mbegin\u001b[0m\u001b[0;34m(\u001b[0m\u001b[0;34m)\u001b[0m\u001b[0;34m\u001b[0m\u001b[0m\n\u001b[0m\u001b[1;32m   1332\u001b[0m             \u001b[0;32mexcept\u001b[0m \u001b[0mConnectionError\u001b[0m\u001b[0;34m:\u001b[0m\u001b[0;34m\u001b[0m\u001b[0m\n\u001b[1;32m   1333\u001b[0m                 \u001b[0mself\u001b[0m\u001b[0;34m.\u001b[0m\u001b[0mclose\u001b[0m\u001b[0;34m(\u001b[0m\u001b[0;34m)\u001b[0m\u001b[0;34m\u001b[0m\u001b[0m\n",
      "\u001b[0;32m/anaconda3/lib/python3.6/http/client.py\u001b[0m in \u001b[0;36mbegin\u001b[0;34m(self)\u001b[0m\n\u001b[1;32m    295\u001b[0m         \u001b[0;31m# read until we get a non-100 response\u001b[0m\u001b[0;34m\u001b[0m\u001b[0;34m\u001b[0m\u001b[0m\n\u001b[1;32m    296\u001b[0m         \u001b[0;32mwhile\u001b[0m \u001b[0;32mTrue\u001b[0m\u001b[0;34m:\u001b[0m\u001b[0;34m\u001b[0m\u001b[0m\n\u001b[0;32m--> 297\u001b[0;31m             \u001b[0mversion\u001b[0m\u001b[0;34m,\u001b[0m \u001b[0mstatus\u001b[0m\u001b[0;34m,\u001b[0m \u001b[0mreason\u001b[0m \u001b[0;34m=\u001b[0m \u001b[0mself\u001b[0m\u001b[0;34m.\u001b[0m\u001b[0m_read_status\u001b[0m\u001b[0;34m(\u001b[0m\u001b[0;34m)\u001b[0m\u001b[0;34m\u001b[0m\u001b[0m\n\u001b[0m\u001b[1;32m    298\u001b[0m             \u001b[0;32mif\u001b[0m \u001b[0mstatus\u001b[0m \u001b[0;34m!=\u001b[0m \u001b[0mCONTINUE\u001b[0m\u001b[0;34m:\u001b[0m\u001b[0;34m\u001b[0m\u001b[0m\n\u001b[1;32m    299\u001b[0m                 \u001b[0;32mbreak\u001b[0m\u001b[0;34m\u001b[0m\u001b[0m\n",
      "\u001b[0;32m/anaconda3/lib/python3.6/http/client.py\u001b[0m in \u001b[0;36m_read_status\u001b[0;34m(self)\u001b[0m\n\u001b[1;32m    256\u001b[0m \u001b[0;34m\u001b[0m\u001b[0m\n\u001b[1;32m    257\u001b[0m     \u001b[0;32mdef\u001b[0m \u001b[0m_read_status\u001b[0m\u001b[0;34m(\u001b[0m\u001b[0mself\u001b[0m\u001b[0;34m)\u001b[0m\u001b[0;34m:\u001b[0m\u001b[0;34m\u001b[0m\u001b[0m\n\u001b[0;32m--> 258\u001b[0;31m         \u001b[0mline\u001b[0m \u001b[0;34m=\u001b[0m \u001b[0mstr\u001b[0m\u001b[0;34m(\u001b[0m\u001b[0mself\u001b[0m\u001b[0;34m.\u001b[0m\u001b[0mfp\u001b[0m\u001b[0;34m.\u001b[0m\u001b[0mreadline\u001b[0m\u001b[0;34m(\u001b[0m\u001b[0m_MAXLINE\u001b[0m \u001b[0;34m+\u001b[0m \u001b[0;36m1\u001b[0m\u001b[0;34m)\u001b[0m\u001b[0;34m,\u001b[0m \u001b[0;34m\"iso-8859-1\"\u001b[0m\u001b[0;34m)\u001b[0m\u001b[0;34m\u001b[0m\u001b[0m\n\u001b[0m\u001b[1;32m    259\u001b[0m         \u001b[0;32mif\u001b[0m \u001b[0mlen\u001b[0m\u001b[0;34m(\u001b[0m\u001b[0mline\u001b[0m\u001b[0;34m)\u001b[0m \u001b[0;34m>\u001b[0m \u001b[0m_MAXLINE\u001b[0m\u001b[0;34m:\u001b[0m\u001b[0;34m\u001b[0m\u001b[0m\n\u001b[1;32m    260\u001b[0m             \u001b[0;32mraise\u001b[0m \u001b[0mLineTooLong\u001b[0m\u001b[0;34m(\u001b[0m\u001b[0;34m\"status line\"\u001b[0m\u001b[0;34m)\u001b[0m\u001b[0;34m\u001b[0m\u001b[0m\n",
      "\u001b[0;32m/anaconda3/lib/python3.6/socket.py\u001b[0m in \u001b[0;36mreadinto\u001b[0;34m(self, b)\u001b[0m\n\u001b[1;32m    584\u001b[0m         \u001b[0;32mwhile\u001b[0m \u001b[0;32mTrue\u001b[0m\u001b[0;34m:\u001b[0m\u001b[0;34m\u001b[0m\u001b[0m\n\u001b[1;32m    585\u001b[0m             \u001b[0;32mtry\u001b[0m\u001b[0;34m:\u001b[0m\u001b[0;34m\u001b[0m\u001b[0m\n\u001b[0;32m--> 586\u001b[0;31m                 \u001b[0;32mreturn\u001b[0m \u001b[0mself\u001b[0m\u001b[0;34m.\u001b[0m\u001b[0m_sock\u001b[0m\u001b[0;34m.\u001b[0m\u001b[0mrecv_into\u001b[0m\u001b[0;34m(\u001b[0m\u001b[0mb\u001b[0m\u001b[0;34m)\u001b[0m\u001b[0;34m\u001b[0m\u001b[0m\n\u001b[0m\u001b[1;32m    587\u001b[0m             \u001b[0;32mexcept\u001b[0m \u001b[0mtimeout\u001b[0m\u001b[0;34m:\u001b[0m\u001b[0;34m\u001b[0m\u001b[0m\n\u001b[1;32m    588\u001b[0m                 \u001b[0mself\u001b[0m\u001b[0;34m.\u001b[0m\u001b[0m_timeout_occurred\u001b[0m \u001b[0;34m=\u001b[0m \u001b[0;32mTrue\u001b[0m\u001b[0;34m\u001b[0m\u001b[0m\n",
      "\u001b[0;32m/anaconda3/lib/python3.6/ssl.py\u001b[0m in \u001b[0;36mrecv_into\u001b[0;34m(self, buffer, nbytes, flags)\u001b[0m\n\u001b[1;32m   1007\u001b[0m                   \u001b[0;34m\"non-zero flags not allowed in calls to recv_into() on %s\"\u001b[0m \u001b[0;34m%\u001b[0m\u001b[0;34m\u001b[0m\u001b[0m\n\u001b[1;32m   1008\u001b[0m                   self.__class__)\n\u001b[0;32m-> 1009\u001b[0;31m             \u001b[0;32mreturn\u001b[0m \u001b[0mself\u001b[0m\u001b[0;34m.\u001b[0m\u001b[0mread\u001b[0m\u001b[0;34m(\u001b[0m\u001b[0mnbytes\u001b[0m\u001b[0;34m,\u001b[0m \u001b[0mbuffer\u001b[0m\u001b[0;34m)\u001b[0m\u001b[0;34m\u001b[0m\u001b[0m\n\u001b[0m\u001b[1;32m   1010\u001b[0m         \u001b[0;32melse\u001b[0m\u001b[0;34m:\u001b[0m\u001b[0;34m\u001b[0m\u001b[0m\n\u001b[1;32m   1011\u001b[0m             \u001b[0;32mreturn\u001b[0m \u001b[0msocket\u001b[0m\u001b[0;34m.\u001b[0m\u001b[0mrecv_into\u001b[0m\u001b[0;34m(\u001b[0m\u001b[0mself\u001b[0m\u001b[0;34m,\u001b[0m \u001b[0mbuffer\u001b[0m\u001b[0;34m,\u001b[0m \u001b[0mnbytes\u001b[0m\u001b[0;34m,\u001b[0m \u001b[0mflags\u001b[0m\u001b[0;34m)\u001b[0m\u001b[0;34m\u001b[0m\u001b[0m\n",
      "\u001b[0;32m/anaconda3/lib/python3.6/ssl.py\u001b[0m in \u001b[0;36mread\u001b[0;34m(self, len, buffer)\u001b[0m\n\u001b[1;32m    869\u001b[0m             \u001b[0;32mraise\u001b[0m \u001b[0mValueError\u001b[0m\u001b[0;34m(\u001b[0m\u001b[0;34m\"Read on closed or unwrapped SSL socket.\"\u001b[0m\u001b[0;34m)\u001b[0m\u001b[0;34m\u001b[0m\u001b[0m\n\u001b[1;32m    870\u001b[0m         \u001b[0;32mtry\u001b[0m\u001b[0;34m:\u001b[0m\u001b[0;34m\u001b[0m\u001b[0m\n\u001b[0;32m--> 871\u001b[0;31m             \u001b[0;32mreturn\u001b[0m \u001b[0mself\u001b[0m\u001b[0;34m.\u001b[0m\u001b[0m_sslobj\u001b[0m\u001b[0;34m.\u001b[0m\u001b[0mread\u001b[0m\u001b[0;34m(\u001b[0m\u001b[0mlen\u001b[0m\u001b[0;34m,\u001b[0m \u001b[0mbuffer\u001b[0m\u001b[0;34m)\u001b[0m\u001b[0;34m\u001b[0m\u001b[0m\n\u001b[0m\u001b[1;32m    872\u001b[0m         \u001b[0;32mexcept\u001b[0m \u001b[0mSSLError\u001b[0m \u001b[0;32mas\u001b[0m \u001b[0mx\u001b[0m\u001b[0;34m:\u001b[0m\u001b[0;34m\u001b[0m\u001b[0m\n\u001b[1;32m    873\u001b[0m             \u001b[0;32mif\u001b[0m \u001b[0mx\u001b[0m\u001b[0;34m.\u001b[0m\u001b[0margs\u001b[0m\u001b[0;34m[\u001b[0m\u001b[0;36m0\u001b[0m\u001b[0;34m]\u001b[0m \u001b[0;34m==\u001b[0m \u001b[0mSSL_ERROR_EOF\u001b[0m \u001b[0;32mand\u001b[0m \u001b[0mself\u001b[0m\u001b[0;34m.\u001b[0m\u001b[0msuppress_ragged_eofs\u001b[0m\u001b[0;34m:\u001b[0m\u001b[0;34m\u001b[0m\u001b[0m\n",
      "\u001b[0;32m/anaconda3/lib/python3.6/ssl.py\u001b[0m in \u001b[0;36mread\u001b[0;34m(self, len, buffer)\u001b[0m\n\u001b[1;32m    629\u001b[0m         \"\"\"\n\u001b[1;32m    630\u001b[0m         \u001b[0;32mif\u001b[0m \u001b[0mbuffer\u001b[0m \u001b[0;32mis\u001b[0m \u001b[0;32mnot\u001b[0m \u001b[0;32mNone\u001b[0m\u001b[0;34m:\u001b[0m\u001b[0;34m\u001b[0m\u001b[0m\n\u001b[0;32m--> 631\u001b[0;31m             \u001b[0mv\u001b[0m \u001b[0;34m=\u001b[0m \u001b[0mself\u001b[0m\u001b[0;34m.\u001b[0m\u001b[0m_sslobj\u001b[0m\u001b[0;34m.\u001b[0m\u001b[0mread\u001b[0m\u001b[0;34m(\u001b[0m\u001b[0mlen\u001b[0m\u001b[0;34m,\u001b[0m \u001b[0mbuffer\u001b[0m\u001b[0;34m)\u001b[0m\u001b[0;34m\u001b[0m\u001b[0m\n\u001b[0m\u001b[1;32m    632\u001b[0m         \u001b[0;32melse\u001b[0m\u001b[0;34m:\u001b[0m\u001b[0;34m\u001b[0m\u001b[0m\n\u001b[1;32m    633\u001b[0m             \u001b[0mv\u001b[0m \u001b[0;34m=\u001b[0m \u001b[0mself\u001b[0m\u001b[0;34m.\u001b[0m\u001b[0m_sslobj\u001b[0m\u001b[0;34m.\u001b[0m\u001b[0mread\u001b[0m\u001b[0;34m(\u001b[0m\u001b[0mlen\u001b[0m\u001b[0;34m)\u001b[0m\u001b[0;34m\u001b[0m\u001b[0m\n",
      "\u001b[0;31mKeyboardInterrupt\u001b[0m: "
     ]
    }
   ],
   "source": [
    "print (\"Start : %s\" % time.ctime())\n",
    "numb_ann = 3\n",
    "df1 = pd.DataFrame(columns=['Price', 'Locali', 'Superficie', 'Bagni', 'Piano'] )\n",
    "count = 1\n",
    "i = 1\n",
    "\n",
    "while count < numb_ann:\n",
    "    url = \"https://www.immobiliare.it/vendita-case/roma/?criterio=rilevanza&pag=\"+str(i)\n",
    "    html = urlopen(url)\n",
    "    soup = BeautifulSoup(html, 'lxml')\n",
    "    #mydivs = soup.find_all(\"div\", {\"class\": \"listing-item_body--content\"})\n",
    "    i += 1\n",
    "    \n",
    "    all_links = soup.find_all('a')\n",
    "    links = []\n",
    "\n",
    "    for link in all_links:\n",
    "        if link.get('href')!= None:\n",
    "            links.append(link.get(\"href\"))\n",
    "\n",
    "    need_links = []\n",
    "    for item in links:\n",
    "        if item[-4:] == 'html' and item[0:5] == 'https':\n",
    "            site = urlopen(item)\n",
    "            page = BeautifulSoup(site, 'lxml')\n",
    "            need_links.append(page)\n",
    "    print(need_links)        \n",
    "    \n",
    "    for a in need_links:\n",
    "        ann = \"announcement_\"+ str(count)\n",
    "        #data = a.find_all(\"li\", {\"class\":\"lif__item\"})\n",
    "        data = a.find_all(\"div\", {\"class\": \"im-property__features\"})\n",
    "        print(len(data))\n",
    "        if len(data) == 6 and count <= numb_ann:\n",
    "            pr = price(data)\n",
    "            loc = locali(data)\n",
    "            mq = superficie(data)\n",
    "            bath = bagni(data) \n",
    "            floor = piano(data)\n",
    "            description = descrizione(need_links)\n",
    "            #print(description)\n",
    "            l = [pr, loc, mq, bath, floor, description]\n",
    "\n",
    "            df = pd.DataFrame([l], columns=['Price', 'Locali', 'Superficie', 'Bagni', 'Piano', 'Descrizione'])\n",
    "            count +=1\n",
    "            df1 = pd.concat([df1, df], ignore_index=True) \n",
    "            \n",
    "    # time.sleep(720)\n",
    "print (\"End : %s\" % time.ctime())"
   ]
  },
  {
   "cell_type": "code",
   "execution_count": null,
   "metadata": {},
   "outputs": [],
   "source": [
    "df1"
   ]
  },
  {
   "cell_type": "markdown",
   "metadata": {},
   "source": [
    "#### 2) Description"
   ]
  },
  {
   "cell_type": "code",
   "execution_count": 12,
   "metadata": {
    "scrolled": true
   },
   "outputs": [],
   "source": [
    "all_links = soup.find_all('a')\n",
    "links = []\n",
    "\n",
    "for link in all_links:\n",
    "    if link.get('href')!= None:\n",
    "        links.append(link.get(\"href\"))\n",
    "\n",
    "need_links = []\n",
    "for i in links:\n",
    "    if i[-4:] == 'html':\n",
    "        need_links.append(i)   "
   ]
  },
  {
   "cell_type": "code",
   "execution_count": 18,
   "metadata": {},
   "outputs": [],
   "source": [
    "def vocabulary_creation(word_list, previous_vocabulary):\n",
    "    #create an new dictionary from a previous one which could be empty\n",
    "    vocabulary=previous_vocabulary\n",
    "    #obtain last index of previous dictionary and set first index for 1st different element in this vocabulary\n",
    "    if len(previous_vocabulary)==0:\n",
    "        number=1\n",
    "    else:\n",
    "        number=previous_vocabulary[list(previous_vocabulary)[len(previous_vocabulary)-1]]+1\n",
    "    #adding new words to the vocabulary and omitting repeated ones\n",
    "    for lista in word_list:\n",
    "        for word in lista:\n",
    "            index=list(vocabulary.keys())\n",
    "            if word in index:\n",
    "                pass\n",
    "            else:\n",
    "                vocabulary[word]=number\n",
    "                number+=1\n",
    "    return vocabulary"
   ]
  },
  {
   "cell_type": "code",
   "execution_count": 20,
   "metadata": {},
   "outputs": [],
   "source": [
    "vocabulary={}\n",
    "aux=0\n",
    "# loop to generate a vocabulary from all the documents with title, description and city\n",
    "vocabulary_text = vocabulary_creation(description_words, vocabulary)\n",
    "vocabulary = vocabulary_text"
   ]
  },
  {
   "cell_type": "code",
   "execution_count": 26,
   "metadata": {},
   "outputs": [
    {
     "name": "stdout",
     "output_type": "stream",
     "text": [
      "{'div': 1, 'aria': 2, 'expand': 3, 'fals': 4, 'class': 5, 'col': 6, 'xs': 7, '12': 8, 'descript': 9, 'text': 10, 'compress': 11, 'role': 12, 'contentinfo': 13, 'papillo': 14, 'eur': 15, 'elegant': 16, 'complesso': 17, 'residenzial': 18, 'rifinitissimo': 19, 'bilocal': 20, 'composto': 21, 'soggiorno': 22, 'angolo': 23, 'cottura': 24, 'stanza': 25, 'letto': 26, 'bagno': 27, 'ampio': 28, 'balcon': 29, 'rifinitur': 30, 'pregio': 31, 'pavimenti': 32, 'parquet': 33, 'gree': 34, 'infissi': 35, 'legno': 36, 'vetro': 37, 'camera': 38, 'port': 39, 'noce': 40, 'grate': 41, 'salon': 42, 'riscaldamento': 43, 'termoautonomo': 44, 'caldaia': 45, 'centralizzata': 46, 'condizionata': 47, 'videocitofono': 48, 'porta': 49, 'blindata': 50, 'serramenti': 51, 'elettrici': 52, 'chiusura': 53, 'antenna': 54, 'satellitar': 55, 'isolamento': 56, 'termo': 57, 'acustico': 58, 'pannelli': 59, 'solari': 60, 'fotovoltaici': 61, 'rilevatori': 62, 'elettronici': 63, 'ga': 64, 'tutt': 65, 'camer': 66, 'fornit': 67, 'impianto': 68, 'antifurto': 69, 'presa': 70, 'telefonica': 71, 'br': 72, 'orari': 73, 'lunedi': 74, 'chiusi': 75, 'martedi': 76, '10': 77, '00': 78, '17': 79, 'mercoledi': 80, 'hr': 81, 'giovedi': 82, 'venrdi': 83, 'sabato': 84, 'domenica': 85, '13': 86, 'nomentana': 87, 'via': 88, 'pietralata': 89, '5': 90, 'minuti': 91, 'stazion': 92, 'metropolitana': 93, 'linea': 94, 'B': 95, 'monti': 96, 'tiburtini': 97, 'tangenzial': 98, 'est': 99, 'all': 100, 'interno': 101, 'gradevol': 102, 'ben': 103, 'curato': 104, 'comprensorio': 105, 'stabili': 106, 'cortina': 107, 'proponiamo': 108, 'vendita': 109, 'appartamento': 110, 'posto': 111, 'primo': 112, 'piano': 113, 'L': 114, 'immobil': 115, 'ingresso': 116, 'doppio': 117, '2': 118, 'matrimoniali': 119, 'cameretta': 120, 'cucina': 121, 'doppi': 122, 'servizi': 123, '3': 124, 'balconi': 125, 'tutti': 126, 'ambienti': 127, 'climatizzati': 128, 'autonomo': 129, 'pavimentazion': 130, 'completano': 131, 'proprietà': 132, 'auto': 133, 'coperto': 134, 'cantina': 135, 'rion': 136, 'campitelli': 137, 'adiacent': 138, 'teatro': 139, 'marcello': 140, 'portico': 141, 'd': 142, 'ottavia': 143, 'edificio': 144, '600': 145, 'due': 146, 'sole': 147, 'unità': 148, 'immobiliari': 149, 'ascensor': 150, 'privato': 151, 'videosorvegliato': 152, 'attico': 153, 'superattico': 154, 'trilivelli': 155, 'terzo': 156, 'quarto': 157, 'quinto': 158, 'terrazz': 159, 'rifinito': 160, 'molto': 161, 'luminoso': 162, 'ottimament': 163, 'esposto': 164, 'gode': 165, 'suggestiva': 166, 'vista': 167, 'panoramica': 168, '180': 169, 'bellezz': 170, 'roma': 171, 'sviluppa': 172, 'tre': 173, 'livelli': 174, 'quali': 175, 'dotati': 176, 'quadruplo': 177, 'otto': 178, 'finestr': 179, 'affaccio': 180, 'zona': 181, 'armadiatur': 182, 'lavanderia': 183, 'separata': 184, 'deliziosa': 185, 'sala': 186, 'pranzo': 187, 'sempr': 188, 'stesso': 189, 'dispensa': 190, 'illuminata': 191, 'caratteristico': 192, 'lucernaio': 193, 'delizioso': 194, 'terrazzino': 195, 'tetti': 196, 'campidoglio': 197, 'en': 198, 'suit': 199, 'studio': 200, 'dall': 201, 'accesso': 202, 'terrazzo': 203, 'staglia': 204, 'rovin': 205, 'aperta': 206, 'sinagoga': 207, 'costruzioni': 208, 'epoca': 209, 'medioeval': 210, 'resti': 211, 'romana': 212, 'fino': 213, 'arrivar': 214, 'ara': 215, 'coeli': 216, 'altar': 217, 'patria': 218, 'comodo': 219, 'monolocal': 220, 'terra': 221, 'completo': 222, 'muro': 223, 'ca': 224, '28': 225, 'mq': 226, 'seminterrato': 227, 'una': 228, 'locat': 229, 'esclusiva': 230, 'riservata': 231, 'contesto': 232, 'storico': 233, 'unico': 234, 'assoluto': 235, 'prestigio': 236, 'Le': 237, 'presenti': 238, 'informazioni': 239, 'planimetri': 240, 'merament': 241, 'indic': 242, 'costituiscono': 243, 'elementi': 244, 'contrattuali': 245, 'rif': 246, 'W': 247, '0259w7': 248, 'helio': 249, 'cordeiro': 250, 'teixeira': 251, 'tel': 252, '39': 253, '0': 254, '45': 255, '54': 256, '81': 257, '20': 258, 'nel': 259, 'quartier': 260, 'monteverd': 261, 'poch': 262, 'decin': 263, 'metri': 264, 'villa': 265, 'doria': 266, 'pamphili': 267, 'precisament': 268, 'silenziosa': 269, 'orti': 270, 'galba': 271, 'coldwel': 272, 'banker': 273, 'propon': 274, 'ultimo': 275, 'palazzina': 276, 'recentemen': 277, 'ripulita': 278, 'l': 279, 'compon': 280, 'marmo': 281, 'affacci': 282, 'verd': 283, 'dell': 284, 'attigua': 285, 'spazioso': 286, 'garantito': 287, 'ampia': 288, 'tinello': 289, 'La': 290, 'nott': 291, 'distribuita': 292, 'presenta': 293, 'composta': 294, 'grand': 295, 'disimpegno': 296, 'dotato': 297, 'soppalco': 298, 'spazios': 299, 'bagni': 300, 'ripostiglio': 301, 'box': 302, 'un': 303, 'inoltr': 304, 'inferri': 305, 'sistema': 306, 'allarm': 307, 'ottim': 308, 'condizioni': 309, 'abit': 310, 'ottima': 311, 'distribuzion': 312, 'spazi': 313, 'interni': 314, 'luminosità': 315, 'vicinanza': 316, 'parco': 317, 'capital': 318, 'nonché': 319, 'gianicolo': 320, 'rendono': 321, 'ideal': 322, 'famigli': 323, 'amanti': 324, '18101': 325, 'montagnola': 326, 'fontanellato': 327, 'A': 328, 'pochi': 329, 'passi': 330, 'falcon': 331, 'borsellino': 332, 'servita': 333, 'attività': 334, 'commerciali': 335, 'ogni': 336, 'gener': 337, '90mq': 338, 'rappresentanza': 339, 'abitabil': 340, 'matrimonial': 341, 'servizio': 342, 'giardino': 343, '200mq': 344, 'circa': 345, 'completa': 346, 'I': 347, 'dati': 348, 'intendono': 349, 'corretti': 350, 'garant': 351, 'present': 352, 'costituisc': 353, 'nessun': 354, 'caso': 355, 'documento': 356, 'contrattual': 357, 'inserisci': 358, 'cap': 359, 'ricever': 360, 'valutazion': 361, 'immediata': 362, 'tua': 363, 'casa': 364, 'entra': 365, 'sito': 366, 'web': 367, 'http': 368, 'www': 369, 'angeliniproperti': 370, 'it': 371, 'valuta': 372, 'la': 373, 'novità': 374, 'trovi': 375, 'canali': 376, 'social': 377, 'seguici': 378, 'instagram': 379, 'com': 380, 'la_tua_family_ag': 381, 'like': 382, 'facebook': 383, 'ref': 384, 'bookmark': 385, 'iscriv': 386, 'youtub': 387, 'channel': 388, 'uckylafeitvles6emft9l': 389, 'rA': 390, 'genserico': 391, 'fontana': 392, '105mq': 393, 'alto': 394, 'palazzo': 395, 'perfetto': 396, 'stato': 397, 'manutenzion': 398, 'completament': 399, 'ristrutturato': 400, 'materiali': 401, 'arredi': 402, 'design': 403, 'falegnameria': 404, 'misura': 405, 'mai': 406, 'abitato': 407, 'possibilità': 408, 'armadi': 409, 'gre': 410, 'porcellanato': 411, 'filo': 412, 'diffusion': 413, 'sonora': 414, 'ambient': 415, 'taglio': 416, 'termico': 417, 'comprensivo': 418, 'elettrodomestici': 419, 'categoria': 420, 'catastal': 421, 'valutasi': 422, 'permut': 423, 'progettazion': 424, 'realizzazion': 425, 'cura': 426, 'exclus': 427, 'home': 428, 'project': 429, 'exclusivehomeproject': 430, 'casal': 431, 'lumbroso': 432, 'aurelia': 433, 'MQ': 434, '87': 435, 'climatizzato': 436, 'accessoriato': 437, 'con': 438, 'E': 439, 'lato': 440, 'arnaldo': 441, 'cantani': 442, 'vicino': 443, 'complanar': 444, 'qualsiasi': 445, 'commercial': 446, 'bell': 447, '90': 448, 'energetica': 449, 'D': 450, 'ipe': 451, '57': 452, '03': 453, 'ubicato': 454, 'quattro': 455, 'piani': 456, 'dotata': 457, 'così': 458, 'giorno': 459, 'troviamo': 460, 'invec': 461, 'patronal': 462, 'vasca': 463, 'seconda': 464, 'secondo': 465, 'doccia': 466, 'buono': 467, 'conservativo': 468, 'portoncino': 469, 'blindato': 470, 'termoacustici': 471, 'scuola': 472, 'chiesa': 473, 'giochi': 474, 'comunal': 475, 'negozi': 476, 'pasticceri': 477, 'ristoranti': 478, 'fit': 479, 'campo': 480, 'calcio': 481, 'capolinea': 482, 'bu': 483, 'direttament': 484, 'metro': 485, 'vall': 486, 'supermercati': 487, 'rivenditori': 488, 'esclusivo': 489, 'piazza': 490, 'cancelleria': 491, 'dè': 492, 'fiori': 493, 'venduto': 494, 'nuda': 495, 'situato': 496, 'palazzetto': 497, 'piacevol': 498, 'finestra': 499, 'conduc': 500, 'esposizion': 501, 'angolar': 502, 'guardaroba': 503, 'idromassaggio': 504, 'bella': 505, 'comoda': 506, 'scala': 507, 'muratura': 508, 'superior': 509, 'stanz': 510, 'qui': 511, 'acced': 512, 'soleggiato': 513, 'panoramico': 514, 'soffitti': 515, 'luminosa': 516, 'esposizioni': 517, 'curata': 518, 'particolari': 519, 'ubicata': 520, 'bellissima': 521, 'compresa': 522, 'giulia': 523, 'monserrato': 524, 'farnes': 525, 'altro': 526, 'acquistar': 527, 'local': 528, 'diretto': 529, 'uso': 530, '35mq': 531, 'capient': 532, '45mq': 533, 'opportunità': 534, 'investimento': 535, '028tdx': 536, 'donatella': 537, 'palma': 538, '06': 539, 'nella': 540, 'part': 541, 'alta': 542, 'farnesina': 543, 'signoril': 544, 'condominio': 545, 'piscina': 546, 'portineria': 547, 'recentement': 548, 'dispon': 549, 'ingressi': 550, 'funzional': 551, 'suddivision': 552, 'ampi': 553, 'servit': 554, 'guest': 555, 'toilett': 556, 'gli': 557, 'alti': 558, 'numeros': 559, 'affacciano': 560, 'danno': 561, 'respiro': 562, '30mq': 563, 'adatto': 564, 'cerca': 565, 'soluzion': 566, 'riservatezza': 567, 'tranquillità': 568, 'pur': 569, 'rimanendo': 570, 'collegata': 571, 'centro': 572, 'città': 573, '02aswi': 574, 'flaminia': 575, 'meloni': 576, 'piccolomini': 577, 'vie': 578, 'eleganti': 579, 'prestigios': 580, 'coperti': 581, 'terrazza': 582, 'livello': 583, 'oltr': 584, '100mq': 585, 'cupola': 586, 'san': 587, 'pietro': 588, 'padronali': 589, 'ospiti': 590, 'risultano': 591, 'particolarment': 592, 'luminosi': 593, 'grazi': 594, 'altezza': 595, 'quadrupla': 596, 'meravigliosa': 597, 'realizzato': 598, 'boiseri': 599, 'jacuzzi': 600, 'consentir': 601, 'agevoli': 602, 'personalizzazioni': 603, 'planimetrich': 604, 'versatilità': 605, 'Di': 606, 'pertinenza': 607, 'condominial': 608, 'ubicazion': 609, 'ricca': 610, 'essenziali': 611, 'parchi': 612, 'scuol': 613, 'università': 614, 'mezzi': 615, 'trasporto': 616, 'esercizi': 617, 'tipologia': 618, 'affascinant': 619, 'abitativa': 620, 'prestigiosa': 621, 'professionisti': 622, 'descrizion': 623, 'posizion': 624, 'cuor': 625, 'zone': 626, 'architettonich': 627, 'ridosso': 628, 'vaticano': 629, 'offr': 630, 'principali': 631, 'nell': 632, 'parioli': 633, 'splendita': 634, 'cornic': 635, 'muse': 636, 'Re': 637, 'prestigioso': 638, 'ufficio': 639, 'stabil': 640, 'bene': 641, 'adeguata': 642, 'utilizzo': 643, 'specifico': 644, 'costituito': 645, 'recept': 646, 'attesa': 647, '6': 648, 'riunioni': 649, 'interrato': 650, 'internament': 651, 'perfett': 652, 'parti': 653, 'edili': 654, 'impiantistich': 655, 'oggetto': 656, 'recent': 657, 'radical': 658, 'ristrutturazion': 659, 'qualità': 660, 'finitura': 661, 'esterni': 662, 'alluminio': 663, 'vetrocamera': 664, 'antisfondamento': 665, 'ottimo': 666, 'spessor': 667, 'garanzia': 668, 'adeguato': 669, 'totalment': 670, 'cablato': 671, 'canalizzato': 672, 'caldo': 673, 'freddo': 674, 'controsoffitti': 675, 'faretti': 676, 'filodifussion': 677, 'area': 678, 'pubblici': 679, 'superfici': 680, 'line': 681, 'atac': 682, 'consentono': 683, 'rapido': 684, 'collegamento': 685, 'termini': 686, 'raggiungibil': 687, 'facilment': 688, 'vicina': 689, 'ferroviaria': 690, 'nord': 691, 'euclid': 692, 'eleganza': 693, 'funzionalità': 694, 'professionali': 695, 'esclus': 696, 'Si': 697, 'investitori': 698, 'occupato': 699, 'reddito': 700, 'camino': 701, 'cinqu': 702, 'hobbi': 703, 'cucinotto': 704, '1000': 705, 'triplo': 706, 'permuta': 707, '795p': 708, '83964019': 709, 'for': 710, 'sale': 711, 'represent': 712, 'great': 713, 'finish': 714, 'larg': 715, 'entranc': 716, 'hall': 717, 'quadrupl': 718, 'with': 719, 'fireplac': 720, 'five': 721, 'bedroom': 722, 'kitchen': 723, 'dine': 724, 'room': 725, 'four': 726, 'servic': 727, 'kitchenett': 728, 'and': 729, 'laundri': 730, 'garden': 731, 'sqm': 732, 'approx': 733, 'tripl': 734, 'balduina': 735, 'adiacenz': 736, 'libero': 737, 'finement': 738, 'arredata': 739, 'dilazioni': 740, '1034m': 741, '5343497': 742, 'apart': 743, 'adjac': 744, 'free': 745, 'bright': 746, 'tast': 747, 'renov': 748, 'live': 749, 'furnish': 750, 'bathroom': 751, 'possibl': 752, 'second': 753, 'cellar': 754, 'dilut': 755, 'swap': 756, 'boccea': 757, 'collina': 758, 'tranquillo': 759, '35': 760, '992b': 761, '35341280': 762, 'complet': 763, 'quiet': 764, 'doubl': 765, 'two': 766, 'terrac': 767, 'of': 768, 'depreci': 769, 'trade': 770, '18028': 771, 'torr': 772, 'maura': 773, 'silicella': 774, 'immedi': 775, 'vicinanz': 776, 'casilina': 777, 'fermata': 778, 'C': 779, '60mq': 780, '10mq': 781, 'posti': 782, 'In': 783, 'anni': 784, '40': 785, '204': 786, 'studi': 787, 'case': 788, 'signorili': 789, 'ristrutturar': 790, 'rialzato': 791, '1': 792, 'interna': 793, 'collega': 794, 'vano': 795, 'tramit': 796, 'contabilizzatori': 797, 'cod': 798, '9836': 799, 'splendida': 800, 'navona': 801, 'aperti': 802, 'storica': 803, 'pasquino': 804, 'seicento': 805, 'sfogo': 806, 'esterno': 807, 'balconcini': 808, 'consent': 809, 'necessari': 810, 'lavori': 811, 'personalizzazion': 812, 'soddisfar': 813, 'molteplici': 814, 'esigenz': 815, 'rappresenta': 816, 'rara': 817, 'voless': 818, 'godersi': 819, 'vita': 820, 'parion': 821, 'oppur': 822, 'fare': 823, 'solido': 824, '0296pq': 825, 'vecchio': 826, 'richiest': 827, 'dandolo': 828, 'metratura': 829, 'finitur': 830, 'situata': 831, 'tenuto': 832, 'splendido': 833, 'ornato': 834, 'alberi': 835, 'fusto': 836, 'bellissimo': 837, 'funzionant': 838, 'decorati': 839, 'mano': 840, 'risaltando': 841, 'Un': 842, 'dona': 843, 'luce': 844, 'immett': 845, 'Il': 846, 'comunica': 847, 'ulterior': 848, 'spaziosa': 849, 'comfort': 850, 'verso': 851, 'apprezzabil': 852, 'caratterizzata': 853, 'grandissim': 854, 'entramb': 855, 'svilupp': 856, 'relativi': 857, 'offrono': 858, 'poter': 859, 'gestir': 860, 'grandi': 861, 'specifich': 862, 'può': 863, 'ospitar': 864, 'autovettura': 865, 'paio': 866, 'ciclomotori': 867, 'antistant': 868, 'collegato': 869, 'strategicament': 870, 'posizionato': 871, 'crocevia': 872, 'sciarra': 873, 'esclusività': 874, 'sfruttando': 875, 'vantaggi': 876, '026isa': 877, 'zaccanopoli': 878, 'traversa': 879, 'gasperina': 880, 'anagnina': 881, 'tuscolana': 882, 'prossimità': 883, 'ikea': 884, 'trilocal': 885, 'eccellenti': 886, 'trova': 887, 'soli': 888, 'caratterizzato': 889, 'conferiscono': 890, 'particolar': 891, 'confortevol': 892, 'affaccia': 893, 'abitazion': 894, 'trovato': 895, 'spazio': 896, 'lavatric': 897, 'lavandino': 898, 'motor': 899, 'corridoio': 900, 'introduc': 901, 'stata': 902, 'ristrutturata': 903, 'capienti': 904, 'soppalchi': 905, 'manutentivo': 906, 'tale': 907, 'richieder': 908, 'alcun': 909, 'intervento': 910, 'restauro': 911, 'perfetta': 912, 'giovan': 913, 'coppia': 914, '02ctil': 915, 'laura': 916, 'rosati': 917, 'bartolomeo': 918, 'dusi': 919, 'n': 920, '18': 921, 'maxdirocco': 922, 'viver': 923, 'significa': 924, 'regalar': 925, 'te': 926, 'famiglia': 927, 'straordinaria': 928, 'chiudi': 929, 'occhi': 930, 'immagina': 931, 'riposo': 932, 'senti': 933, 'pell': 934, 'primi': 935, 'raggi': 936, 'mattino': 937, 'illuminano': 938, 'pensa': 939, 'aperitivi': 940, 'amici': 941, 'tramonto': 942, 'dolc': 943, 'musica': 944, 'sottofondo': 945, 'aurelio': 946, 'front': 947, 'clinica': 948, 'pio': 949, 'XI': 950, 'vuoto': 951, 'ovest': 952, 'sud': 953, 'divisibil': 954, 'ampliamento': 955, 'total': 956, 'ragguagliata': 957, '166': 958, '04': 959, 'disponibili': 960, 'rilievi': 961, 'metrici': 962, 'ipotesi': 963, 'redatti': 964, 'architetto': 965, 'possibil': 966, 'ricavar': 967, 'alternativa': 968, 'persino': 969, 'terrazzi': 970, 'È': 971, 'disponibil': 972, 'relazion': 973, 'notaio': 974, 'certifica': 975, 'commerciabilità': 976, 'immobili': 977, 'finanziamenti': 978, 'tassi': 979, 'agevolati': 980, 'acquisto': 981, 'attestato': 982, 'prestazion': 983, 'G': 984, '253': 985, '7': 986, 'kwh': 987, 'm²anno': 988, 'fabbricato': 989, 'dichiarato': 990, 'certificato': 991, '331del': 992, '1983': 993, 'costruito': 994, 'struttura': 995, 'cemento': 996, 'armato': 997, 'solai': 998, 'laterocemento': 999, 'tamponatur': 1000, 'estern': 1001, 'forati': 1002, 'intonacati': 1003, 'rivestimento': 1004, 'villini': 1005, '36': 1006, 'appartamenti': 1007, 'adibito': 1008, 'fuori': 1009, 'vaillant': 1010, '2012': 1011, 'necessaria': 1012, 'utenz': 1013, 'state': 1014, 'disattiv': 1015, 'acqua': 1016, 'spese': 1017, 'condominiali': 1018, 'mensili': 1019, 'ammontano': 1020, '120': 1021, 'servito': 1022, 'fitta': 1023, 'rete': 1024, 'trasporti': 1025, '246': 1026, '246p': 1027, '247': 1028, 'km': 1029, 'cornelia': 1030, 'grado': 1031, 'molti': 1032, 'privati': 1033, 'posta': 1034, 'banch': 1035, 'supermercato': 1036, 'carrefour': 1037, 'Dr': 1038, 'massimo': 1039, 'rocco': 1040, 'agent': 1041, 'consulent': 1042, 'immobiliar': 1043, '339': 1044, '77': 1045, '23': 1046, '683': 1047, 'de': 1048, 'xvi': 1049, 'secolo': 1050, 'continuità': 1051, 'urbanistica': 1052, 'costruita': 1053, 'sull': 1054, 'antico': 1055, 'tracciato': 1056, 'pompeo': 1057, 'balconcino': 1058, 'cabina': 1059, 'armadio': 1060, 'presta': 1061, 'distint': 1062, 'ripristino': 1063, 'mentr': 1064, 'diversa': 1065, 'redistribuzion': 1066, 'creazion': 1067, 'darebb': 1068, 'escluder': 1069, 'ricettivo': 1070, '02c71a': 1071, 'acquedotti': 1072, 'lemonia': 1073, 'circonvallazion': 1074, '70': 1075, 'stile': 1076, 'arredamento': 1077, 'caratteristich': 1078, '80': 1079, 'protetto': 1080, 'sicurezza': 1081, 'ferro': 1082, 'sorvegliato': 1083, 'durant': 1084, 'mese': 1085, 'agosto': 1086, '02b16h': 1087, 'francesco': 1088, 'elia': 1089, 'vial': 1090, 'cesar': 1091, 'paves': 1092, 'salvator': 1093, 'quasimodo': 1094, '113': 1095, 'circolo': 1096, 'ferratella': 1097, 'serena': 1098, 'tranquilla': 1099, 'davanti': 1100, 'senza': 1101, 'stress': 1102, 'impegno': 1103, 'giardinier': 1104, 'sportivo': 1105, 'consiglia': 1106, 'collegarsi': 1107, 'video': 1108, 'foto': 1109, 'virtual': 1110, 'tour': 1111, 'progetto': 1112, 'estrarr': 1113, 'copia': 1114, 'sita': 1115, 'doppia': 1116, 'attualment': 1117, 'entrambi': 1118, '150': 1119, '25': 1120, 'piccoli': 1121, 'interventi': 1122, 'crear': 1123, 'autonomi': 1124, 'adiacenti': 1125, 'altra': 1126, 'singol': 1127, 'inesistenza': 1128, 'gravami': 1129, 'libera': 1130, 'epgl': 1131, 'nren': 1132, '59': 1133, '5660': 1134, 'edificato': 1135, 'virtù': 1136, 'licenza': 1137, 'edilizia': 1138, '240': 1139, 'rilasciata': 1140, '24': 1141, '1975': 1142, 'variant': 1143, '2432': 1144, '22': 1145, '1979': 1146, '271': 1147, '11': 1148, '1981': 1149, 'precompresso': 1150, '9': 1151, 'cantin': 1152, 'piloti': 1153, 'copertura': 1154, 'piana': 1155, 'esternament': 1156, 'per': 1157, 'ulteriori': 1158, 'caroncini': 1159, 'tardi': 1160, '50': 1161, 'intera': 1162, 'giornata': 1163, 'videosorveglianza': 1164, 'balconata': 1165, 'necessita': 1166, 'planimetria': 1167, 'esser': 1168, 'redistribuita': 1169, 'presenza': 1170, 'tramezzatur': 1171, 'intern': 1172, 'ipotizzar': 1173, 'casastudio': 1174, 'ottener': 1175, 'alcuni': 1176, 'utilizzabili': 1177, 'liberament': 1178, 'condomini': 1179, 'disponibilità': 1180, 'strada': 1181, 'privata': 1182, 'chiusa': 1183, 'baricentrica': 1184, 'punti': 1185, 'ungheria': 1186, '02bg0m': 1187, 'bernabò': 1188, 'silorata': 1189}\n"
     ]
    }
   ],
   "source": [
    "print(vocabulary)"
   ]
  },
  {
   "cell_type": "code",
   "execution_count": 27,
   "metadata": {},
   "outputs": [
    {
     "data": {
      "text/plain": [
       "1189"
      ]
     },
     "execution_count": 27,
     "metadata": {},
     "output_type": "execute_result"
    }
   ],
   "source": [
    "len(vocabulary)"
   ]
  },
  {
   "cell_type": "code",
   "execution_count": 24,
   "metadata": {},
   "outputs": [],
   "source": [
    "with open('data/vocabulary.tsv', 'w') as f: #vocabulary with all words is written in file 'vocabulary.tsv'\n",
    "    json.dump(vocabulary, f) \n",
    "f.close()"
   ]
  },
  {
   "cell_type": "code",
   "execution_count": 30,
   "metadata": {},
   "outputs": [],
   "source": [
    "#functions defined in order to calculate the tfIdf coefficient\n",
    "def N(df1):\n",
    "    #number of documents in the collection\n",
    "    return len(df1)\n",
    "\n",
    "def df_t(word, df1):\n",
    "    #number of documents in the collection that contain a term t\n",
    "    counter=0\n",
    "    for lista in df1:\n",
    "        if word in lista:\n",
    "            counter+=1\n",
    "    return counter\n",
    "\n",
    "def tf_t_d(word,lista):\n",
    "    #term frequency:number of ocurrence of term t in document d\n",
    "    return lista.count(word)\n",
    "\n",
    "def id_f_t(word, df1):\n",
    "    #inverse document frequency of a term t\n",
    "    return log(len(df1)/df_t(word, df1),10)\n",
    "\n",
    "def tf_idf(word,lista,df1):\n",
    "    #tf_idf of a term in a document of a collection N\n",
    "    return tf_t_d(word,lista)*id_f_t(word, df1)\n",
    "\n",
    "def inverted_index_creation_tfIdf(vocabulary, df1):  \n",
    "    #function that creates inverted_index with coefficient tfIdf from all the documents\n",
    "    inverted_index={}\n",
    "    n=1\n",
    "    \n",
    "    for lista in df1:          \n",
    "         #loop for each word of the document create a new key if the word is not in the dictionary \n",
    "         #add the number of the document to an existing key is the word is in the dictionary\n",
    "         #tfIdf coefficient of each term is also added\n",
    "        for word in set(lista):\n",
    "    \n",
    "            index=list(vocabulary.values())\n",
    "            if vocabulary[word] in list(inverted_index.keys()):\n",
    "                inverted_index[vocabulary[word]]=(inverted_index[vocabulary[word]])+[(\"announcement_\"+str(n),tf_idf(word,lista,df1))]\n",
    "            else:\n",
    "                inverted_index[int(vocabulary[word])]=[(\"announcement_\"+str(n),tf_idf(word,lista,df1))]\n",
    "        \n",
    "        n+=1\n",
    "\n",
    "    with open('data/inverted_index_tfIdf.tsv', 'w') as f1: #write the inverted index in a file called \"inverted_index_tfIdf.tsv\"\n",
    "        json.dump(inverted_index, f1)\n",
    "        f1.close()\n",
    "    return inverted_index \n",
    "\n"
   ]
  },
  {
   "cell_type": "markdown",
   "metadata": {},
   "source": [
    "We need to calculate the **TF-IDF** of all the words, that is defined as the \"term frequency\" times the \"inverse document frequency\" where:\n",
    "- \"term frequency\" is the ratio between the number of the term occurencies in the document and the total number of words in the document;\n",
    "- \"inverse document frequency\" is the logarithm of the ratio between the total number of documents and the number of documents containing the term (plus 1 to avoid division by zero).\n",
    "\n",
    "IDF is indipendent from the specific document, thus we can calculate it once and use it when we need it. Each term will have a single IDF."
   ]
  },
  {
   "cell_type": "code",
   "execution_count": 32,
   "metadata": {},
   "outputs": [
    {
     "ename": "NameError",
     "evalue": "name 'docd' is not defined",
     "output_type": "error",
     "traceback": [
      "\u001b[0;31m---------------------------------------------------------------------------\u001b[0m",
      "\u001b[0;31mNameError\u001b[0m                                 Traceback (most recent call last)",
      "\u001b[0;32m<ipython-input-32-5c641cb7d92c>\u001b[0m in \u001b[0;36m<module>\u001b[0;34m()\u001b[0m\n\u001b[1;32m      2\u001b[0m \u001b[0minverted_index\u001b[0m \u001b[0;34m=\u001b[0m \u001b[0;34m{\u001b[0m\u001b[0;34m}\u001b[0m\u001b[0;34m\u001b[0m\u001b[0m\n\u001b[1;32m      3\u001b[0m \u001b[0;34m\u001b[0m\u001b[0m\n\u001b[0;32m----> 4\u001b[0;31m \u001b[0;32mfor\u001b[0m \u001b[0mkey\u001b[0m\u001b[0;34m,\u001b[0m \u001b[0mvalue\u001b[0m \u001b[0;32min\u001b[0m \u001b[0mdocd\u001b[0m\u001b[0;34m.\u001b[0m\u001b[0mitems\u001b[0m\u001b[0;34m(\u001b[0m\u001b[0;34m)\u001b[0m\u001b[0;34m:\u001b[0m\u001b[0;34m\u001b[0m\u001b[0m\n\u001b[0m\u001b[1;32m      5\u001b[0m     \u001b[0;32mfor\u001b[0m \u001b[0mi\u001b[0m \u001b[0;32min\u001b[0m \u001b[0msorted\u001b[0m\u001b[0;34m(\u001b[0m\u001b[0mlist\u001b[0m\u001b[0;34m(\u001b[0m\u001b[0mset\u001b[0m\u001b[0;34m(\u001b[0m\u001b[0mvalue\u001b[0m\u001b[0;34m)\u001b[0m\u001b[0;34m)\u001b[0m\u001b[0;34m)\u001b[0m\u001b[0;34m:\u001b[0m\u001b[0;34m\u001b[0m\u001b[0m\n\u001b[1;32m      6\u001b[0m         \u001b[0;32mif\u001b[0m \u001b[0;34m(\u001b[0m\u001b[0mvocabulary\u001b[0m\u001b[0;34m[\u001b[0m\u001b[0mi\u001b[0m\u001b[0;34m]\u001b[0m \u001b[0;32min\u001b[0m \u001b[0minverted_index\u001b[0m\u001b[0;34m)\u001b[0m\u001b[0;34m:\u001b[0m\u001b[0;34m\u001b[0m\u001b[0m\n",
      "\u001b[0;31mNameError\u001b[0m: name 'docd' is not defined"
     ]
    }
   ],
   "source": [
    "# inverted index \n",
    "inverted_index = {}  \n",
    "\n",
    "for key, value in .items():\n",
    "    for i in sorted(list(set(value))):\n",
    "        if (vocabulary[i] in inverted_index):\n",
    "            inverted_index[vocabulary[i]] = inverted_index[vocabulary[i]] + [key]\n",
    "        else:\n",
    "            inverted_index[vocabulary[i]] = [key]"
   ]
  },
  {
   "cell_type": "code",
   "execution_count": null,
   "metadata": {},
   "outputs": [],
   "source": [
    "# dictionary with idf of all word\n",
    "idf = {}\n",
    "n_ann = len(df1)\n",
    "\n",
    "for term_id, doc in inverted_docd.items():\n",
    "    idf[term_id] = pd.np.log(n_ann/(1+len(doc)))"
   ]
  }
 ],
 "metadata": {
  "kernelspec": {
   "display_name": "Python 3",
   "language": "python",
   "name": "python3"
  },
  "language_info": {
   "codemirror_mode": {
    "name": "ipython",
    "version": 3
   },
   "file_extension": ".py",
   "mimetype": "text/x-python",
   "name": "python",
   "nbconvert_exporter": "python",
   "pygments_lexer": "ipython3",
   "version": "3.6.5"
  }
 },
 "nbformat": 4,
 "nbformat_minor": 2
}
